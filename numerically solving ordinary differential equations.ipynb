{
  "nbformat": 4,
  "nbformat_minor": 0,
  "metadata": {
    "kernelspec": {
      "display_name": "Python 3",
      "language": "python",
      "name": "python3"
    },
    "language_info": {
      "codemirror_mode": {
        "name": "ipython",
        "version": 3
      },
      "file_extension": ".py",
      "mimetype": "text/x-python",
      "name": "python",
      "nbconvert_exporter": "python",
      "pygments_lexer": "ipython3",
      "version": "3.8.5"
    },
    "colab": {
      "name": "Week8_python.ipynb",
      "provenance": [],
      "collapsed_sections": []
    }
  },
  "cells": [
    {
      "cell_type": "code",
      "metadata": {
        "id": "UHYTsxbhFv6L"
      },
      "source": [
        "import numpy as np\n",
        "import matplotlib.pyplot as plt"
      ],
      "execution_count": null,
      "outputs": []
    },
    {
      "cell_type": "markdown",
      "metadata": {
        "id": "A8XmcADTFv6N"
      },
      "source": [
        "# Week 8:  Numerically Solving ODEs "
      ]
    },
    {
      "cell_type": "markdown",
      "metadata": {
        "id": "BvAtjQ6rFv6O"
      },
      "source": [
        "## Forward Euler\n",
        "First, let's try to solve the initial value problem \n",
        "\n",
        "$\\dot{x} = \\lambda x$ and $x(0) = x_0$\n",
        "\n",
        "with $\\lambda = 0.5$ and $x_0 = 1$.  We know that the true solution is \n",
        "\n",
        "$x(t) = x_0e^{\\lambda t} = e^{0.5t}$.  \n",
        "\n",
        "We can plot this true solution with the code "
      ]
    },
    {
      "cell_type": "code",
      "metadata": {
        "id": "zQvgDBX2Fv6P"
      },
      "source": [
        "lam = 0.5\n",
        "x0 = 1\n",
        "x_true = lambda t: x0 * np.exp(lam * t)"
      ],
      "execution_count": null,
      "outputs": []
    },
    {
      "cell_type": "code",
      "metadata": {
        "colab": {
          "base_uri": "https://localhost:8080/",
          "height": 282
        },
        "id": "BCz_ddF-Fv6P",
        "outputId": "b6879e55-6733-4420-a94f-39eee3afd505"
      },
      "source": [
        "tplot = np.linspace(0, 4, 1000)\n",
        "plt.plot(tplot, x_true(tplot), 'k')"
      ],
      "execution_count": null,
      "outputs": [
        {
          "output_type": "execute_result",
          "data": {
            "text/plain": [
              "[<matplotlib.lines.Line2D at 0x7fdc1f68fad0>]"
            ]
          },
          "metadata": {
            "tags": []
          },
          "execution_count": 4
        },
        {
          "output_type": "display_data",
          "data": {
            "image/png": "[encoded data removed]",
            "text/plain": [
              "<Figure size 432x288 with 1 Axes>"
            ]
          },
          "metadata": {
            "tags": [],
            "needs_background": "light"
          }
        }
      ]
    },
    {
      "cell_type": "markdown",
      "metadata": {
        "id": "LNxIR9nNFv6R"
      },
      "source": [
        "If we want to solve this numerically, the first thing we have to do is choose the $t$ values that we want to approximate $x$ at.  Since we always choose evenly spaced $t$'s that start at $t_0 = 0$, this means that we have to choose a spacing $\\Delta t$ and a final time $T$.  For no particular reason, let's choose $\\Delta t = 0.1$ and $T = 4$.  "
      ]
    },
    {
      "cell_type": "code",
      "metadata": {
        "id": "HU5BelNgFv6R"
      },
      "source": [
        "dt = 0.1\n",
        "T = 4\n",
        "t = np.arange(0, T + dt, dt)"
      ],
      "execution_count": null,
      "outputs": []
    },
    {
      "cell_type": "markdown",
      "metadata": {
        "id": "ZtO9rMP4Fv6S"
      },
      "source": [
        "We want to find an approximation of $x$ at each of these $t$ values.  The most convenient way to store these approximations in python is to make a 1D array of $x$'s that is the same size as the array `t`.  "
      ]
    },
    {
      "cell_type": "code",
      "metadata": {
        "id": "mGd8AjoJFv6S"
      },
      "source": [
        "n = t.size\n",
        "x = np.zeros(n)"
      ],
      "execution_count": null,
      "outputs": []
    },
    {
      "cell_type": "markdown",
      "metadata": {
        "id": "_erXBaQAFv6S"
      },
      "source": [
        "The first entry of `x` will contain the approximation at the first t, the second entry of `x` will contain the approximation at the second t, etc.  In particular, we already know that the first entry of `x` should just be the initial condition.  "
      ]
    },
    {
      "cell_type": "code",
      "metadata": {
        "id": "0dlSFsjAFv6T"
      },
      "source": [
        "x[0] = x0"
      ],
      "execution_count": null,
      "outputs": []
    },
    {
      "cell_type": "markdown",
      "metadata": {
        "id": "K-yHCjIlFv6T"
      },
      "source": [
        "The meat of the algorithm comes when we fill in the rest of the array `x`.  We know that we need to use the formula $x_{k+1} = x_k + \\Delta t f(t_k, x_k)$.  Since $f$ is just the right hand side of our differential equation, we know that $f(t, x) = \\lambda x$, so the forward Euler equation is just $x_{k+1} = x_k + \\Delta t\\lambda x_k$.  To use this formula over and over again, we should put it in a loop, so the code will look like \n",
        "\n",
        "`for k in range(something):\n",
        "    x[k + 1] = x[k] + dt * lam * x[k]`\n",
        "    \n",
        "The only question is what to use for the bounds of k.  Remember that we want to fill in all n entries of the vector `x`, one after the other.  The first entry (at index 0) is already done, so the first one we have to do in the loop is `x[1]`, which means k should start at 0.  The last entry we have to do in the loop is `x[n-1]` (because `n-1` is the last valid index), which means k should go up to but not include `n-1`.  This means that our final code should look like this: "
      ]
    },
    {
      "cell_type": "code",
      "metadata": {
        "id": "PBBcEv_cFv6U"
      },
      "source": [
        "for k in range(n-1):\n",
        "    x[k + 1] = x[k] + dt * lam * x[k]"
      ],
      "execution_count": null,
      "outputs": []
    },
    {
      "cell_type": "markdown",
      "metadata": {
        "id": "CbWpSwVhFv6U"
      },
      "source": [
        "We have now filled in the entire array `x` and we can plot it to see how well we did.  "
      ]
    },
    {
      "cell_type": "code",
      "metadata": {
        "colab": {
          "base_uri": "https://localhost:8080/",
          "height": 299
        },
        "id": "738ghrsfFv6U",
        "outputId": "c7236926-b1cd-45b5-fa38-77997ec31b1e"
      },
      "source": [
        "plt.plot(tplot, x_true(tplot), 'k', t, x, 'r')"
      ],
      "execution_count": null,
      "outputs": [
        {
          "output_type": "execute_result",
          "data": {
            "text/plain": [
              "[<matplotlib.lines.Line2D at 0x7fdc1f10bdd0>,\n",
              " <matplotlib.lines.Line2D at 0x7fdc1f0dba10>]"
            ]
          },
          "metadata": {
            "tags": []
          },
          "execution_count": 10
        },
        {
          "output_type": "display_data",
          "data": {
            "image/png": "[encoded data removed]",
            "text/plain": [
              "<Figure size 432x288 with 1 Axes>"
            ]
          },
          "metadata": {
            "tags": [],
            "needs_background": "light"
          }
        }
      ]
    },
    {
      "cell_type": "markdown",
      "metadata": {
        "id": "_RNH0d-bFv6V"
      },
      "source": [
        "This approximation doesn't look too bad.  We can quantify just how good or bad it is by calculating the error.  If we want to know the local accuracy, we can check the error at our first approximation (which is actually the second $x$ value, since the first one is exact).  "
      ]
    },
    {
      "cell_type": "code",
      "metadata": {
        "id": "VP1f8Ug7Fv6V",
        "outputId": "2f2cccf2-6187-4652-bc38-f6d9707c0a9b"
      },
      "source": [
        "err_local = np.abs(x[1] - x_true(t[1]))\n",
        "print(err_local)"
      ],
      "execution_count": null,
      "outputs": [
        {
          "output_type": "stream",
          "text": [
            "0.0012710963760240723\n"
          ],
          "name": "stdout"
        }
      ]
    },
    {
      "cell_type": "markdown",
      "metadata": {
        "id": "6fMBgE67Fv6V"
      },
      "source": [
        "If we want to know the global accuracy, we can check the error at our last approximation.  "
      ]
    },
    {
      "cell_type": "code",
      "metadata": {
        "id": "tm6Ho0PyFv6V",
        "outputId": "3a053fd8-9e16-436d-97ff-3bcb86e90f65"
      },
      "source": [
        "err_global = np.abs(x[-1] - x_true(t[-1]))\n",
        "print(err_global)"
      ],
      "execution_count": null,
      "outputs": [
        {
          "output_type": "stream",
          "text": [
            "0.34906738680600213\n"
          ],
          "name": "stdout"
        }
      ]
    },
    {
      "cell_type": "markdown",
      "metadata": {
        "id": "qsqXF6kDFv6W"
      },
      "source": [
        "Another useful measure of accuracy is the maximum error.  That is, we find the alrgest error out of all of our approximations.  It turns out (and we will verify this for our examples) that the maximum error may or may not be the same value as the global error, but it does have the same order.  (That is, it behaves the same way when we reduce $\\Delta t$.)"
      ]
    },
    {
      "cell_type": "code",
      "metadata": {
        "id": "C_LzdhLPFv6W",
        "outputId": "a78b8a4d-d8c3-4767-98ef-32af09a4ac99"
      },
      "source": [
        "err_max = np.max(np.abs(x - x_true(t)))\n",
        "print(err_max)"
      ],
      "execution_count": null,
      "outputs": [
        {
          "output_type": "stream",
          "text": [
            "0.34906738680600213\n"
          ],
          "name": "stdout"
        }
      ]
    },
    {
      "cell_type": "markdown",
      "metadata": {
        "id": "aJ-ZSSkCFv6W"
      },
      "source": [
        "We can confirm the local and global orders of accuracy by reducing $\\Delta t$ and checking how these errors change.  For instance, if we reduce $\\Delta t$ by a factor of ten then we get "
      ]
    },
    {
      "cell_type": "code",
      "metadata": {
        "id": "94TJgah1Fv6W"
      },
      "source": [
        "dt = 0.01\n",
        "T = 4\n",
        "t = np.arange(0, T + dt, dt)\n",
        "\n",
        "n = t.size\n",
        "x = np.zeros(n)\n",
        "x[0] = x0\n",
        "\n",
        "for k in range(n - 1):\n",
        "    x[k + 1] = x[k] + dt * lam * x[k]"
      ],
      "execution_count": null,
      "outputs": []
    },
    {
      "cell_type": "code",
      "metadata": {
        "id": "1AeSkZ5oFv6X",
        "outputId": "9f2d0f06-9cee-47bd-bed2-784fabefb3ad"
      },
      "source": [
        "err_local = np.abs(x[1] - x_true(t[1]))\n",
        "print(err_local)"
      ],
      "execution_count": null,
      "outputs": [
        {
          "output_type": "stream",
          "text": [
            "1.2520859401066176e-05\n"
          ],
          "name": "stdout"
        }
      ]
    },
    {
      "cell_type": "code",
      "metadata": {
        "id": "WxrMl9B7Fv6X",
        "outputId": "4bee352e-a398-4f93-875f-e3ae561d4302"
      },
      "source": [
        "err_global = np.abs(x[-1] - x_true(t[-1]))\n",
        "print(err_global)"
      ],
      "execution_count": null,
      "outputs": [
        {
          "output_type": "stream",
          "text": [
            "0.03673099099145727\n"
          ],
          "name": "stdout"
        }
      ]
    },
    {
      "cell_type": "code",
      "metadata": {
        "id": "msakqxYHFv6Y",
        "outputId": "865fb7cc-fe05-4e9b-a189-36bca8630ff3"
      },
      "source": [
        "err_max = np.max(np.abs(x - x_true(t)))\n",
        "print(err_max)"
      ],
      "execution_count": null,
      "outputs": [
        {
          "output_type": "stream",
          "text": [
            "0.03673099099145727\n"
          ],
          "name": "stdout"
        }
      ]
    },
    {
      "cell_type": "markdown",
      "metadata": {
        "id": "gHAJoNzlFv6Z"
      },
      "source": [
        "Notice that the local error went down by a factor of $10^2$, while the global and maximum errors only went down by a factor of 10.  This confirms that forward Euler has second order local accuracy and first order global accuracy.  "
      ]
    },
    {
      "cell_type": "markdown",
      "metadata": {
        "id": "zi71gAsCFv6a"
      },
      "source": [
        "We can also check the stability of forward Euler by solving this initial value problem over a much longer time.  Since the true solution is unstable, we expect that our forward Euler approximation will also be unstable, regardless of how big we make $\\Delta t$.  "
      ]
    },
    {
      "cell_type": "code",
      "metadata": {
        "colab": {
          "base_uri": "https://localhost:8080/",
          "height": 293
        },
        "id": "WLQYM7mGFv6a",
        "outputId": "ac428c8b-8d52-4b85-9a86-8a44404b23ad"
      },
      "source": [
        "dt = 10\n",
        "T = 200\n",
        "t = np.arange(0, T + dt, dt)\n",
        "\n",
        "n = t.size\n",
        "x = np.zeros(n)\n",
        "x[0] = x0\n",
        "\n",
        "for k in range(n - 1):\n",
        "    x[k + 1] = x[k] + dt * lam * x[k]\n",
        "    \n",
        "plt.plot(t, x, 'r')"
      ],
      "execution_count": null,
      "outputs": [
        {
          "output_type": "execute_result",
          "data": {
            "text/plain": [
              "[<matplotlib.lines.Line2D at 0x7fdc1f064710>]"
            ]
          },
          "metadata": {
            "tags": []
          },
          "execution_count": 11
        },
        {
          "output_type": "display_data",
          "data": {
            "image/png": "[encoded data removed]",
            "text/plain": [
              "<Figure size 432x288 with 1 Axes>"
            ]
          },
          "metadata": {
            "tags": [],
            "needs_background": "light"
          }
        }
      ]
    },
    {
      "cell_type": "markdown",
      "metadata": {
        "id": "laJqWUe5Fv6b"
      },
      "source": [
        "As you can see, the approximation does go to infinity, even with a very large $\\Delta t$.  (We didn't calculate the errors here, but it's worth noting that the global error is enormous.  In general, if the true solution goes to infinity then there is no hope of getting a particularly small error.  The best we can hope for is that we get the general shape of the solution correct.)"
      ]
    },
    {
      "cell_type": "markdown",
      "metadata": {
        "id": "hC89E2FLFv6b"
      },
      "source": [
        "Now let's try the same thing, but with a different value of $\\lambda$.  In particular, let's choose $\\lambda = -0.5$.  The code is the same as before, except that we change the value of $\\lambda$.  We find "
      ]
    },
    {
      "cell_type": "code",
      "metadata": {
        "colab": {
          "base_uri": "https://localhost:8080/",
          "height": 299
        },
        "id": "ZIh82SXwFv6c",
        "outputId": "d7909794-e293-4935-f9de-85c3770948b9"
      },
      "source": [
        "lam = -0.5\n",
        "x0 = 1\n",
        "x_true = lambda t: x0 * np.exp(lam * t)\n",
        "\n",
        "dt = 0.1\n",
        "T = 4\n",
        "t = np.arange(0, T + dt, dt)\n",
        "\n",
        "n = t.size\n",
        "x = np.zeros(n)\n",
        "x[0] = x0\n",
        "\n",
        "for k in range(n - 1):\n",
        "    x[k + 1] = x[k] + dt * lam * x[k]\n",
        "    \n",
        "plt.plot(tplot, x_true(tplot), 'k', t, x, 'r')"
      ],
      "execution_count": null,
      "outputs": [
        {
          "output_type": "execute_result",
          "data": {
            "text/plain": [
              "[<matplotlib.lines.Line2D at 0x7fdc1efcf190>,\n",
              " <matplotlib.lines.Line2D at 0x7fdc1efdbe10>]"
            ]
          },
          "metadata": {
            "tags": []
          },
          "execution_count": 12
        },
        {
          "output_type": "display_data",
          "data": {
            "image/png": "[encoded data removed]",
            "text/plain": [
              "<Figure size 432x288 with 1 Axes>"
            ]
          },
          "metadata": {
            "tags": [],
            "needs_background": "light"
          }
        }
      ]
    },
    {
      "cell_type": "code",
      "metadata": {
        "id": "L9W9wN61Fv6d",
        "outputId": "b9502bc2-9c37-4639-c652-340198fda9a1"
      },
      "source": [
        "err_local = np.abs(x[1] - x_true(t[1]))\n",
        "print(err_local)"
      ],
      "execution_count": null,
      "outputs": [
        {
          "output_type": "stream",
          "text": [
            "0.0012294245007140603\n"
          ],
          "name": "stdout"
        }
      ]
    },
    {
      "cell_type": "code",
      "metadata": {
        "id": "9OGsrLM2Fv6d",
        "outputId": "745b4ccf-b110-4161-ec70-2d3347fbd7ea"
      },
      "source": [
        "err_global = np.abs(x[-1] - x_true(t[-1]))\n",
        "print(err_global)"
      ],
      "execution_count": null,
      "outputs": [
        {
          "output_type": "stream",
          "text": [
            "0.006823126671509361\n"
          ],
          "name": "stdout"
        }
      ]
    },
    {
      "cell_type": "code",
      "metadata": {
        "id": "r_-jgrAoFv6e",
        "outputId": "edf0116a-d677-4a94-83d7-56ad3337a783"
      },
      "source": [
        "err_max = np.max(np.abs(x - x_true(t)))\n",
        "print(err_max)"
      ],
      "execution_count": null,
      "outputs": [
        {
          "output_type": "stream",
          "text": [
            "0.009393518762900122\n"
          ],
          "name": "stdout"
        }
      ]
    },
    {
      "cell_type": "markdown",
      "metadata": {
        "id": "ubdttzPUFv6e"
      },
      "source": [
        "As before, we can confirm the local and global accuracy by seeing how these errors change as we decrease $\\Delta t$.  We get "
      ]
    },
    {
      "cell_type": "code",
      "metadata": {
        "colab": {
          "base_uri": "https://localhost:8080/",
          "height": 299
        },
        "id": "67DZiZtJFv6e",
        "outputId": "559067b9-edb0-4c3b-ef0f-818edbaa5642"
      },
      "source": [
        "dt = 0.01\n",
        "T = 4\n",
        "t = np.arange(0, T + dt, dt)\n",
        "\n",
        "n = t.size\n",
        "x = np.zeros(n)\n",
        "x[0] = x0\n",
        "\n",
        "for k in range(n - 1):\n",
        "    x[k + 1] = x[k] + dt * lam * x[k]\n",
        "    \n",
        "plt.plot(tplot, x_true(tplot), 'k', t, x, 'r')"
      ],
      "execution_count": null,
      "outputs": [
        {
          "output_type": "execute_result",
          "data": {
            "text/plain": [
              "[<matplotlib.lines.Line2D at 0x7fdc1ef39c10>,\n",
              " <matplotlib.lines.Line2D at 0x7fdc1ef508d0>]"
            ]
          },
          "metadata": {
            "tags": []
          },
          "execution_count": 13
        },
        {
          "output_type": "display_data",
          "data": {
            "image/png": "[encoded data removed]",
            "text/plain": [
              "<Figure size 432x288 with 1 Axes>"
            ]
          },
          "metadata": {
            "tags": [],
            "needs_background": "light"
          }
        }
      ]
    },
    {
      "cell_type": "code",
      "metadata": {
        "id": "iiF4KcN_Fv6f",
        "outputId": "caed8431-3f18-4c14-d74d-4b68bb3724d6"
      },
      "source": [
        "err_local = np.abs(x[1] - x_true(t[1]))\n",
        "print(err_local)"
      ],
      "execution_count": null,
      "outputs": [
        {
          "output_type": "stream",
          "text": [
            "1.2479192682324225e-05\n"
          ],
          "name": "stdout"
        }
      ]
    },
    {
      "cell_type": "code",
      "metadata": {
        "id": "iBsZ8Rn4Fv6f",
        "outputId": "c8da7be3-19d5-47bf-e552-77311aaf327a"
      },
      "source": [
        "err_global = np.abs(x[-1] - x_true(t[-1]))\n",
        "print(err_global)"
      ],
      "execution_count": null,
      "outputs": [
        {
          "output_type": "stream",
          "text": [
            "0.0006772403105990976\n"
          ],
          "name": "stdout"
        }
      ]
    },
    {
      "cell_type": "code",
      "metadata": {
        "id": "mBYjHzxLFv6g",
        "outputId": "1c725f9a-5871-46aa-fac1-c2d7c4a68fab"
      },
      "source": [
        "err_max = np.max(np.abs(x - x_true(t)))\n",
        "print(err_max)"
      ],
      "execution_count": null,
      "outputs": [
        {
          "output_type": "stream",
          "text": [
            "0.0009216194452749682\n"
          ],
          "name": "stdout"
        }
      ]
    },
    {
      "cell_type": "markdown",
      "metadata": {
        "id": "JcOm5SB0Fv6h"
      },
      "source": [
        "As you can see, the local error dropped by a factor of $10^2$, while the global and maximum errors dropped by a factor of 10.  This confirms once again that forward Euler has second order local accuracy and first order global accuracy.  \n",
        "\n",
        "To test the stability properties, we should solve the same initial value problem over a much longer time period.  The true solution is stable, so we would like our approximation to go to zero, but we already know from our stability analysis that if $\\Delta t$ is too large then the approximation will go to infinity.  We get "
      ]
    },
    {
      "cell_type": "code",
      "metadata": {
        "colab": {
          "base_uri": "https://localhost:8080/",
          "height": 310
        },
        "id": "pNQIelxCFv6h",
        "outputId": "7405dafc-f211-455d-82da-93354a853d1e"
      },
      "source": [
        "dt = 10\n",
        "T = 200\n",
        "t = np.arange(0, T + dt, dt)\n",
        "\n",
        "n = t.size\n",
        "x = np.zeros(n)\n",
        "x[0] = x0\n",
        "\n",
        "for k in range(n - 1):\n",
        "    x[k + 1] = x[k] + dt * lam * x[k]\n",
        "    \n",
        "plt.plot(tplot, x_true(tplot), 'k', t, x, 'r')"
      ],
      "execution_count": null,
      "outputs": [
        {
          "output_type": "execute_result",
          "data": {
            "text/plain": [
              "[<matplotlib.lines.Line2D at 0x7fdc1ee26e10>,\n",
              " <matplotlib.lines.Line2D at 0x7fdc1edbbad0>]"
            ]
          },
          "metadata": {
            "tags": []
          },
          "execution_count": 16
        },
        {
          "output_type": "display_data",
          "data": {
            "image/png": "[encoded data removed]",
            "text/plain": [
              "<Figure size 432x288 with 1 Axes>"
            ]
          },
          "metadata": {
            "tags": [],
            "needs_background": "light"
          }
        }
      ]
    },
    {
      "cell_type": "markdown",
      "metadata": {
        "id": "UAzu7ehiFv6h"
      },
      "source": [
        "This confirms our stability analysis.  "
      ]
    },
    {
      "cell_type": "markdown",
      "metadata": {
        "id": "snKt6RqBFv6i"
      },
      "source": [
        "## Backward Euler\n",
        "Now we will try to solve the same problems with the backward Euler method.  To start, let's use $\\lambda = 0.5$.  All of the setup code is exactly the same, so we will start with "
      ]
    },
    {
      "cell_type": "code",
      "metadata": {
        "id": "z1oBmTnqFv6i"
      },
      "source": [
        "lam = 0.5\n",
        "x0 = 1\n",
        "x_true = lambda t: x0 * np.exp(lam * t)\n",
        "\n",
        "dt = 0.1\n",
        "T = 4\n",
        "t = np.arange(0, T + dt, dt)\n",
        "\n",
        "n = t.size\n",
        "x = np.zeros(n)\n",
        "x[0] = x0"
      ],
      "execution_count": null,
      "outputs": []
    },
    {
      "cell_type": "markdown",
      "metadata": {
        "id": "3tFT9y2yFv6i"
      },
      "source": [
        "The only difference comes in our for loop.  Instead of the forward Euler equation, we need to use the formula $x_{k+1} = x_k + \\Delta t f(t_{k+1}, x_{k+1})$.  The function $f$ is just the right hand side of our differential equation, so $f(t, x) = \\lambda x$ and our backward Euler equation becomes \n",
        "\n",
        "$x_{k+1} = x_k + \\Delta t\\lambda x_{k+1}$.  \n",
        "\n",
        "This is not actually solved for $x_{k+1}$ yet, but it is easy to solve by hand.  We get the formula\n",
        "\n",
        "$x_{k+1} = \\frac{x_k}{1 - \\Delta t\\lambda}$.  \n",
        "\n",
        "We can therefore rewrite our loop as "
      ]
    },
    {
      "cell_type": "code",
      "metadata": {
        "id": "jiB9B7g5Fv6i"
      },
      "source": [
        "for k in range(n - 1):\n",
        "    x[k + 1] = x[k] / (1 - dt * lam)"
      ],
      "execution_count": null,
      "outputs": []
    },
    {
      "cell_type": "markdown",
      "metadata": {
        "id": "oyWJM2PPFv6i"
      },
      "source": [
        "We can now check the quality of our approximation by graphing it"
      ]
    },
    {
      "cell_type": "code",
      "metadata": {
        "colab": {
          "base_uri": "https://localhost:8080/",
          "height": 300
        },
        "id": "V3W7WiZRFv6j",
        "outputId": "4f09970f-fe62-4ded-f4c2-fa0e0f32b541"
      },
      "source": [
        "tplot = np.linspace(0, T, 1000)\n",
        "plt.plot(tplot, x_true(tplot), 'k', t, x, 'r')"
      ],
      "execution_count": null,
      "outputs": [
        {
          "output_type": "execute_result",
          "data": {
            "text/plain": [
              "[<matplotlib.lines.Line2D at 0x7fdc1ed97fd0>,\n",
              " <matplotlib.lines.Line2D at 0x7fdc1ed36c90>]"
            ]
          },
          "metadata": {
            "tags": []
          },
          "execution_count": 19
        },
        {
          "output_type": "display_data",
          "data": {
            "image/png": "[encoded data removed]",
            "text/plain": [
              "<Figure size 432x288 with 1 Axes>"
            ]
          },
          "metadata": {
            "tags": [],
            "needs_background": "light"
          }
        }
      ]
    },
    {
      "cell_type": "markdown",
      "metadata": {
        "id": "BRAeMh8nFv6j"
      },
      "source": [
        "or by calculating the various errors.  "
      ]
    },
    {
      "cell_type": "code",
      "metadata": {
        "id": "V_ojW-1xFv6j",
        "outputId": "ad829b60-cb74-40c9-983b-d4408d7ad434"
      },
      "source": [
        "err_local = np.abs(x[1] - x_true(t[1]))\n",
        "print(err_local)"
      ],
      "execution_count": null,
      "outputs": [
        {
          "output_type": "stream",
          "text": [
            "0.0013604825713442459\n"
          ],
          "name": "stdout"
        }
      ]
    },
    {
      "cell_type": "code",
      "metadata": {
        "id": "d3-xkwXGFv6j",
        "outputId": "388bb949-ece4-454d-c3a8-13c994af8495"
      },
      "source": [
        "err_global = np.abs(x[-1] - x_true(t[-1]))\n",
        "print(err_global)"
      ],
      "execution_count": null,
      "outputs": [
        {
          "output_type": "stream",
          "text": [
            "0.3923089230889518\n"
          ],
          "name": "stdout"
        }
      ]
    },
    {
      "cell_type": "code",
      "metadata": {
        "id": "2QIJureDFv6k",
        "outputId": "9b99afcb-891b-4ee6-b4be-ee9336cfc146"
      },
      "source": [
        "err_max = np.max(np.abs(x - x_true(t)))\n",
        "print(err_max)"
      ],
      "execution_count": null,
      "outputs": [
        {
          "output_type": "stream",
          "text": [
            "0.3923089230889518\n"
          ],
          "name": "stdout"
        }
      ]
    },
    {
      "cell_type": "markdown",
      "metadata": {
        "id": "Jft_nIY6Fv6k"
      },
      "source": [
        "To confirm the local and global accuracy, we can check what happens when we shrink $\\Delta t$.  For example, if we shrink $\\Delta t$ by a factor of 10 then we get "
      ]
    },
    {
      "cell_type": "code",
      "metadata": {
        "colab": {
          "base_uri": "https://localhost:8080/",
          "height": 299
        },
        "id": "YcAvzzcFFv6k",
        "outputId": "bfff0b1e-066c-4a8b-b6b0-05d4ff9a609d"
      },
      "source": [
        "dt = 0.01\n",
        "T = 4\n",
        "t = np.arange(0, T + dt, dt)\n",
        "\n",
        "n = t.size\n",
        "x = np.zeros(n)\n",
        "x[0] = x0\n",
        "\n",
        "for k in range(n - 1):\n",
        "    x[k + 1] = x[k] / (1 - dt * lam)\n",
        "    \n",
        "plt.plot(tplot, x_true(tplot), 'k', t, x, 'r')"
      ],
      "execution_count": null,
      "outputs": [
        {
          "output_type": "execute_result",
          "data": {
            "text/plain": [
              "[<matplotlib.lines.Line2D at 0x7fdc1ed1af10>,\n",
              " <matplotlib.lines.Line2D at 0x7fdc1ecb1bd0>]"
            ]
          },
          "metadata": {
            "tags": []
          },
          "execution_count": 20
        },
        {
          "output_type": "display_data",
          "data": {
            "image/png": "[encoded data removed]",
            "text/plain": [
              "<Figure size 432x288 with 1 Axes>"
            ]
          },
          "metadata": {
            "tags": [],
            "needs_background": "light"
          }
        }
      ]
    },
    {
      "cell_type": "code",
      "metadata": {
        "id": "aGOMv7z6Fv6l",
        "outputId": "d2b636a1-5938-48c3-912b-62a12365c4ff"
      },
      "source": [
        "err_local = np.abs(x[1] - x_true(t[1]))\n",
        "print(err_local)"
      ],
      "execution_count": null,
      "outputs": [
        {
          "output_type": "stream",
          "text": [
            "1.260476873965466e-05\n"
          ],
          "name": "stdout"
        }
      ]
    },
    {
      "cell_type": "code",
      "metadata": {
        "id": "JdNNztAyFv6l",
        "outputId": "3bc674ba-3b3d-49ef-c0a0-aa5a34ac44de"
      },
      "source": [
        "err_global = np.abs(x[-1] - x_true(t[-1]))\n",
        "print(err_global)"
      ],
      "execution_count": null,
      "outputs": [
        {
          "output_type": "stream",
          "text": [
            "0.037162033093150804\n"
          ],
          "name": "stdout"
        }
      ]
    },
    {
      "cell_type": "code",
      "metadata": {
        "id": "psqejrYUFv6l",
        "outputId": "9d08ca28-3640-4912-b89c-5a4e2ff5cc06"
      },
      "source": [
        "err_max = np.max(np.abs(x - x_true(t)))\n",
        "print(err_max)"
      ],
      "execution_count": null,
      "outputs": [
        {
          "output_type": "stream",
          "text": [
            "0.037162033093150804\n"
          ],
          "name": "stdout"
        }
      ]
    },
    {
      "cell_type": "markdown",
      "metadata": {
        "id": "dRs5ttkyFv6m"
      },
      "source": [
        "Notice that once again, the local error shrank by a factor of $10^2$ and the global and maximum error shrank by a factor of 10.  This confirms that backward Euler has second order local accuracy and first order global accuracy.  \n",
        "\n",
        "We can also check the stability of backward Euler by solving this initial value problem over a much longer time.  Since the true solution is unstable, we expect that our backward Euler approximation will become stable if we make $\\Delta t$ sufficiently large.  That is, the true solution goes to infinity, but if we make $\\Delta t$ too big then our approximation will go to zero instead.  "
      ]
    },
    {
      "cell_type": "code",
      "metadata": {
        "colab": {
          "base_uri": "https://localhost:8080/",
          "height": 282
        },
        "id": "f4KxHwe1Fv6m",
        "outputId": "84443009-7168-47b0-fb88-16c885eb39ca"
      },
      "source": [
        "dt = 10\n",
        "T = 200\n",
        "t = np.arange(0, T + dt, dt)\n",
        "\n",
        "n = t.size\n",
        "x = np.zeros(n)\n",
        "x[0] = x0\n",
        "\n",
        "for k in range(n - 1):\n",
        "    x[k + 1] = x[k] / (1 - dt * lam)\n",
        "    \n",
        "plt.plot(t, x, 'r')"
      ],
      "execution_count": null,
      "outputs": [
        {
          "output_type": "execute_result",
          "data": {
            "text/plain": [
              "[<matplotlib.lines.Line2D at 0x7fdc1ec95990>]"
            ]
          },
          "metadata": {
            "tags": []
          },
          "execution_count": 21
        },
        {
          "output_type": "display_data",
          "data": {
            "image/png": "[encoded data removed]",
            "text/plain": [
              "<Figure size 432x288 with 1 Axes>"
            ]
          },
          "metadata": {
            "tags": [],
            "needs_background": "light"
          }
        }
      ]
    },
    {
      "cell_type": "markdown",
      "metadata": {
        "id": "8XtjPjLHFv6m"
      },
      "source": [
        "This confirms our stability analysis.  "
      ]
    },
    {
      "cell_type": "markdown",
      "metadata": {
        "id": "oM2Mof41Fv6m"
      },
      "source": [
        "If we switch to $\\lambda = -0.5$, we get similar results.  For example, if we choose $\\Delta t = 0.1$ then we get "
      ]
    },
    {
      "cell_type": "code",
      "metadata": {
        "colab": {
          "base_uri": "https://localhost:8080/",
          "height": 299
        },
        "id": "EAiYiBCBFv6m",
        "outputId": "3bd268a0-f5ab-4e54-d155-f91eb2d816cb"
      },
      "source": [
        "lam = -0.5\n",
        "x0 = 1\n",
        "x_true = lambda t: x0 * np.exp(lam * t)\n",
        "\n",
        "dt = 0.1\n",
        "T = 4\n",
        "t = np.arange(0, T + dt, dt)\n",
        "\n",
        "n = t.size\n",
        "x = np.zeros(n)\n",
        "x[0] = x0\n",
        "\n",
        "for k in range(n - 1):\n",
        "    x[k + 1] = x[k] / (1 - dt * lam)\n",
        "    \n",
        "plt.plot(tplot, x_true(tplot), 'k', t, x, 'r')"
      ],
      "execution_count": null,
      "outputs": [
        {
          "output_type": "execute_result",
          "data": {
            "text/plain": [
              "[<matplotlib.lines.Line2D at 0x7fdc1ec0cb90>,\n",
              " <matplotlib.lines.Line2D at 0x7fdc1ec26850>]"
            ]
          },
          "metadata": {
            "tags": []
          },
          "execution_count": 22
        },
        {
          "output_type": "display_data",
          "data": {
            "image/png": "[encoded data removed]",
            "text/plain": [
              "<Figure size 432x288 with 1 Axes>"
            ]
          },
          "metadata": {
            "tags": [],
            "needs_background": "light"
          }
        }
      ]
    },
    {
      "cell_type": "code",
      "metadata": {
        "id": "cI8XKBoSFv6n",
        "outputId": "fa7cb8a0-a04a-44b0-d53e-8f60727d08a4"
      },
      "source": [
        "err_local = np.abs(x[1] - x_true(t[1]))\n",
        "print(err_local)"
      ],
      "execution_count": null,
      "outputs": [
        {
          "output_type": "stream",
          "text": [
            "0.0011515278802383122\n"
          ],
          "name": "stdout"
        }
      ]
    },
    {
      "cell_type": "code",
      "metadata": {
        "id": "F6OHCvvYFv6n",
        "outputId": "855a9a06-486a-4409-8970-3b9c2318f36b"
      },
      "source": [
        "err_global = np.abs(x[-1] - x_true(t[-1]))\n",
        "print(err_global)"
      ],
      "execution_count": null,
      "outputs": [
        {
          "output_type": "stream",
          "text": [
            "0.006710399063664968\n"
          ],
          "name": "stdout"
        }
      ]
    },
    {
      "cell_type": "code",
      "metadata": {
        "id": "Gxm2AnBtFv6n",
        "outputId": "015172e7-4fcf-4893-953b-2f4f8c2984f5"
      },
      "source": [
        "err_max = np.max(np.abs(x - x_true(t)))\n",
        "print(err_max)"
      ],
      "execution_count": null,
      "outputs": [
        {
          "output_type": "stream",
          "text": [
            "0.009010041701558003\n"
          ],
          "name": "stdout"
        }
      ]
    },
    {
      "cell_type": "markdown",
      "metadata": {
        "id": "0wXsHFJpFv6o"
      },
      "source": [
        "If we shrink $\\Delta t$ by a factor of ten, we get "
      ]
    },
    {
      "cell_type": "code",
      "metadata": {
        "colab": {
          "base_uri": "https://localhost:8080/",
          "height": 299
        },
        "id": "VRveQDMGFv6o",
        "outputId": "2da64aec-b8ce-424e-cd26-5170a46cc305"
      },
      "source": [
        "dt = 0.01\n",
        "T = 4\n",
        "t = np.arange(0, T + dt, dt)\n",
        "\n",
        "n = t.size\n",
        "x = np.zeros(n)\n",
        "x[0] = x0\n",
        "\n",
        "for k in range(n - 1):\n",
        "    x[k + 1] = x[k] / (1 - dt * lam)\n",
        "    \n",
        "plt.plot(tplot, x_true(tplot), 'k', t, x, 'r')"
      ],
      "execution_count": null,
      "outputs": [
        {
          "output_type": "execute_result",
          "data": {
            "text/plain": [
              "[<matplotlib.lines.Line2D at 0x7fdc1f082210>,\n",
              " <matplotlib.lines.Line2D at 0x7fdc1efc72d0>]"
            ]
          },
          "metadata": {
            "tags": []
          },
          "execution_count": 23
        },
        {
          "output_type": "display_data",
          "data": {
            "image/png": "[encoded data removed]",
            "text/plain": [
              "<Figure size 432x288 with 1 Axes>"
            ]
          },
          "metadata": {
            "tags": [],
            "needs_background": "light"
          }
        }
      ]
    },
    {
      "cell_type": "code",
      "metadata": {
        "id": "dCnn80VoFv6p",
        "outputId": "0c857bed-af88-4345-e286-4d231de23134"
      },
      "source": [
        "err_local = np.abs(x[1] - x_true(t[1]))\n",
        "print(err_local)"
      ],
      "execution_count": null,
      "outputs": [
        {
          "output_type": "stream",
          "text": [
            "1.2396429208361148e-05\n"
          ],
          "name": "stdout"
        }
      ]
    },
    {
      "cell_type": "code",
      "metadata": {
        "id": "EG2hdJdlFv6q",
        "outputId": "5ab4bc4f-cc38-4ad6-cc2b-dcc144111173"
      },
      "source": [
        "err_global = np.abs(x[-1] - x_true(t[-1]))\n",
        "print(err_global)"
      ],
      "execution_count": null,
      "outputs": [
        {
          "output_type": "stream",
          "text": [
            "0.0006761125217469854\n"
          ],
          "name": "stdout"
        }
      ]
    },
    {
      "cell_type": "code",
      "metadata": {
        "id": "F2hO14B4Fv6r",
        "outputId": "374d4d75-9af0-4616-be79-f411853b4e4a"
      },
      "source": [
        "err_max = np.max(np.abs(x - x_true(t)))\n",
        "print(err_max)"
      ],
      "execution_count": null,
      "outputs": [
        {
          "output_type": "stream",
          "text": [
            "0.0009177873408658388\n"
          ],
          "name": "stdout"
        }
      ]
    },
    {
      "cell_type": "markdown",
      "metadata": {
        "id": "BmwNFWAyFv6s"
      },
      "source": [
        "Notice that the local error decreased by a factor of $10^2$, while the global and maximum error only decreased by a factor of 10.  This confirms our accuracy analysis.  \n",
        "\n",
        "To test the stability properties, we should solve the same initial value problem over a much longer time period.  The true solution is stable, so we would like our approximation to to zero as well.  We already know from our stability analysis that the backward Euler approximation should remain stable no matter how large $\\Delta t$ is.  For instance, "
      ]
    },
    {
      "cell_type": "code",
      "metadata": {
        "colab": {
          "base_uri": "https://localhost:8080/",
          "height": 299
        },
        "id": "1qhtSOBEFv6s",
        "outputId": "580b106d-79f0-40f5-d545-dfbadc02db0f"
      },
      "source": [
        "dt = 10\n",
        "T = 200\n",
        "t = np.arange(0, T + dt, dt)\n",
        "\n",
        "n = t.size\n",
        "x = np.zeros(n)\n",
        "x[0] = x0\n",
        "\n",
        "for k in range(n - 1):\n",
        "    x[k + 1] = x[k] / (1 - dt * lam)\n",
        "    \n",
        "tplot = np.linspace(0, T, 1000)\n",
        "plt.plot(tplot, x_true(tplot), 'k', t, x, 'r')"
      ],
      "execution_count": null,
      "outputs": [
        {
          "output_type": "execute_result",
          "data": {
            "text/plain": [
              "[<matplotlib.lines.Line2D at 0x7fdc1ee4b3d0>,\n",
              " <matplotlib.lines.Line2D at 0x7fdc1eded190>]"
            ]
          },
          "metadata": {
            "tags": []
          },
          "execution_count": 24
        },
        {
          "output_type": "display_data",
          "data": {
            "image/png": "[encoded data removed]",
            "text/plain": [
              "<Figure size 432x288 with 1 Axes>"
            ]
          },
          "metadata": {
            "tags": [],
            "needs_background": "light"
          }
        }
      ]
    },
    {
      "cell_type": "markdown",
      "metadata": {
        "id": "xp9MaGRHFv6t"
      },
      "source": [
        "Notice that our approximation is quite bad for the first several time steps, because we chose a very large $\\Delta t$, but we still got the long term behavior correct.  This confirms our stability analysis for the backward Euler method.  "
      ]
    },
    {
      "cell_type": "markdown",
      "metadata": {
        "id": "_NfPEg_AFv6t"
      },
      "source": [
        "# Pre-defined Solvers\n",
        "Python has several pre-defined functions for solving differential equations.  The most popular is in the `integrate` subpackage of `scipy` and is called `solve_ivp`.  The syntax for `solve_ivp` is \n",
        "\n",
        "`sol = scipy.integrate.solve_ivp(function, time_span, initial_condition)`\n",
        "\n",
        "The function input should be a python function for the right hand side of the differential equation $f(t, x)$.  The time span is a pair of numbers in parentheses, separated by a comma (this is called a *tuple*).  The first number is the initial time (always zero in this class) and the second number is the final time $T$.  The initial condition is a 1D array with only one entry: $x_0$.  The return value is a somewhat odd type (similar to the OptimizeResult we got from `minimize` and `minimize_scalar`).  It has two properties that will be particularly relevant to us: `sol.t` is an array of $t$ values starting at 0 and ending at $T$ (just like the array `t` we made in the above code) and `sol.y` is a row vector (that is, a 2D array with one row and many columns), where each entry is $x$ at the corresponding $t$ value.  This is the same as the array `x` we made in the above code, except that it is a 2D array.  The fact that this is a 2D array is fairly inconvenient, especially when you try to plot it, so it's probably easier to just turn it into a 1D array right away with something like `x = sol.y[0, :]`.  \n",
        "\n",
        "For example, to solve the initial value problem \n",
        "\n",
        "$\\dot{x} = 0.5x$ and $x(0) = 1$\n",
        "\n",
        "up to time $T = 4$, we would use the code"
      ]
    },
    {
      "cell_type": "code",
      "metadata": {
        "colab": {
          "base_uri": "https://localhost:8080/"
        },
        "id": "4CBQTqUaFv6u",
        "outputId": "902e1b16-972b-46bc-9e27-d8594dcf0b25"
      },
      "source": [
        "import scipy.integrate\n",
        "\n",
        "f = lambda t, x: 0.5 * x\n",
        "tspan = (0, 4)\n",
        "x0 = np.array([1])\n",
        "sol = scipy.integrate.solve_ivp(f, tspan, x0)\n",
        "t = sol.t\n",
        "x = sol.y[0, :]\n",
        "print(t)"
      ],
      "execution_count": null,
      "outputs": [
        {
          "output_type": "stream",
          "text": [
            "[0.         0.1148928  1.2638208  3.47492466 4.        ]\n"
          ],
          "name": "stdout"
        }
      ]
    },
    {
      "cell_type": "code",
      "metadata": {
        "id": "NQdOrPyLFv6v",
        "outputId": "477ae2a7-259e-4d77-b181-b0665be9c7f1"
      },
      "source": [
        "print(x)"
      ],
      "execution_count": null,
      "outputs": [
        {
          "output_type": "stream",
          "text": [
            "[1.         1.0591285  1.8812069  5.68300378 7.38918656]\n"
          ],
          "name": "stdout"
        }
      ]
    },
    {
      "cell_type": "markdown",
      "metadata": {
        "id": "vdLMPO3SFv6w"
      },
      "source": [
        "Pay careful attention to the types and dimensions of all the variables involved.  It's very easy to forget that `tspan` should be a tuple or that `x0` is supposed to be a 1D array, or that `sol.t` is a 1D array while `sol.y` is a 2D array.  We will learn why we need to use this strange setup when we get to systems of differential equations next week.  \n",
        "\n",
        "It is important to note that we did not actually specify a $\\Delta t$ in this code.  The `solve_ivp` function chooses its own spacing for the vector $t$.  It is entirely possible for python to choose any $\\Delta t$, and even to choose different spacings between different points (as it did here).  In general, it tries to make $\\Delta t$ small enough that the global error is $\\approx 10^{-3}$.  \n",
        "\n",
        "You might expect that such a small error would mean that you would get a very good plot of the solution.  For instance, "
      ]
    },
    {
      "cell_type": "code",
      "metadata": {
        "colab": {
          "base_uri": "https://localhost:8080/",
          "height": 282
        },
        "id": "bohnS5D7Fv6x",
        "outputId": "af6d4093-cc48-4d0e-fae4-2289025de314"
      },
      "source": [
        "plt.plot(t, x, 'k')"
      ],
      "execution_count": null,
      "outputs": [
        {
          "output_type": "execute_result",
          "data": {
            "text/plain": [
              "[<matplotlib.lines.Line2D at 0x7fdc12c3a150>]"
            ]
          },
          "metadata": {
            "tags": []
          },
          "execution_count": 26
        },
        {
          "output_type": "display_data",
          "data": {
            "image/png": "[encoded data removed]",
            "text/plain": [
              "<Figure size 432x288 with 1 Axes>"
            ]
          },
          "metadata": {
            "tags": [],
            "needs_background": "light"
          }
        }
      ]
    },
    {
      "cell_type": "markdown",
      "metadata": {
        "id": "HeJQu-NEFv6x"
      },
      "source": [
        "However, this looks pretty bad.  The problem is that, although the error is quite low at each point, there are not enough points to make a smooth curve.  You can force `solve_ivp` to give you more approximations with the option `t_eval`.  For example, if we wanted to get the solution at evenly spaced times with $\\Delta t = 0.01$, then we could use the code: "
      ]
    },
    {
      "cell_type": "code",
      "metadata": {
        "colab": {
          "base_uri": "https://localhost:8080/",
          "height": 282
        },
        "id": "dw1cGq3MFv6x",
        "outputId": "02d46b94-c450-4794-809c-c9e1963b2a70"
      },
      "source": [
        "dt = 0.01\n",
        "T = 4\n",
        "t = np.arange(0, T + dt, dt)\n",
        "tspan = (0, T)\n",
        "x0 = np.array([1])\n",
        "sol = scipy.integrate.solve_ivp(f, tspan, x0, t_eval=t)\n",
        "x = sol.y[0, :]\n",
        "\n",
        "plt.plot(t, x, 'k')"
      ],
      "execution_count": null,
      "outputs": [
        {
          "output_type": "execute_result",
          "data": {
            "text/plain": [
              "[<matplotlib.lines.Line2D at 0x7fdc12bbc390>]"
            ]
          },
          "metadata": {
            "tags": []
          },
          "execution_count": 27
        },
        {
          "output_type": "display_data",
          "data": {
            "image/png": "[encoded data removed]",
            "text/plain": [
              "<Figure size 432x288 with 1 Axes>"
            ]
          },
          "metadata": {
            "tags": [],
            "needs_background": "light"
          }
        }
      ]
    },
    {
      "cell_type": "markdown",
      "metadata": {
        "id": "UzEYf1D0Fv6y"
      },
      "source": [
        "If you use `t_eval=t` like this, then `sol.t` will be the same thing as `t` and `sol.y` will have an x value for every entry in t.  It's important to note that making `dt` smaller in this code won't actually improve the error.  The `solve_ivp` function uses whatever time step it wants to solve the differential equation, and then interpolates the solution (using methods from week 6) to find $x$ at each of the $t$-values you asked for.  \n",
        "\n",
        "I will often ask you to use `t_eval` like this on the homework, because it will ensure that both MATLAB and python produce similar approximations.  \n",
        "\n",
        "We will talk about how to implement the method used by `solve_ivp` next week, but for now you should just assume that this value is quite close to the true solution.  "
      ]
    }
  ]
}