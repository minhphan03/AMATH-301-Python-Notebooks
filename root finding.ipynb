{
  "nbformat": 4,
  "nbformat_minor": 0,
  "metadata": {
    "kernelspec": {
      "display_name": "Python 3",
      "language": "python",
      "name": "python3"
    },
    "language_info": {
      "codemirror_mode": {
        "name": "ipython",
        "version": 3
      },
      "file_extension": ".py",
      "mimetype": "text/x-python",
      "name": "python",
      "nbconvert_exporter": "python",
      "pygments_lexer": "ipython3",
      "version": "3.8.5"
    },
    "colab": {
      "name": "Week5_python.ipynb",
      "provenance": [],
      "collapsed_sections": []
    }
  },
  "cells": [
    {
      "cell_type": "markdown",
      "metadata": {
        "id": "f6A6FpSOBZ3B"
      },
      "source": [
        "# Week 5: Root Finding\n",
        "## Rahman notes:\n",
        "\n",
        "In the theory lectures we looked at three different root finding techniques, and applied them to a function that looked something like $f(x) = x^3$.  Here let's look at a concrete, but nontrivial function.  Consider the functions $f(x) = x\\cos(x)$ on the interval $[2,5]$.  Suppose we are looking for the local extrema of this function; i.e., we look for the roots of $f'(x) = \\cos(x) - x\\sin(x)$.\n",
        "\n",
        "Lets first plot the two functions to give us a graphical idea of what is happening."
      ]
    },
    {
      "cell_type": "code",
      "metadata": {
        "colab": {
          "base_uri": "https://localhost:8080/",
          "height": 299
        },
        "id": "jHEOEWkn8TeE",
        "outputId": "fabf1a06-e617-4401-b18a-7b4d03182cd8"
      },
      "source": [
        "import numpy as np\n",
        "import matplotlib.pyplot as plt\n",
        "\n",
        "x = np.arange(2, 5.01, 0.001)\n",
        "f = x*np.cos(x)\n",
        "df = np.cos(x) - x*np.sin(x)\n",
        "\n",
        "plt.plot(x, f, x, df, linewidth=4)"
      ],
      "execution_count": null,
      "outputs": [
        {
          "output_type": "execute_result",
          "data": {
            "text/plain": [
              "[<matplotlib.lines.Line2D at 0x7fa06c6a4950>,\n",
              " <matplotlib.lines.Line2D at 0x7fa06c6a4050>]"
            ]
          },
          "metadata": {
            "tags": []
          },
          "execution_count": 12
        },
        {
          "output_type": "display_data",
          "data": {
            "image/png": "[encoded data removed]",
            "text/plain": [
              "<Figure size 432x288 with 1 Axes>"
            ]
          },
          "metadata": {
            "tags": [],
            "needs_background": "light"
          }
        }
      ]
    },
    {
      "cell_type": "markdown",
      "metadata": {
        "id": "CVrreVr0HcHD"
      },
      "source": [
        "## Section Search: Iterate and Pray\n",
        "Notice that we have a discretization of x already in the plot above.  And from that we have a discretization of $f'(x)$.  Now all we have to do is find the entry of x that corresponds to $f'(x)$ that is closest to zero.  In order to do that all we have to do is find the entry that gives us the minimum of the absolute value of $f'(x)$."
      ]
    },
    {
      "cell_type": "code",
      "metadata": {
        "colab": {
          "base_uri": "https://localhost:8080/"
        },
        "id": "dL8bKWP0HxDw",
        "outputId": "d226427d-65e9-483a-e87d-5e500294c7d8"
      },
      "source": [
        "x = np.arange(2, 5.01, 0.001)\n",
        "df = np.cos(x) - x*np.sin(x)\n",
        "root_entry = np.argmin(np.abs(df));\n",
        "root = x[root_entry];\n",
        "print('root = ', root, '\\n derivative = ', df[root_entry])"
      ],
      "execution_count": null,
      "outputs": [
        {
          "output_type": "stream",
          "text": [
            "root =  3.425999999999843 \n",
            " derivative =  0.0014686190416193234\n"
          ],
          "name": "stdout"
        }
      ]
    },
    {
      "cell_type": "code",
      "metadata": {
        "colab": {
          "base_uri": "https://localhost:8080/",
          "height": 299
        },
        "id": "LYzfwr3bJpuD",
        "outputId": "efd4e980-4ead-44a9-e700-d5737a247056"
      },
      "source": [
        "plt.plot(x, f, x, df, linewidth=4)\n",
        "plt.plot(root, 0, 'k.', root, f[root_entry], 'g.', markersize = 40)"
      ],
      "execution_count": null,
      "outputs": [
        {
          "output_type": "execute_result",
          "data": {
            "text/plain": [
              "[<matplotlib.lines.Line2D at 0x7fa06c66eb90>,\n",
              " <matplotlib.lines.Line2D at 0x7fa06c625d90>]"
            ]
          },
          "metadata": {
            "tags": []
          },
          "execution_count": 14
        },
        {
          "output_type": "display_data",
          "data": {
            "image/png": "[encoded data removed]",
            "text/plain": [
              "<Figure size 432x288 with 1 Axes>"
            ]
          },
          "metadata": {
            "tags": [],
            "needs_background": "light"
          }
        }
      ]
    },
    {
      "cell_type": "markdown",
      "metadata": {
        "id": "Xoqksh9-LTbT"
      },
      "source": [
        "Remeber, these are just approximations.  That is not far off!  But that is because we use a quite fine discretization.  Let's try it with a much coarser discretization.  This time it's quite far off the root, and since it's quite far of the root, can we even trust the local minima?"
      ]
    },
    {
      "cell_type": "code",
      "metadata": {
        "colab": {
          "base_uri": "https://localhost:8080/"
        },
        "id": "6PrelLuLLUan",
        "outputId": "2825dc3b-1e6e-49ca-dfb0-2178cc6eac4c"
      },
      "source": [
        "x = np.arange(2, 5.01, 0.5)\n",
        "f = x*np.cos(x)\n",
        "df = np.cos(x) - x*np.sin(x)\n",
        "root_entry = np.argmin(np.abs(df));\n",
        "root = x[root_entry];\n",
        "print('root = ', root, '\\n derivative = ', df[root_entry])"
      ],
      "execution_count": null,
      "outputs": [
        {
          "output_type": "stream",
          "text": [
            "root =  3.5 \n",
            " derivative =  0.29128460962287306\n"
          ],
          "name": "stdout"
        }
      ]
    },
    {
      "cell_type": "code",
      "metadata": {
        "colab": {
          "base_uri": "https://localhost:8080/",
          "height": 299
        },
        "id": "eBDoHKhzLmk3",
        "outputId": "3f0dd877-38f7-44f4-bc87-bda97462c20b"
      },
      "source": [
        "plt.plot(x, f, x, df, linewidth=4)\n",
        "plt.plot(root, 0, 'k.', root, f[root_entry], 'g.', markersize = 40)"
      ],
      "execution_count": null,
      "outputs": [
        {
          "output_type": "execute_result",
          "data": {
            "text/plain": [
              "[<matplotlib.lines.Line2D at 0x7fa06c5e4450>,\n",
              " <matplotlib.lines.Line2D at 0x7fa06c5a11d0>]"
            ]
          },
          "metadata": {
            "tags": []
          },
          "execution_count": 17
        },
        {
          "output_type": "display_data",
          "data": {
            "image/png": "[encoded data removed]",
            "text/plain": [
              "<Figure size 432x288 with 1 Axes>"
            ]
          },
          "metadata": {
            "tags": [],
            "needs_background": "light"
          }
        }
      ]
    },
    {
      "cell_type": "markdown",
      "metadata": {
        "id": "PgeEs2_6LtYO"
      },
      "source": [
        "Now what if we weren't restriced to a domain where the function $f'(x)$ only has one root?  Say $[-20, 5]$."
      ]
    },
    {
      "cell_type": "code",
      "metadata": {
        "colab": {
          "base_uri": "https://localhost:8080/",
          "height": 282
        },
        "id": "vCzsRPyELtB_",
        "outputId": "2330eafb-1f7d-42c8-bb98-682e72827276"
      },
      "source": [
        "x = np.arange(-20, 5.01, 0.001)\n",
        "df = np.cos(x) - x*np.sin(x)\n",
        "plt.plot(x, df, linewidth = 4)"
      ],
      "execution_count": null,
      "outputs": [
        {
          "output_type": "execute_result",
          "data": {
            "text/plain": [
              "[<matplotlib.lines.Line2D at 0x7fa06c57fa90>]"
            ]
          },
          "metadata": {
            "tags": []
          },
          "execution_count": 18
        },
        {
          "output_type": "display_data",
          "data": {
            "image/png": "[encoded data removed]",
            "text/plain": [
              "<Figure size 432x288 with 1 Axes>"
            ]
          },
          "metadata": {
            "tags": [],
            "needs_background": "light"
          }
        }
      ]
    },
    {
      "cell_type": "markdown",
      "metadata": {
        "id": "JkoXym_IMHap"
      },
      "source": [
        "Notice that this has quite a few roots.  How do we find them all?  This requires us to be a bit clever.  Let's do a for loop that goes through the entirety of x, and pick out the points when $|f'(x)|$ is decreasing and then suddenly changes direction to increasing.  Right after it changes direction we will pick the entry before it.  This is like going over the edge, and then figure out the edge was just one step behind you."
      ]
    },
    {
      "cell_type": "code",
      "metadata": {
        "colab": {
          "base_uri": "https://localhost:8080/"
        },
        "id": "E3Mlodb6MRBe",
        "outputId": "f9c9e01b-22e3-4378-ad00-8e21fe0f1256"
      },
      "source": [
        "x = np.arange(-20, 5.01, 0.001)\n",
        "df = np.cos(x) - x*np.sin(x)\n",
        "for i in range(x.shape[0]-2):\n",
        "  if abs(df[i+2]) > abs(df[i+1]) and abs(df[i]) > abs(df[i+1]):\n",
        "    print('\\n root = ', x[i], '\\n derivative = ', df[i])"
      ],
      "execution_count": null,
      "outputs": [
        {
          "output_type": "stream",
          "text": [
            "\n",
            " root =  -18.90299999999866 \n",
            " derivative =  -0.011200352664294422\n",
            "\n",
            " root =  -15.771999999994833 \n",
            " derivative =  0.011346853948969393\n",
            "\n",
            " root =  -12.645999999991012 \n",
            " derivative =  -0.009098095685842633\n",
            "\n",
            " root =  -9.529999999987204 \n",
            " derivative =  0.006447407190020793\n",
            "\n",
            " root =  -6.437999999983425 \n",
            " derivative =  -0.0046802352296260175\n",
            "\n",
            " root =  -3.4269999999797456 \n",
            " derivative =  0.005319125748225573\n",
            "\n",
            " root =  -0.8609999999766096 \n",
            " derivative =  -0.0013845694107378348\n",
            "\n",
            " root =  0.8590000000254925 \n",
            " derivative =  0.0027689919870804713\n",
            "\n",
            " root =  3.4250000000286285 \n",
            " derivative =  -0.002379969444347596\n"
          ],
          "name": "stdout"
        }
      ]
    },
    {
      "cell_type": "markdown",
      "metadata": {
        "id": "3vTEjOJAl7E5"
      },
      "source": [
        "## Bisection Method\n",
        "\n",
        "With bisection we must know that there is a root between two points a and b.  If there are multiple roots, it will only find one.\n",
        "For the interval [-2, 5], we know for sure that there is a root between 2 and 5.  So we will bisect our interval each time until we hone in on a root."
      ]
    },
    {
      "cell_type": "code",
      "metadata": {
        "colab": {
          "base_uri": "https://localhost:8080/"
        },
        "id": "frgKEiATnQGj",
        "outputId": "f33b20ab-c98e-4ea1-e16e-d7302a0ffb33"
      },
      "source": [
        "a = 2;\n",
        "b = 5;\n",
        "df_a = np.cos(a) - a*np.sin(a);\n",
        "df_b = np.cos(b) - b*np.sin(b);\n",
        "xmid = (a+b)/2;\n",
        "df_mid = np.cos(xmid) - xmid*np.sin(xmid);\n",
        "for i in range(10):\n",
        "  if df_mid == 0:\n",
        "    break\n",
        "  elif np.sign(df_mid) == np.sign(df_a):\n",
        "    a = xmid;\n",
        "  else:\n",
        "    b = xmid;\n",
        "\n",
        "  xmid = (a+b)/2;\n",
        "  df_mid = np.cos(xmid) - xmid*np.sin(xmid);\n",
        "  df_a = np.cos(a) - a*np.sin(a);\n",
        "  df_b = np.cos(b) - b*np.sin(b);\n",
        "\n",
        "print('\\n root = ', xmid, '\\n derivative = ', np.cos(xmid) - xmid*np.sin(xmid))"
      ],
      "execution_count": null,
      "outputs": [
        {
          "output_type": "stream",
          "text": [
            "\n",
            " root =  3.42529296875 \n",
            " derivative =  -0.0012526522887436053\n"
          ],
          "name": "stdout"
        }
      ]
    },
    {
      "cell_type": "code",
      "metadata": {
        "colab": {
          "base_uri": "https://localhost:8080/"
        },
        "id": "w9LFd9HfokiP",
        "outputId": "bd494116-bcee-454b-b4c1-e23262472f24"
      },
      "source": [
        "a = 2;\n",
        "b = 5;\n",
        "df_a = np.cos(a) - a*np.sin(a);\n",
        "df_b = np.cos(b) - b*np.sin(b);\n",
        "xmid = (a+b)/2;\n",
        "df_mid = np.cos(xmid) - xmid*np.sin(xmid);\n",
        "for i in range(100):\n",
        "  if df_mid == 0:\n",
        "    break\n",
        "  elif np.sign(df_mid) == np.sign(df_a):\n",
        "    a = xmid;\n",
        "  else:\n",
        "    b = xmid;\n",
        "\n",
        "  xmid = (a+b)/2;\n",
        "  df_mid = np.cos(xmid) - xmid*np.sin(xmid);\n",
        "  df_a = np.cos(a) - a*np.sin(a);\n",
        "  df_b = np.cos(b) - b*np.sin(b);\n",
        "\n",
        "print('\\n root = ', xmid, '\\n derivative = ', np.cos(xmid) - xmid*np.sin(xmid))"
      ],
      "execution_count": null,
      "outputs": [
        {
          "output_type": "stream",
          "text": [
            "\n",
            " root =  3.4256184594817283 \n",
            " derivative =  4.440892098500626e-16\n"
          ],
          "name": "stdout"
        }
      ]
    },
    {
      "cell_type": "markdown",
      "metadata": {
        "id": "cRj-Sw0UosSl"
      },
      "source": [
        "## Newton's Method\n",
        "\n",
        "With Newton's method we only need a nearby point to the root, however, we better be sure it's close to that root and not some other root.  And even then it may not converge."
      ]
    },
    {
      "cell_type": "code",
      "metadata": {
        "colab": {
          "base_uri": "https://localhost:8080/"
        },
        "id": "Yk_z0BtuorTj",
        "outputId": "0d26e5d6-aff8-427a-edc9-9b97d55357c7"
      },
      "source": [
        "x = 5\n",
        "for i in range(10):\n",
        "  x = x - (np.cos(x) - x*np.sin(x))/(-2*np.sin(x) - x*np.cos(x)); #We do have to calculate the derivative here\n",
        "\n",
        "print('\\n root = ', x, '\\n derivative = ', np.cos(x) - x*np.sin(x))"
      ],
      "execution_count": null,
      "outputs": [
        {
          "output_type": "stream",
          "text": [
            "\n",
            " root =  -15.771284874815882 \n",
            " derivative =  -7.105427357601002e-15\n"
          ],
          "name": "stdout"
        }
      ]
    },
    {
      "cell_type": "code",
      "metadata": {
        "colab": {
          "base_uri": "https://localhost:8080/"
        },
        "id": "JTjln54-pZ4I",
        "outputId": "4754315f-8406-4557-aaff-f493deb13b34"
      },
      "source": [
        "x = 4\n",
        "for i in range(10):\n",
        "  x = x - (np.cos(x) - x*np.sin(x))/(-2*np.sin(x) - x*np.cos(x)); #We do have to calculate the derivative here\n",
        "\n",
        "print('\\n root = ', x, '\\n derivative = ', np.cos(x) - x*np.sin(x))"
      ],
      "execution_count": null,
      "outputs": [
        {
          "output_type": "stream",
          "text": [
            "\n",
            " root =  3.4256184594817283 \n",
            " derivative =  4.440892098500626e-16\n"
          ],
          "name": "stdout"
        }
      ]
    },
    {
      "cell_type": "markdown",
      "metadata": {
        "id": "H7ckfsJ_pc_K"
      },
      "source": [
        "## Brief word on built in functions\n",
        "\n",
        "Built in functions are useful, and it also allows you to not have to think too much about the problem at hand, but we should make sure not to be lulled into a sense of comfort.  After all, these are just computer programs, not magic.  I personally, for my work, only use built in functions if I know for sure it is optimized (e.g. on MATLAB most Linear Algebra functions are more optimized than something I could write, especially since I am not an expert in Linear Algebra).  I am an expert in Differential Equations, and in my work I rarely ever use a built in differential equation solver because I often need it to do something specialized that I know for sure the creators of the solver did not optimize.  Further, as we have seen with the backslash operator, we need to know how it works.  If we don't we can very easily make irrepreparable damage to our codes (or worse, someone else's code that we are contributing to).\n",
        "You will probably not have a need to use the following function, but it is there if on the off chance you need it.  The following function looks for the local minima of our original $f(x)$ between two points, similar to bisection.  Here we use 2 and 5.  It takes in an anonymous function and the two bounds 2 and 5."
      ]
    },
    {
      "cell_type": "code",
      "metadata": {
        "colab": {
          "base_uri": "https://localhost:8080/"
        },
        "id": "grK8914pqA6J",
        "outputId": "98e7eacf-ca7b-426a-ed61-2811e05e56dc"
      },
      "source": [
        "import scipy.optimize\n",
        "\n",
        "f = lambda x: x * np.cos(x)\n",
        "xmin = scipy.optimize.minimize_scalar(f, bounds=(2, 5), method='Bounded')\n",
        "\n",
        "print(xmin.x)"
      ],
      "execution_count": null,
      "outputs": [
        {
          "output_type": "stream",
          "text": [
            "3.4256177072339398\n"
          ],
          "name": "stdout"
        }
      ]
    }
  ]
}