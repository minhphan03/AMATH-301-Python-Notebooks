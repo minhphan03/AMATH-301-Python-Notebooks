{
  "nbformat": 4,
  "nbformat_minor": 0,
  "metadata": {
    "kernelspec": {
      "display_name": "Python 3",
      "language": "python",
      "name": "python3"
    },
    "language_info": {
      "codemirror_mode": {
        "name": "ipython",
        "version": 3
      },
      "file_extension": ".py",
      "mimetype": "text/x-python",
      "name": "python",
      "nbconvert_exporter": "python",
      "pygments_lexer": "ipython3",
      "version": "3.8.5"
    },
    "colab": {
      "name": "Week6_2_python.ipynb",
      "provenance": [],
      "collapsed_sections": [],
      "include_colab_link": true
    }
  },
  "cells": [
    {
      "cell_type": "markdown",
      "metadata": {
        "id": "view-in-github",
        "colab_type": "text"
      },
      "source": [
        "<a href=\"https://colab.research.google.com/github/minhphan03/AMATH-301-Python-Notebooks/blob/main/interpolation_and_extrapolation.ipynb\" target=\"_parent\"><img src=\"https://colab.research.google.com/assets/colab-badge.svg\" alt=\"Open In Colab\"/></a>"
      ]
    },
    {
      "cell_type": "code",
      "metadata": {
        "id": "1Rvc2xOd7kVe"
      },
      "source": [
        "import numpy as np\n",
        "import scipy.interpolate\n",
        "import matplotlib.pyplot as plt\n",
        "import pandas as pd"
      ],
      "execution_count": null,
      "outputs": []
    },
    {
      "cell_type": "markdown",
      "metadata": {
        "id": "XQM9tHwM7kVm"
      },
      "source": [
        "# Interpolation and Extrapolation\n",
        "All of the methods we have discussed in the last two lectures have followed a certain philosophy: We wanted to find a curve that came close to all of our data points, but we were more concerned with finding a relatively simple formula than with actually hitting any of the points.  In other words, we were more concerned with avoiding overfitting than with finding a perfect fit.  \n",
        "\n",
        "This is usually exactly the right approach.  In many scientific disciplines your data comes with enough noise/uncertainty that you cannot hope to find a model that exactly predicts all of it.  If you try to predict every single point exactly correctly, then you will end up drastically overfitting your data and finding a very complicated curve that does not do a good job at predicting new data points or capturing any interesting patterns in the data set.  The most you can do is find a relatively simple model that captures important trends.  \n",
        "\n",
        "However, there are other situations where we really trust our data points but simply don't have enough of them.  For example, you might be tracking an animal using a GPS collar.  At regular time intervals, these collars report their position via a radio signal.  Modern GPS is extremely accurate, so the position data is often close enough to exact that we can treat our data as perfect.  The main constraint on tracking is not accuracy, but battery life.  As you might imagine, it is difficult to change the battery on a collar/tag attached to a migrating bird or a wild python.  To extend the battery life, these collars might only report their position every few hours.  A similar situation arises in computer graphics.  For example, you might use motion capture technology to track the position of an actors joints (or set the positions of these joints when making an animation).  The position data from this technology are quite accurate, but we need to fill in data for the rest of the body.  Such situations also arise in a purely mathematical context.  For instance, when solving a partial differential equation numerically, you typically only find the solution at regularly spaced grid points instead of an arbitrary $(x, y)$.  You can often ensure that your solutions are highly accurate at those grid points, but it is still important to know how the solution behaves in between them.  \n",
        "\n",
        "In all of these situations, we want to find a function that hits every one of our data points exactly.  We will then use that function to predict values in between (or possibly outside of) those from our data.  Predicting values in between your existing data points is known as interpolation, while predicting values outside of the range of your existing data points is known as extrapolation.  \n",
        "\n",
        "For mathematical convenience, we will only consider 1-dimensional data like the data sets in `data1.csv`, `data2.csv` and `data3.csv`.  That is, we will assume that we have a vector of $x$ values $\\mathbf{x} = [x_1, x_2, \\dotsc, x_n]$ and a corresponding vector of $y$ values $\\mathbf{y} = [y_1, y_2, \\dotsc, y_n]$.  We will also assume that the $x$'s are in order, so $x_1 < x_2 < \\cdots < x_n$.  The $y$ data is of the form $y_k = f(x_k)$, but we do not know the function $f$.  Our goal is to find a function $f$ so that $f(x_k)$ does actually equal $y_k$ for each one of our data points and then use that function to predict $f(x)$ at some other $x$ value.  When $x_1 < x < x_n$, we call this *interpolation*, but when $x < x_1$ or $x > x_n$ then we call this *extrapolation$.  \n",
        "\n",
        "We will focus on interpolation for most of this lecture, and briefly discuss the challenges with extrapolation at the end.  As an example, we will use the data from `data4.csv`.  "
      ]
    },
    {
      "cell_type": "code",
      "metadata": {
        "colab": {
          "resources": {
            "http://localhost:8080/nbextensions/google.colab/files.js": {
              "data": "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",
              "ok": true,
              "headers": [
                [
                  "content-type",
                  "application/javascript"
                ]
              ],
              "status": 200,
              "status_text": ""
            }
          },
          "base_uri": "https://localhost:8080/",
          "height": 72
        },
        "id": "NoJ-DYGF-Y1I",
        "outputId": "8408ceb5-15a8-4c8a-ec7b-f7ff4c9a451c"
      },
      "source": [
        "from google.colab import files\n",
        "uploaded = files.upload()"
      ],
      "execution_count": null,
      "outputs": [
        {
          "output_type": "display_data",
          "data": {
            "text/html": [
              "\n",
              "     <input type=\"file\" id=\"files-d6b8c59a-ded9-4ed8-8e7c-127d4d72d100\" name=\"files[]\" multiple disabled\n",
              "        style=\"border:none\" />\n",
              "     <output id=\"result-d6b8c59a-ded9-4ed8-8e7c-127d4d72d100\">\n",
              "      Upload widget is only available when the cell has been executed in the\n",
              "      current browser session. Please rerun this cell to enable.\n",
              "      </output>\n",
              "      <script src=\"/nbextensions/google.colab/files.js\"></script> "
            ],
            "text/plain": [
              "<IPython.core.display.HTML object>"
            ]
          },
          "metadata": {
            "tags": []
          }
        },
        {
          "output_type": "stream",
          "text": [
            "Saving Week6_data4.csv to Week6_data4.csv\n"
          ],
          "name": "stdout"
        }
      ]
    },
    {
      "cell_type": "code",
      "metadata": {
        "id": "x91DkwUt-aBJ"
      },
      "source": [
        "df = pd.read_csv('Week6_data4.csv')"
      ],
      "execution_count": null,
      "outputs": []
    },
    {
      "cell_type": "code",
      "metadata": {
        "colab": {
          "base_uri": "https://localhost:8080/",
          "height": 282
        },
        "id": "aJnIuVHR7kVn",
        "outputId": "9aa23746-e4e6-4806-808e-090f2648066f"
      },
      "source": [
        "data = np.genfromtxt('Week6_data4.csv', delimiter=',')\n",
        "x = data[0, :]\n",
        "y = data[1, :]\n",
        "n = x.size\n",
        "plt.plot(x, y, 'ko')"
      ],
      "execution_count": null,
      "outputs": [
        {
          "output_type": "execute_result",
          "data": {
            "text/plain": [
              "[<matplotlib.lines.Line2D at 0x7f2b8f45cbd0>]"
            ]
          },
          "metadata": {
            "tags": []
          },
          "execution_count": 5
        },
        {
          "output_type": "display_data",
          "data": {
            "image/png": "[encoded data removed]",
            "text/plain": [
              "<Figure size 432x288 with 1 Axes>"
            ]
          },
          "metadata": {
            "tags": [],
            "needs_background": "light"
          }
        }
      ]
    },
    {
      "cell_type": "markdown",
      "metadata": {
        "id": "5OcYEQBl7kVp"
      },
      "source": [
        "## Interpolation\n",
        "We already know one (quite bad) method of interpolation.  We could fit an $(n-1)$st degree polynomial to our data and then use that polynomial to predict other points.  With the data from `data4.csv`, this would mean "
      ]
    },
    {
      "cell_type": "code",
      "metadata": {
        "id": "6E1VX-mx7kVq"
      },
      "source": [
        "coeffs = np.polyfit(x, y, n - 1)\n",
        "xplot = np.linspace(1, 2, 1000)\n",
        "yplot = np.polyval(coeffs, xplot)"
      ],
      "execution_count": null,
      "outputs": []
    },
    {
      "cell_type": "markdown",
      "metadata": {
        "id": "FXKM1y5K7kVq"
      },
      "source": [
        "The last line, where we call `polyval`, is an interpolation.  We are interpolating our data at all of the $x$ values in `xplot`.  To visualize this, we can plot our interpolated values alongside the original data.  "
      ]
    },
    {
      "cell_type": "code",
      "metadata": {
        "colab": {
          "base_uri": "https://localhost:8080/",
          "height": 299
        },
        "id": "H0cjZpX07kVq",
        "outputId": "98897f48-b3ed-4956-9436-f9c64f0ed237"
      },
      "source": [
        "plt.plot(xplot, yplot, 'b', x, y, 'ko')"
      ],
      "execution_count": null,
      "outputs": [
        {
          "output_type": "execute_result",
          "data": {
            "text/plain": [
              "[<matplotlib.lines.Line2D at 0x7f2b8f495750>,\n",
              " <matplotlib.lines.Line2D at 0x7f2b8efcab10>]"
            ]
          },
          "metadata": {
            "tags": []
          },
          "execution_count": 7
        },
        {
          "output_type": "display_data",
          "data": {
            "image/png": "[encoded data removed]",
            "text/plain": [
              "<Figure size 432x288 with 1 Axes>"
            ]
          },
          "metadata": {
            "tags": [],
            "needs_background": "light"
          }
        }
      ]
    },
    {
      "cell_type": "markdown",
      "metadata": {
        "id": "eM-INPxg7kVr"
      },
      "source": [
        "Because our data set is relatively small (i.e., $n$ is only 11), this was not a complete disaster, but it is not a particularly good strategy.  For instance, it is not clear why we would want our interpolation to include large spikes near 1.05 or 1.95.  As a general rule, this method is only an acceptable idea if you have six data points or fewer.  With any more points, finding a high order polynomial that matches every data point will only lead to problems.  However, if you only have a few data points (two to four is ideal, but you can get away with five or six), then a polynomial fit like this often provides a very good interpolation.  \n",
        "\n",
        "The key idea in most interpolation methods is to divide our data into small subsets of points and fit each subset separately.  The simplest method is to divide our data up into pairs.  If you want to interpolate at a point $x$, then you find two data points closest to $x$ (i.e., $x_k < x < x_{k+1}$) and then fit a line between those two points.  This is called a *linear interpolation*.  We could implement it with the following code: "
      ]
    },
    {
      "cell_type": "code",
      "metadata": {
        "id": "bEpCPixW7kVs",
        "outputId": "0a74f258-1b4d-4254-c773-4f0892bc6e9f"
      },
      "source": [
        "for k in range(n - 1):\n",
        "    # Choose two neighboring points\n",
        "    x_subset = np.array([x[k], x[k + 1]])\n",
        "    y_subset = np.array([y[k], y[k + 1]])\n",
        "    # Find the line between x[k] and x[k+1]\n",
        "    coeffs = np.polyfit(x_subset, y_subset, 1)\n",
        "    # Choose x's between x[k] and x[k+1] to interpolate at\n",
        "    xplot = np.linspace(x[k], x[k + 1], 1000)\n",
        "    # Use polyval to interpolate\n",
        "    yplot = np.polyval(coeffs, xplot)\n",
        "    # Add to our graph\n",
        "    plt.plot(xplot, yplot, 'b')\n",
        "    # Add more of one line for visualization purposes\n",
        "    if k == 4:\n",
        "        xplot = np.linspace(x[k] - 0.2, x[k + 1] + 0.2, 1000)\n",
        "        yplot = np.polyval(coeffs, xplot)\n",
        "        plt.plot(xplot, yplot, 'r--')\n",
        "\n",
        "plt.plot(x, y, 'ko')"
      ],
      "execution_count": null,
      "outputs": [
        {
          "output_type": "execute_result",
          "data": {
            "text/plain": [
              "[<matplotlib.lines.Line2D at 0x7fb567f9f550>]"
            ]
          },
          "metadata": {
            "tags": []
          },
          "execution_count": 31
        },
        {
          "output_type": "display_data",
          "data": {
            "image/png": "[encoded data removed]",
            "text/plain": [
              "<Figure size 432x288 with 1 Axes>"
            ]
          },
          "metadata": {
            "tags": [],
            "needs_background": "light"
          }
        }
      ]
    },
    {
      "cell_type": "markdown",
      "metadata": {
        "id": "OK0Wv13x7kVs"
      },
      "source": [
        "Note that this is actually the default method that python uses to graph data, so the command `plt.plot(x, y, 'b')` would have produced the same graph (without the extra dotted lines).  There is also a predefined function in the package `scipy.interpolate` that finds a linear interpolation like this.  The function is called `interp1d`.  It takes two arguments, an array of x data and an array of y data, and it returns a function that calculates the linear interpolation at any given x value.  For example, "
      ]
    },
    {
      "cell_type": "code",
      "metadata": {
        "colab": {
          "base_uri": "https://localhost:8080/"
        },
        "id": "Jj1k_W6G7kVt",
        "outputId": "35044157-c114-485d-897c-87c8989136ec"
      },
      "source": [
        "interp_func = scipy.interpolate.interp1d(x, y)\n",
        "print(interp_func(1.45))"
      ],
      "execution_count": null,
      "outputs": [
        {
          "output_type": "stream",
          "text": [
            "0.3327491307746085\n"
          ],
          "name": "stdout"
        }
      ]
    },
    {
      "cell_type": "markdown",
      "metadata": {
        "id": "dYuBNd2A7kVt"
      },
      "source": [
        "We could therefore make the same plot as above (without the extra dotted lines) with the code"
      ]
    },
    {
      "cell_type": "code",
      "metadata": {
        "colab": {
          "base_uri": "https://localhost:8080/",
          "height": 299
        },
        "id": "rr2JmWYJ7kVu",
        "outputId": "c05fc0f8-cf22-44d6-dda5-57a5af021c9a"
      },
      "source": [
        "xplot = np.linspace(1, 2, 1000)\n",
        "yplot = interp_func(xplot)\n",
        "plt.plot(xplot, yplot, 'b', x, y, 'ko')"
      ],
      "execution_count": null,
      "outputs": [
        {
          "output_type": "execute_result",
          "data": {
            "text/plain": [
              "[<matplotlib.lines.Line2D at 0x7f2b8eeb72d0>,\n",
              " <matplotlib.lines.Line2D at 0x7f2b8eeb74d0>]"
            ]
          },
          "metadata": {
            "tags": []
          },
          "execution_count": 9
        },
        {
          "output_type": "display_data",
          "data": {
            "image/png": "[encoded data removed]",
            "text/plain": [
              "<Figure size 432x288 with 1 Axes>"
            ]
          },
          "metadata": {
            "tags": [],
            "needs_background": "light"
          }
        }
      ]
    },
    {
      "cell_type": "markdown",
      "metadata": {
        "id": "t4UrR9k87kVu"
      },
      "source": [
        "There is no real reason to stop at two data points.  We could also pick the nearest three or four (or more, but that starts to risk overfitting) data points.  For example, we could pick the four closest data points and then fit a cubic to those points.  For most $x$ values, this means that we would choose data points $x_k < x_{k+1} < x < x_{k+2} < x_{k+3}$, but at the far left and right (i.e., to the left of $x_2$ and to the right of $x_{n-1}$), we need to choose slightly different sets of points.  We could accomplish this with the following code: "
      ]
    },
    {
      "cell_type": "code",
      "metadata": {
        "id": "7aBrZe3P7kVu",
        "outputId": "128616cd-3235-42ab-ca4b-00d31f491092"
      },
      "source": [
        "for k in range(n - 3):\n",
        "    # Choose four neighboring points\n",
        "    x_subset = np.array([x[k], x[k + 1], x[k + 2], x[k + 3]])\n",
        "    y_subset = np.array([y[k], y[k + 1], y[k + 2], y[k + 3]])\n",
        "    # Find the cubic fit between these four points\n",
        "    coeffs = np.polyfit(x_subset, y_subset, 3)\n",
        "    # Choose x's between x[k + 1] and x[k + 2] to interpolate at\n",
        "    xplot = np.linspace(x[k + 1], x[k + 2], 1000)\n",
        "    # Use polyval to interpolate\n",
        "    yplot = np.polyval(coeffs, xplot)\n",
        "    # Add to our graph\n",
        "    plt.plot(xplot, yplot, 'b')\n",
        "    # Add more of one line for visualization purposes\n",
        "    if k == 4:\n",
        "        xplot = np.linspace(x[k] - 0.2, x[k + 3] + 0.2, 1000)\n",
        "        yplot = np.polyval(coeffs, xplot)\n",
        "        plt.plot(xplot, yplot, 'r--')\n",
        "# Now handle the first and last interval separately\n",
        "x_subset = x[:4]\n",
        "y_subset = y[:4]\n",
        "coeffs = np.polyfit(x_subset, y_subset, 3)\n",
        "xplot = np.linspace(x[0], x[1], 1000)\n",
        "yplot = np.polyval(coeffs, xplot)\n",
        "plt.plot(xplot, yplot, 'b')\n",
        "\n",
        "x_subset = x[-4:]\n",
        "y_subset = y[-4:]\n",
        "coeffs = np.polyfit(x_subset, y_subset, 3)\n",
        "xplot = np.linspace(x[-2], x[-1], 1000)\n",
        "yplot = np.polyval(coeffs, xplot)\n",
        "plt.plot(xplot, yplot, 'b')\n",
        "\n",
        "plt.plot(x, y, 'ko')"
      ],
      "execution_count": null,
      "outputs": [
        {
          "output_type": "execute_result",
          "data": {
            "text/plain": [
              "[<matplotlib.lines.Line2D at 0x7fb569c42850>]"
            ]
          },
          "metadata": {
            "tags": []
          },
          "execution_count": 34
        },
        {
          "output_type": "display_data",
          "data": {
            "image/png": "[encoded data removed]",
            "text/plain": [
              "<Figure size 432x288 with 1 Axes>"
            ]
          },
          "metadata": {
            "tags": [],
            "needs_background": "light"
          }
        }
      ]
    },
    {
      "cell_type": "markdown",
      "metadata": {
        "id": "Vk-y-JUS7kVv"
      },
      "source": [
        "This is called a *cubic interpolation*, but it is probably not what you will find if you look up cubic interpolations online, because our version has a problem.  It's hard to tell unless you zoom in quite close, but our interpolation function is not smooth: There are still sharp corners at each data point.  We are often interested in finding smooth interpolations without any such corners.  There are several methods for finding smooth interpolations, and almost all of them are based ont eh same idea: We are creating our best fit cubic using four data points, but it only actually has to match two of them.  (If you zoom in on the graph above, you can see that the dotted red line, which is one of our best fit cubics, exactly matches the four neighboring data points at $x = 1.4$, $x = 1.5$, $x = 1.6$ and $x = 1.7$, but we only used that curve to interpolate between $x = 1.5$ and $x = 1.6$.  Since we don't actually care if the cubic matches the data points at $x = 1.4$ or $x = 1.7$, we could instead insist that our cubic had the correct derivatives at the two points we actually care about.  The algebra involved gets somewhat complicated, so we will skip it here, but such an approach is called a *cubic spline*.  The `interp1d` function can also find cubic splines, but not the non-smooth cubic interpolation that we did above.  We could find a cubic spline interpolation with the following code: "
      ]
    },
    {
      "cell_type": "code",
      "metadata": {
        "colab": {
          "base_uri": "https://localhost:8080/",
          "height": 299
        },
        "id": "xXfJM-Et7kVw",
        "outputId": "8b2f520f-4e7e-4ecc-8cb2-dcbe0f764fe1"
      },
      "source": [
        "xplot = np.linspace(1, 2, 1000)\n",
        "interp_func = scipy.interpolate.interp1d(x, y, kind='cubic')\n",
        "yplot = interp_func(xplot)\n",
        "plt.plot(xplot, yplot, 'b', x, y, 'ko')"
      ],
      "execution_count": null,
      "outputs": [
        {
          "output_type": "execute_result",
          "data": {
            "text/plain": [
              "[<matplotlib.lines.Line2D at 0x7f2b8ce25490>,\n",
              " <matplotlib.lines.Line2D at 0x7f2b8ce25690>]"
            ]
          },
          "metadata": {
            "tags": []
          },
          "execution_count": 10
        },
        {
          "output_type": "display_data",
          "data": {
            "image/png": "[encoded data removed]",
            "text/plain": [
              "<Figure size 432x288 with 1 Axes>"
            ]
          },
          "metadata": {
            "tags": [],
            "needs_background": "light"
          }
        }
      ]
    },
    {
      "cell_type": "markdown",
      "metadata": {
        "id": "1H4Nu3mV7kVw"
      },
      "source": [
        "If you zoom in on this graph, you will see that it is actually smooth.  (Technically speaking, the cubic spline is $C^2$, so its first and second derivatives are continuous, but the third derivative is discontinuous at each data point.)\n",
        "\n",
        "Linear interpolations and cubic splines are two of the most common methods for interpolation, but the interp1 function includes several other methods.  Most are variations of the cubic spline with different orders or different ways of enforcing smoothness.  In this class, we will only use the default (linear) interpolation or cubic splines.  "
      ]
    },
    {
      "cell_type": "markdown",
      "metadata": {
        "id": "dY1fQ_tf7kVw"
      },
      "source": [
        "## Extrapolation\n",
        "So far, we have only focused on interpolating values.  That is, we have been interested in finding $f(x)$ when $x$ is in between some of our data points.  In principle, there isn't anything stopping us from using the same techniques to extrapolate data.  For instance, we could use a linear interpolation or a spline to predict $f(x)$ even if $x > x_n$ or $x < x_1$.  The `interp1d` function allows you to do this by adding the extra option `fill_value='extrapolate'` at the end of the function call.  For example, we could predict $f(5)$ with the code"
      ]
    },
    {
      "cell_type": "code",
      "metadata": {
        "id": "t2zJttdL7kVx",
        "outputId": "947b43bb-2681-4995-e8f9-9a6442018ba7"
      },
      "source": [
        "interp_func = scipy.interpolate.interp1d(x, y, fill_value='extrapolate')\n",
        "print(interp_func(5))"
      ],
      "execution_count": null,
      "outputs": [
        {
          "output_type": "stream",
          "text": [
            "0.017616516297765505\n"
          ],
          "name": "stdout"
        }
      ]
    },
    {
      "cell_type": "markdown",
      "metadata": {
        "id": "ytyP-6ty7kVx"
      },
      "source": [
        "or"
      ]
    },
    {
      "cell_type": "code",
      "metadata": {
        "id": "JwaMVGku7kVx",
        "outputId": "fd0f7700-cac0-46f8-d9dd-09e8dff30b2c"
      },
      "source": [
        "interp_func = scipy.interpolate.interp1d(x, y, kind='cubic', fill_value='extrapolate')\n",
        "print(interp_func(5))"
      ],
      "execution_count": null,
      "outputs": [
        {
          "output_type": "stream",
          "text": [
            "-1581.378832105127\n"
          ],
          "name": "stdout"
        }
      ]
    },
    {
      "cell_type": "markdown",
      "metadata": {
        "id": "CsKbZJaM7kVy"
      },
      "source": [
        "In general, this is a bad idea.  To see why, let's extrapolate at a lot of different $x$ values and plot our predictions.  "
      ]
    },
    {
      "cell_type": "code",
      "metadata": {
        "colab": {
          "base_uri": "https://localhost:8080/",
          "height": 299
        },
        "id": "AgsqfmD17kVy",
        "outputId": "3d8a9dbf-f49b-4a0b-b55b-05bad11d57fa"
      },
      "source": [
        "xplot = np.linspace(-2, 5, 1000)\n",
        "interp_func = scipy.interpolate.interp1d(x, y, fill_value='extrapolate')\n",
        "yplot = interp_func(xplot)\n",
        "plt.plot(xplot, yplot, 'b', x, y, 'ko')"
      ],
      "execution_count": null,
      "outputs": [
        {
          "output_type": "execute_result",
          "data": {
            "text/plain": [
              "[<matplotlib.lines.Line2D at 0x7f2b8cd96350>,\n",
              " <matplotlib.lines.Line2D at 0x7f2b8cd96550>]"
            ]
          },
          "metadata": {
            "tags": []
          },
          "execution_count": 11
        },
        {
          "output_type": "display_data",
          "data": {
            "image/png": "[encoded data removed]",
            "text/plain": [
              "<Figure size 432x288 with 1 Axes>"
            ]
          },
          "metadata": {
            "tags": [],
            "needs_background": "light"
          }
        }
      ]
    },
    {
      "cell_type": "code",
      "metadata": {
        "colab": {
          "base_uri": "https://localhost:8080/",
          "height": 302
        },
        "id": "_WG1KExj7kVy",
        "outputId": "dd08bf32-9c7b-4883-d073-edb074e20674"
      },
      "source": [
        "interp_func = scipy.interpolate.interp1d(x, y, kind='cubic', fill_value='extrapolate')\n",
        "yplot = interp_func(xplot)\n",
        "plt.plot(xplot, yplot, 'b', x, y, 'ko')"
      ],
      "execution_count": null,
      "outputs": [
        {
          "output_type": "execute_result",
          "data": {
            "text/plain": [
              "[<matplotlib.lines.Line2D at 0x7f2b8cd86c90>,\n",
              " <matplotlib.lines.Line2D at 0x7f2b8cd86e90>]"
            ]
          },
          "metadata": {
            "tags": []
          },
          "execution_count": 12
        },
        {
          "output_type": "display_data",
          "data": {
            "image/png": "[encoded data removed]",
            "text/plain": [
              "<Figure size 432x288 with 1 Axes>"
            ]
          },
          "metadata": {
            "tags": [],
            "needs_background": "light"
          }
        }
      ]
    },
    {
      "cell_type": "markdown",
      "metadata": {
        "id": "PUkAbOEP7kVy"
      },
      "source": [
        "Which of these is \"less bad\" is a matter of taste, but it is clear that neither has done a particularly good job of capturing any interesting patterns in our data.  \n",
        "\n",
        "As a general rule, you shouldn't use any interpolation method for extrapolation if your new $x$ value is farther away than the typical spacing between your data points.  Since our $x$'s are each 0.1 apart, this means that we shouldn't be using `interp1d` to extrapolate for any $x < 0.9$ or $x > 2.1$.  Even within those limits, your extrapolated values will have as much to do with your chosen method as with the original data set.  \n",
        "\n",
        "The problem isn't really with our methods; it's that extrapolation is hard.  The only real way to extrapolate well is to have some outside knowledge of what function $f(x)$ fits your data.  For instance, if you know that your data really are linear then you should use the methods from lecture 17 to find a best fit line for your data and then use that line to extrapolate.  Likewise, if you know that your data really are exponential, you should use the methods from lecture 18 to find a best fit exponential curve for your data and then use that curve to extrapolate.  Simply put, there is no one size fits all extrapolation method.  "
      ]
    }
  ]
}