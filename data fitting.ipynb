{
  "nbformat": 4,
  "nbformat_minor": 0,
  "metadata": {
    "kernelspec": {
      "display_name": "Python 3",
      "language": "python",
      "name": "python3"
    },
    "language_info": {
      "codemirror_mode": {
        "name": "ipython",
        "version": 3
      },
      "file_extension": ".py",
      "mimetype": "text/x-python",
      "name": "python",
      "nbconvert_exporter": "python",
      "pygments_lexer": "ipython3",
      "version": "3.8.5"
    },
    "colab": {
      "name": "Week6_1_python.ipynb",
      "provenance": [],
      "collapsed_sections": [],
      "include_colab_link": true
    }
  },
  "cells": [
    {
      "cell_type": "markdown",
      "metadata": {
        "id": "view-in-github",
        "colab_type": "text"
      },
      "source": [
        "<a href=\"https://colab.research.google.com/github/minhphan03/AMATH-301-Python-Notebooks/blob/main/data_fitting.ipynb\" target=\"_parent\"><img src=\"https://colab.research.google.com/assets/colab-badge.svg\" alt=\"Open In Colab\"/></a>"
      ]
    },
    {
      "cell_type": "code",
      "metadata": {
        "id": "oqNZ8FFe_PD1"
      },
      "source": [
        "import numpy as np\n",
        "import scipy.linalg\n",
        "import matplotlib.pyplot as plt\n",
        "import pandas as pd"
      ],
      "execution_count": null,
      "outputs": []
    },
    {
      "cell_type": "markdown",
      "metadata": {
        "id": "Z4WPxC3D_PEK"
      },
      "source": [
        "## Polyfit and polyval\n",
        "The procedure we just outlined for finding a best fit line is so common that python has a predefined command for it.  Instead of finding the derivatives of $\\mathcal{E}$ and setting them to zero, then creating the corresponding linear system and solving it with `solve`, you can just use the numpy function `polyfit`.  This command takes three inputs: An array of $x$ data, an array of $y$ data and a degree.  The $x$ and $y$ arrays are just our original data set.  We will talk more about the degree in the next lecture, but to find a best fit line we should just use 1 for the order.  We can therefore try "
      ]
    },
    {
      "cell_type": "code",
      "metadata": {
        "colab": {
          "resources": {
            "http://localhost:8080/nbextensions/google.colab/files.js": {
              "data": "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",
              "ok": true,
              "headers": [
                [
                  "content-type",
                  "application/javascript"
                ]
              ],
              "status": 200,
              "status_text": ""
            }
          },
          "base_uri": "https://localhost:8080/",
          "height": 72
        },
        "id": "KZ3POkDbYjJI",
        "outputId": "dd825583-2c05-408e-f714-adae120280d1"
      },
      "source": [
        "from google.colab import files\n",
        "uploaded = files.upload()"
      ],
      "execution_count": null,
      "outputs": [
        {
          "output_type": "display_data",
          "data": {
            "text/html": [
              "\n",
              "     <input type=\"file\" id=\"files-1442484f-3488-416f-86fb-818785108a4b\" name=\"files[]\" multiple disabled\n",
              "        style=\"border:none\" />\n",
              "     <output id=\"result-1442484f-3488-416f-86fb-818785108a4b\">\n",
              "      Upload widget is only available when the cell has been executed in the\n",
              "      current browser session. Please rerun this cell to enable.\n",
              "      </output>\n",
              "      <script src=\"/nbextensions/google.colab/files.js\"></script> "
            ],
            "text/plain": [
              "<IPython.core.display.HTML object>"
            ]
          },
          "metadata": {
            "tags": []
          }
        },
        {
          "output_type": "stream",
          "text": [
            "Saving Week6_data1.csv to Week6_data1 (1).csv\n"
          ],
          "name": "stdout"
        }
      ]
    },
    {
      "cell_type": "code",
      "metadata": {
        "id": "A_IDK2-DKTA1"
      },
      "source": [
        "df1 = pd.read_csv('Week6_data1.csv')"
      ],
      "execution_count": null,
      "outputs": []
    },
    {
      "cell_type": "code",
      "metadata": {
        "colab": {
          "base_uri": "https://localhost:8080/",
          "height": 282
        },
        "id": "sLMFNQDl_PEK",
        "outputId": "e4e54dcf-4bdf-4001-d071-991c5e87ee72"
      },
      "source": [
        "data = np.genfromtxt('Week6_data1.csv', delimiter=',')\n",
        "x = data[0, :]\n",
        "y = data[1, :]\n",
        "plt.plot(x, y, 'ko')"
      ],
      "execution_count": null,
      "outputs": [
        {
          "output_type": "execute_result",
          "data": {
            "text/plain": [
              "[<matplotlib.lines.Line2D at 0x7f6838226b90>]"
            ]
          },
          "metadata": {
            "tags": []
          },
          "execution_count": 83
        },
        {
          "output_type": "display_data",
          "data": {
            "image/png": "[encoded data removed]",
            "text/plain": [
              "<Figure size 432x288 with 1 Axes>"
            ]
          },
          "metadata": {
            "tags": [],
            "needs_background": "light"
          }
        }
      ]
    },
    {
      "cell_type": "code",
      "metadata": {
        "colab": {
          "base_uri": "https://localhost:8080/"
        },
        "id": "MqrIVg8JWHQN",
        "outputId": "ac1fe060-a922-4c93-fa7b-941361a7e159"
      },
      "source": [
        "coeffs = np.polyfit(x, y, 1)\n",
        "print(coeffs)"
      ],
      "execution_count": null,
      "outputs": [
        {
          "output_type": "stream",
          "text": [
            "[2.01506007 1.00376907]\n"
          ],
          "name": "stdout"
        }
      ]
    },
    {
      "cell_type": "markdown",
      "metadata": {
        "id": "roYvxnAV_PEM"
      },
      "source": [
        "This gives us exactly the same values as before, albeit in a 1D array instead of a column vector.  \n",
        "\n",
        "If we want to graph this best fit line, we can take advantage of another useful numpy function called `polyval`.  This function takes the coefficients of a polynomial (remember, a line is a 1st degree polynomial) and a 1D array of $x$ values and then returns a corresponding array of $y$ values.  We could therefore plot this line with the following code: "
      ]
    },
    {
      "cell_type": "code",
      "metadata": {
        "colab": {
          "base_uri": "https://localhost:8080/",
          "height": 299
        },
        "id": "M2vZKSzW_PEN",
        "outputId": "14d59dd3-a2a5-48c1-a155-c9d1dc0b4d1e"
      },
      "source": [
        "xplot = np.linspace(0, 2, 1000)\n",
        "yplot = np.polyval(coeffs, xplot)\n",
        "plt.plot(xplot, yplot, x, y, 'ko')"
      ],
      "execution_count": null,
      "outputs": [
        {
          "output_type": "execute_result",
          "data": {
            "text/plain": [
              "[<matplotlib.lines.Line2D at 0x7f684470edd0>,\n",
              " <matplotlib.lines.Line2D at 0x7f68498b7410>]"
            ]
          },
          "metadata": {
            "tags": []
          },
          "execution_count": 85
        },
        {
          "output_type": "display_data",
          "data": {
            "image/png": "[encoded data removed]",
            "text/plain": [
              "<Figure size 432x288 with 1 Axes>"
            ]
          },
          "metadata": {
            "tags": [],
            "needs_background": "light"
          }
        }
      ]
    },
    {
      "cell_type": "markdown",
      "metadata": {
        "id": "vLK9EZ4j_PEN"
      },
      "source": [
        "The `polyval` function saves a little bit of typing here and also means that you don't have to remember which order the coefficients from `polyfit` come in.  The `polyval` function also significantly reduces rounding error when plugging values into higher order polynomials, so it is *always* better to use `polyval` than to type out the equation `coeffs[0] * xplot + coeffs[1]` directly.  "
      ]
    },
    {
      "cell_type": "markdown",
      "metadata": {
        "id": "osNIshkhItiC"
      },
      "source": [
        "# Nonlinear Curve Fitting\n",
        "In the last lecture, we talked about how to find the best fit line through a set of data points, either by hand or with the numpy function `polyfit`.  The process that we outlined there can easily be extended to other formulas.  In general, if you have a formula $y = f(x)$ that you think fits your data, the RMS error for this fit is defined as \n",
        "\n",
        "$E = \\sqrt{\\frac{1}{n}\\displaystyle\\sum_{k=1}^{n}(f(x_k) - y_k)^2}$.  \n",
        "\n",
        "If $f$ has parameters (such as the $m$ and $b$ from our linear equation) then we can minimize $E$ by taking its derivative with respect to each parameter and setting them equal to zero.  \n",
        "\n",
        "Unfortunately, the resulting system of equations is not usually linear and will often be impossible to solve by hand.  It turns out that if $f$ is an $n$th degree polynomial (such as $f(x) = ax^2 + bx + c$ or $f(x) = ax^3 + bx^2 + cx + d$) then we get an $(n+1)\\times (n+1)$ linear system of equations, which we could solve with `scipy.optimize.solve` just like before.  For most other functions $f$, the resulting system will be nonlinear and we will have to resort to some other method.  This means that we will almost always resort to python functions to find best fit curves.  For some special types of best fit functions, there are pre-defined python functions that will find best fit curves for us.  For other curves, we can use `scipy.optimize.minimize` to minimize the RMS error directly.  In any case, the curve we find that minimizes the RMS error will be called the *best fit curve* for our data set.  Remember that our definition of \"best\" depends both on the choice of error function (we will always choose RMS error unless I specify otherwise, but other versions are possible) and on the choice of function.  That is, the best fit line and the best fit quadratic are not really being measured on the same scale.  We will talk more about the ramifications of this issue in the next section.  "
      ]
    },
    {
      "cell_type": "markdown",
      "metadata": {
        "id": "pPKI3kmfItiE"
      },
      "source": [
        "## Higher order polynomial fits and overfitting\n",
        "The `polyfit` function doesn't just find linear fits.  It can actually compute the best fit polynomial of any order.  For example, we could find the best fit parabola (i.e., the best fit curve of the form $f(x) = ax^2 + bx + c$) of the data from last lecture with the code "
      ]
    },
    {
      "cell_type": "code",
      "metadata": {
        "id": "J0lGlkAbItiE",
        "colab": {
          "base_uri": "https://localhost:8080/"
        },
        "outputId": "977fe06c-479d-41f2-b9dd-9b09a30aa6ea"
      },
      "source": [
        "x = data[0, :]\n",
        "y = data[1, :]\n",
        "coeffs2 = np.polyfit(x, y, 2)\n",
        "print(coeffs2)"
      ],
      "execution_count": null,
      "outputs": [
        {
          "output_type": "stream",
          "text": [
            "[0.19568272 1.62369463 1.12770146]\n"
          ],
          "name": "stdout"
        }
      ]
    },
    {
      "cell_type": "markdown",
      "metadata": {
        "id": "3IA4orjkItiF"
      },
      "source": [
        "The numbers in `coeffs2` are the coefficients $a$, $b$ and $c$ that give the smallest root-mean-square error with our data set.  We can plot this to see if it gives a reasonable fit: "
      ]
    },
    {
      "cell_type": "code",
      "metadata": {
        "id": "GGjj3mJcItiF",
        "colab": {
          "base_uri": "https://localhost:8080/",
          "height": 299
        },
        "outputId": "ca869b9d-2513-4d2f-8f84-3b6db5cbc45e"
      },
      "source": [
        "xplot = np.linspace(0, 2, 1000)\n",
        "yplot = np.polyval(coeffs2, xplot)\n",
        "plt.plot(xplot, yplot, 'b', x, y, 'ko')"
      ],
      "execution_count": null,
      "outputs": [
        {
          "output_type": "execute_result",
          "data": {
            "text/plain": [
              "[<matplotlib.lines.Line2D at 0x7f6837c27950>,\n",
              " <matplotlib.lines.Line2D at 0x7f6837c27b50>]"
            ]
          },
          "metadata": {
            "tags": []
          },
          "execution_count": 87
        },
        {
          "output_type": "display_data",
          "data": {
            "image/png": "[encoded data removed]",
            "text/plain": [
              "<Figure size 432x288 with 1 Axes>"
            ]
          },
          "metadata": {
            "tags": [],
            "needs_background": "light"
          }
        }
      ]
    },
    {
      "cell_type": "markdown",
      "metadata": {
        "id": "XX2kByQuItiG"
      },
      "source": [
        "It appears to be slightly better than our best fit line from the last lecture, but it is difficult to say for sure.  We could try finding the RMS error to compare: "
      ]
    },
    {
      "cell_type": "code",
      "metadata": {
        "id": "87mtHURyItiG",
        "colab": {
          "base_uri": "https://localhost:8080/"
        },
        "outputId": "74021796-06cf-4e97-c129-d544117f95f2"
      },
      "source": [
        "yhat = np.polyval(coeffs2, x)\n",
        "n = x.size\n",
        "E2 = np.sqrt((1 / n) * np.sum((yhat - y) ** 2))\n",
        "print(E2)"
      ],
      "execution_count": null,
      "outputs": [
        {
          "output_type": "stream",
          "text": [
            "0.146793952533115\n"
          ],
          "name": "stdout"
        }
      ]
    },
    {
      "cell_type": "markdown",
      "metadata": {
        "id": "kb-46R-QItiH"
      },
      "source": [
        "We got a value of approximately $0.1468$, which is smaller than the error we got from our line.  In some sense, this means that the quadratic fits our data better than the line.  However, one should view this \"improvement\" with some trepidation.  The problem is that increasing the order *automatically* decreases our error.  To see why, imagine what would happen if our line were already the best possible fit.  That is, suppose that no other curve could possibly come closer to our data points than the best fit line we already found.  In that case, we could just choose the quadratic $y = 0x^2 + mx + b$ and it would be just as good as our line.  If the line were anything less than perfect then we could choose some (potentially very small) $a$ in order to improve the fit.  This is a problem.  \n",
        "\n",
        "To see why this is bad, you need to know how I came up with the original $\\mathbf{x}$ and $\\mathbf{y}$.  I used the formula $y_k = 2x_k + 1 + \\epsilon$, where $\\epsilon$ was a small random number.  (In particular, I used normally distributed random numbers with standard deviation $0.16$.)  Suppose that I generated one more data point at $x = 5$.  "
      ]
    },
    {
      "cell_type": "code",
      "metadata": {
        "id": "uh94SAl7ItiI"
      },
      "source": [
        "x_new = 5\n",
        "y_new = 2 * x_new + 1 + 0.16 * np.random.randn(1)"
      ],
      "execution_count": null,
      "outputs": []
    },
    {
      "cell_type": "markdown",
      "metadata": {
        "id": "g9MxVw1IItiI"
      },
      "source": [
        "Let's add this new point to our plot and see which best fit curve most accurately predicted it.  (I reproduced the coefficients for our best fit line in `coeffs`, and `coeffs2` holds the coefficients for our best fit quadratic.)"
      ]
    },
    {
      "cell_type": "code",
      "metadata": {
        "id": "ob29aSiBItiJ",
        "colab": {
          "base_uri": "https://localhost:8080/",
          "height": 333
        },
        "outputId": "90db8fae-ed4b-4214-86e9-49884f710ef1"
      },
      "source": [
        "xplot = np.linspace(0, 5, 1000)\n",
        "plt.plot(xplot, np.polyval(coeffs, xplot), 'b', xplot, np.polyval(coeffs2, xplot), 'r', x, y, 'ko', x_new, y_new, 'ko')"
      ],
      "execution_count": null,
      "outputs": [
        {
          "output_type": "execute_result",
          "data": {
            "text/plain": [
              "[<matplotlib.lines.Line2D at 0x7f6837b9c7d0>,\n",
              " <matplotlib.lines.Line2D at 0x7f6837b9c9d0>,\n",
              " <matplotlib.lines.Line2D at 0x7f6837b9cb90>,\n",
              " <matplotlib.lines.Line2D at 0x7f6837b9cd90>]"
            ]
          },
          "metadata": {
            "tags": []
          },
          "execution_count": 89
        },
        {
          "output_type": "display_data",
          "data": {
            "image/png": "[encoded data removed]",
            "text/plain": [
              "<Figure size 432x288 with 1 Axes>"
            ]
          },
          "metadata": {
            "tags": [],
            "needs_background": "light"
          }
        }
      ]
    },
    {
      "cell_type": "markdown",
      "metadata": {
        "id": "rluiBodwItiK"
      },
      "source": [
        "Because the new point is random, you will see a different final point every time you run this code, but it will essentially always be much closer to the line (in blue) than to the quadratic (in red).  Since our data really did come from a line ($y = 2x + 1 + \\textrm{noise}$), any curve with an $x^2$ term will be worse than the original at predicting new data points.  In essence, the $x^2$ term is capturing patterns in the noise from the original data set that don't really matter, not telling us something important about our data.  Using a higher order polynomial like this (or using any curve with too many parameters in it) is called *overfitting*.  The main problem with overfitting is that your curve will be worse at predicting new data, even though it matches the existing data better.  That is, if I make a new data point using the same formula as I did originally (or measure a new data point using the same measurement process) then it is likely to be very close to the original best fit line, but there is no reason to hope that it is close to the overfitted curve.  "
      ]
    },
    {
      "cell_type": "markdown",
      "metadata": {
        "id": "erUxHwzfItiK"
      },
      "source": [
        "## Extreme overfitting\n",
        "We can carry this idea of overfitting to an extreme.  Notice that our original data set has 21 data points.  Likewise, a 20th order polynomial has 21 coefficients.  This means that we can find a 20th order polynomial that *perfectly* fits our data set.  (We will just use the `polyfit` function, but the optional videos show a slicker method called \"Lagrange polynomials\".)  "
      ]
    },
    {
      "cell_type": "code",
      "metadata": {
        "id": "A3b0qChMItiL",
        "colab": {
          "base_uri": "https://localhost:8080/",
          "height": 353
        },
        "outputId": "ceedcf1a-12a4-47aa-96d3-815c3faae130"
      },
      "source": [
        "coeffs = np.polyfit(x, y, 20)\n",
        "xplot = np.linspace(0, 2, 1000)\n",
        "yplot = np.polyval(coeffs, xplot)\n",
        "plt.plot(xplot, yplot, 'b', x, y, 'ko')"
      ],
      "execution_count": null,
      "outputs": [
        {
          "output_type": "stream",
          "text": [
            "/usr/local/lib/python3.7/dist-packages/IPython/core/interactiveshell.py:2882: RankWarning: Polyfit may be poorly conditioned\n",
            "  exec(code_obj, self.user_global_ns, self.user_ns)\n"
          ],
          "name": "stderr"
        },
        {
          "output_type": "execute_result",
          "data": {
            "text/plain": [
              "[<matplotlib.lines.Line2D at 0x7f6837b0da10>,\n",
              " <matplotlib.lines.Line2D at 0x7f6837b0dc10>]"
            ]
          },
          "metadata": {
            "tags": []
          },
          "execution_count": 90
        },
        {
          "output_type": "display_data",
          "data": {
            "image/png": "[encoded data removed]",
            "text/plain": [
              "<Figure size 432x288 with 1 Axes>"
            ]
          },
          "metadata": {
            "tags": [],
            "needs_background": "light"
          }
        }
      ]
    },
    {
      "cell_type": "markdown",
      "metadata": {
        "id": "na9YmLR7ItiL"
      },
      "source": [
        "What happened?  We hit every single data point, but this graph certainly doesn't describe any trends in our data.  The phenomenon where this best fit polynomial oscillates wildly is called \"Runge's phenomenon\", or the more whimsical \"polynomial wiggle\", and it means that we should essentially never use high order polynomial fits like this.  \n",
        "\n",
        "There is actually another problem with high order fits, although it is hard to see with this data set.  High order polynomials naturally lead to serious rounding errors, which make any calculations involving these polynomials (including just graphing) highly unstable.  That is why python gives the warning \"Polyfit may be poorly conditioned.\"  If you try this on a larger data set (such as the one in the next homework) you will see a dramatic example of rounding error in action.  The `polyval` command helps with this issue because it evaluates polynomials in a smarter order, but there is no way to completely eliminate the problem.  You should *always* use `polyval` to evaluate higher order polynomials.  "
      ]
    },
    {
      "cell_type": "markdown",
      "metadata": {
        "id": "CDT9OKYuItiL"
      },
      "source": [
        "## Fitting nonlinear data\n",
        "While it is true that overfitting is an important risk to keep in mind, and that the risk grows as we add more parameters to the curve we are fitting, it is also sometimes a good idea to try to fit a more complicated curve to our data.  As an example, consider the data in the file `Week6_data2.csv`.  "
      ]
    },
    {
      "cell_type": "code",
      "metadata": {
        "colab": {
          "resources": {
            "http://localhost:8080/nbextensions/google.colab/files.js": {
              "data": "Ly8gQ29weXJpZ2h0IDIwMTcgR29vZ2xlIExMQwovLwovLyBMaWNlbnNlZCB1bmRlciB0aGUgQXBhY2hlIExpY2Vuc2UsIFZlcnNpb24gMi4wICh0aGUgIkxpY2Vuc2UiKTsKLy8geW91IG1heSBub3QgdXNlIHRoaXMgZmlsZSBleGNlcHQgaW4gY29tcGxpYW5jZSB3aXRoIHRoZSBMaWNlbnNlLgovLyBZb3UgbWF5IG9idGFpbiBhIGNvcHkgb2YgdGhlIExpY2Vuc2UgYXQKLy8KLy8gICAgICBodHRwOi8vd3d3LmFwYWNoZS5vcmcvbGljZW5zZXMvTElDRU5TRS0yLjAKLy8KLy8gVW5sZXNzIHJlcXVpcmVkIGJ5IGFwcGxpY2FibGUgbGF3IG9yIGFncmVlZCB0byBpbiB3cml0aW5nLCBzb2Z0d2FyZQovLyBkaXN0cmlidXRlZCB1bmRlciB0aGUgTGljZW5zZSBpcyBkaXN0cmlidXRlZCBvbiBhbiAiQVMgSVMiIEJBU0lTLAovLyBXSVRIT1VUIFdBUlJBTlRJRVMgT1IgQ09ORElUSU9OUyBPRiBBTlkgS0lORCwgZWl0aGVyIGV4cHJlc3Mgb3IgaW1wbGllZC4KLy8gU2VlIHRoZSBMaWNlbnNlIGZvciB0aGUgc3BlY2lmaWMgbGFuZ3VhZ2UgZ292ZXJuaW5nIHBlcm1pc3Npb25zIGFuZAovLyBsaW1pdGF0aW9ucyB1bmRlciB0aGUgTGljZW5zZS4KCi8qKgogKiBAZmlsZW92ZXJ2aWV3IEhlbHBlcnMgZm9yIGdvb2dsZS5jb2xhYiBQeXRob24gbW9kdWxlLgogKi8KKGZ1bmN0aW9uKHNjb3BlKSB7CmZ1bmN0aW9uIHNwYW4odGV4dCwgc3R5bGVBdHRyaWJ1dGVzID0ge30pIHsKICBjb25zdCBlbGVtZW50ID0gZG9jdW1lbnQuY3JlYXRlRWxlbWVudCgnc3BhbicpOwogIGVsZW1lbnQudGV4dENvbnRlbnQgPSB0ZXh0OwogIGZvciAoY29uc3Qga2V5IG9mIE9iamVjdC5rZXlzKHN0eWxlQXR0cmlidXRlcykpIHsKICAgIGVsZW1lbnQuc3R5bGVba2V5XSA9IHN0eWxlQXR0cmlidXRlc1trZXldOwogIH0KICByZXR1cm4gZWxlbWVudDsKfQoKLy8gTWF4IG51bWJlciBvZiBieXRlcyB3aGljaCB3aWxsIGJlIHVwbG9hZGVkIGF0IGEgdGltZS4KY29uc3QgTUFYX1BBWUxPQURfU0laRSA9IDEwMCAqIDEwMjQ7CgpmdW5jdGlvbiBfdXBsb2FkRmlsZXMoaW5wdXRJZCwgb3V0cHV0SWQpIHsKICBjb25zdCBzdGVwcyA9IHVwbG9hZEZpbGVzU3RlcChpbnB1dElkLCBvdXRwdXRJZCk7CiAgY29uc3Qgb3V0cHV0RWxlbWVudCA9IGRvY3VtZW50LmdldEVsZW1lbnRCeUlkKG91dHB1dElkKTsKICAvLyBDYWNoZSBzdGVwcyBvbiB0aGUgb3V0cHV0RWxlbWVudCB0byBtYWtlIGl0IGF2YWlsYWJsZSBmb3IgdGhlIG5leHQgY2FsbAogIC8vIHRvIHVwbG9hZEZpbGVzQ29udGludWUgZnJvbSBQeXRob24uCiAgb3V0cHV0RWxlbWVudC5zdGVwcyA9IHN0ZXBzOwoKICByZXR1cm4gX3VwbG9hZEZpbGVzQ29udGludWUob3V0cHV0SWQpOwp9CgovLyBUaGlzIGlzIHJvdWdobHkgYW4gYXN5bmMgZ2VuZXJhdG9yIChub3Qgc3VwcG9ydGVkIGluIHRoZSBicm93c2VyIHlldCksCi8vIHdoZXJlIHRoZXJlIGFyZSBtdWx0aXBsZSBhc3luY2hyb25vdXMgc3RlcHMgYW5kIHRoZSBQeXRob24gc2lkZSBpcyBnb2luZwovLyB0byBwb2xsIGZvciBjb21wbGV0aW9uIG9mIGVhY2ggc3RlcC4KLy8gVGhpcyB1c2VzIGEgUHJvbWlzZSB0byBibG9jayB0aGUgcHl0aG9uIHNpZGUgb24gY29tcGxldGlvbiBvZiBlYWNoIHN0ZXAsCi8vIHRoZW4gcGFzc2VzIHRoZSByZXN1bHQgb2YgdGhlIHByZXZpb3VzIHN0ZXAgYXMgdGhlIGlucHV0IHRvIHRoZSBuZXh0IHN0ZXAuCmZ1bmN0aW9uIF91cGxvYWRGaWxlc0NvbnRpbnVlKG91dHB1dElkKSB7CiAgY29uc3Qgb3V0cHV0RWxlbWVudCA9IGRvY3VtZW50LmdldEVsZW1lbnRCeUlkKG91dHB1dElkKTsKICBjb25zdCBzdGVwcyA9IG91dHB1dEVsZW1lbnQuc3RlcHM7CgogIGNvbnN0IG5leHQgPSBzdGVwcy5uZXh0KG91dHB1dEVsZW1lbnQubGFzdFByb21pc2VWYWx1ZSk7CiAgcmV0dXJuIFByb21pc2UucmVzb2x2ZShuZXh0LnZhbHVlLnByb21pc2UpLnRoZW4oKHZhbHVlKSA9PiB7CiAgICAvLyBDYWNoZSB0aGUgbGFzdCBwcm9taXNlIHZhbHVlIHRvIG1ha2UgaXQgYXZhaWxhYmxlIHRvIHRoZSBuZXh0CiAgICAvLyBzdGVwIG9mIHRoZSBnZW5lcmF0b3IuCiAgICBvdXRwdXRFbGVtZW50Lmxhc3RQcm9taXNlVmFsdWUgPSB2YWx1ZTsKICAgIHJldHVybiBuZXh0LnZhbHVlLnJlc3BvbnNlOwogIH0pOwp9CgovKioKICogR2VuZXJhdG9yIGZ1bmN0aW9uIHdoaWNoIGlzIGNhbGxlZCBiZXR3ZWVuIGVhY2ggYXN5bmMgc3RlcCBvZiB0aGUgdXBsb2FkCiAqIHByb2Nlc3MuCiAqIEBwYXJhbSB7c3RyaW5nfSBpbnB1dElkIEVsZW1lbnQgSUQgb2YgdGhlIGlucHV0IGZpbGUgcGlja2VyIGVsZW1lbnQuCiAqIEBwYXJhbSB7c3RyaW5nfSBvdXRwdXRJZCBFbGVtZW50IElEIG9mIHRoZSBvdXRwdXQgZGlzcGxheS4KICogQHJldHVybiB7IUl0ZXJhYmxlPCFPYmplY3Q+fSBJdGVyYWJsZSBvZiBuZXh0IHN0ZXBzLgogKi8KZnVuY3Rpb24qIHVwbG9hZEZpbGVzU3RlcChpbnB1dElkLCBvdXRwdXRJZCkgewogIGNvbnN0IGlucHV0RWxlbWVudCA9IGRvY3VtZW50LmdldEVsZW1lbnRCeUlkKGlucHV0SWQpOwogIGlucHV0RWxlbWVudC5kaXNhYmxlZCA9IGZhbHNlOwoKICBjb25zdCBvdXRwdXRFbGVtZW50ID0gZG9jdW1lbnQuZ2V0RWxlbWVudEJ5SWQob3V0cHV0SWQpOwogIG91dHB1dEVsZW1lbnQuaW5uZXJIVE1MID0gJyc7CgogIGNvbnN0IHBpY2tlZFByb21pc2UgPSBuZXcgUHJvbWlzZSgocmVzb2x2ZSkgPT4gewogICAgaW5wdXRFbGVtZW50LmFkZEV2ZW50TGlzdGVuZXIoJ2NoYW5nZScsIChlKSA9PiB7CiAgICAgIHJlc29sdmUoZS50YXJnZXQuZmlsZXMpOwogICAgfSk7CiAgfSk7CgogIGNvbnN0IGNhbmNlbCA9IGRvY3VtZW50LmNyZWF0ZUVsZW1lbnQoJ2J1dHRvbicpOwogIGlucHV0RWxlbWVudC5wYXJlbnRFbGVtZW50LmFwcGVuZENoaWxkKGNhbmNlbCk7CiAgY2FuY2VsLnRleHRDb250ZW50ID0gJ0NhbmNlbCB1cGxvYWQnOwogIGNvbnN0IGNhbmNlbFByb21pc2UgPSBuZXcgUHJvbWlzZSgocmVzb2x2ZSkgPT4gewogICAgY2FuY2VsLm9uY2xpY2sgPSAoKSA9PiB7CiAgICAgIHJlc29sdmUobnVsbCk7CiAgICB9OwogIH0pOwoKICAvLyBXYWl0IGZvciB0aGUgdXNlciB0byBwaWNrIHRoZSBmaWxlcy4KICBjb25zdCBmaWxlcyA9IHlpZWxkIHsKICAgIHByb21pc2U6IFByb21pc2UucmFjZShbcGlja2VkUHJvbWlzZSwgY2FuY2VsUHJvbWlzZV0pLAogICAgcmVzcG9uc2U6IHsKICAgICAgYWN0aW9uOiAnc3RhcnRpbmcnLAogICAgfQogIH07CgogIGNhbmNlbC5yZW1vdmUoKTsKCiAgLy8gRGlzYWJsZSB0aGUgaW5wdXQgZWxlbWVudCBzaW5jZSBmdXJ0aGVyIHBpY2tzIGFyZSBub3QgYWxsb3dlZC4KICBpbnB1dEVsZW1lbnQuZGlzYWJsZWQgPSB0cnVlOwoKICBpZiAoIWZpbGVzKSB7CiAgICByZXR1cm4gewogICAgICByZXNwb25zZTogewogICAgICAgIGFjdGlvbjogJ2NvbXBsZXRlJywKICAgICAgfQogICAgfTsKICB9CgogIGZvciAoY29uc3QgZmlsZSBvZiBmaWxlcykgewogICAgY29uc3QgbGkgPSBkb2N1bWVudC5jcmVhdGVFbGVtZW50KCdsaScpOwogICAgbGkuYXBwZW5kKHNwYW4oZmlsZS5uYW1lLCB7Zm9udFdlaWdodDogJ2JvbGQnfSkpOwogICAgbGkuYXBwZW5kKHNwYW4oCiAgICAgICAgYCgke2ZpbGUudHlwZSB8fCAnbi9hJ30pIC0gJHtmaWxlLnNpemV9IGJ5dGVzLCBgICsKICAgICAgICBgbGFzdCBtb2RpZmllZDogJHsKICAgICAgICAgICAgZmlsZS5sYXN0TW9kaWZpZWREYXRlID8gZmlsZS5sYXN0TW9kaWZpZWREYXRlLnRvTG9jYWxlRGF0ZVN0cmluZygpIDoKICAgICAgICAgICAgICAgICAgICAgICAgICAgICAgICAgICAgJ24vYSd9IC0gYCkpOwogICAgY29uc3QgcGVyY2VudCA9IHNwYW4oJzAlIGRvbmUnKTsKICAgIGxpLmFwcGVuZENoaWxkKHBlcmNlbnQpOwoKICAgIG91dHB1dEVsZW1lbnQuYXBwZW5kQ2hpbGQobGkpOwoKICAgIGNvbnN0IGZpbGVEYXRhUHJvbWlzZSA9IG5ldyBQcm9taXNlKChyZXNvbHZlKSA9PiB7CiAgICAgIGNvbnN0IHJlYWRlciA9IG5ldyBGaWxlUmVhZGVyKCk7CiAgICAgIHJlYWRlci5vbmxvYWQgPSAoZSkgPT4gewogICAgICAgIHJlc29sdmUoZS50YXJnZXQucmVzdWx0KTsKICAgICAgfTsKICAgICAgcmVhZGVyLnJlYWRBc0FycmF5QnVmZmVyKGZpbGUpOwogICAgfSk7CiAgICAvLyBXYWl0IGZvciB0aGUgZGF0YSB0byBiZSByZWFkeS4KICAgIGxldCBmaWxlRGF0YSA9IHlpZWxkIHsKICAgICAgcHJvbWlzZTogZmlsZURhdGFQcm9taXNlLAogICAgICByZXNwb25zZTogewogICAgICAgIGFjdGlvbjogJ2NvbnRpbnVlJywKICAgICAgfQogICAgfTsKCiAgICAvLyBVc2UgYSBjaHVua2VkIHNlbmRpbmcgdG8gYXZvaWQgbWVzc2FnZSBzaXplIGxpbWl0cy4gU2VlIGIvNjIxMTU2NjAuCiAgICBsZXQgcG9zaXRpb24gPSAwOwogICAgd2hpbGUgKHBvc2l0aW9uIDwgZmlsZURhdGEuYnl0ZUxlbmd0aCkgewogICAgICBjb25zdCBsZW5ndGggPSBNYXRoLm1pbihmaWxlRGF0YS5ieXRlTGVuZ3RoIC0gcG9zaXRpb24sIE1BWF9QQVlMT0FEX1NJWkUpOwogICAgICBjb25zdCBjaHVuayA9IG5ldyBVaW50OEFycmF5KGZpbGVEYXRhLCBwb3NpdGlvbiwgbGVuZ3RoKTsKICAgICAgcG9zaXRpb24gKz0gbGVuZ3RoOwoKICAgICAgY29uc3QgYmFzZTY0ID0gYnRvYShTdHJpbmcuZnJvbUNoYXJDb2RlLmFwcGx5KG51bGwsIGNodW5rKSk7CiAgICAgIHlpZWxkIHsKICAgICAgICByZXNwb25zZTogewogICAgICAgICAgYWN0aW9uOiAnYXBwZW5kJywKICAgICAgICAgIGZpbGU6IGZpbGUubmFtZSwKICAgICAgICAgIGRhdGE6IGJhc2U2NCwKICAgICAgICB9LAogICAgICB9OwogICAgICBwZXJjZW50LnRleHRDb250ZW50ID0KICAgICAgICAgIGAke01hdGgucm91bmQoKHBvc2l0aW9uIC8gZmlsZURhdGEuYnl0ZUxlbmd0aCkgKiAxMDApfSUgZG9uZWA7CiAgICB9CiAgfQoKICAvLyBBbGwgZG9uZS4KICB5aWVsZCB7CiAgICByZXNwb25zZTogewogICAgICBhY3Rpb246ICdjb21wbGV0ZScsCiAgICB9CiAgfTsKfQoKc2NvcGUuZ29vZ2xlID0gc2NvcGUuZ29vZ2xlIHx8IHt9OwpzY29wZS5nb29nbGUuY29sYWIgPSBzY29wZS5nb29nbGUuY29sYWIgfHwge307CnNjb3BlLmdvb2dsZS5jb2xhYi5fZmlsZXMgPSB7CiAgX3VwbG9hZEZpbGVzLAogIF91cGxvYWRGaWxlc0NvbnRpbnVlLAp9Owp9KShzZWxmKTsK",
              "ok": true,
              "headers": [
                [
                  "content-type",
                  "application/javascript"
                ]
              ],
              "status": 200,
              "status_text": ""
            }
          },
          "base_uri": "https://localhost:8080/",
          "height": 72
        },
        "id": "p-e0XKrOKLiK",
        "outputId": "69f6581e-1291-4a97-9c87-cf981634a51e"
      },
      "source": [
        "from google.colab import files\n",
        "uploaded = files.upload()"
      ],
      "execution_count": null,
      "outputs": [
        {
          "output_type": "display_data",
          "data": {
            "text/html": [
              "\n",
              "     <input type=\"file\" id=\"files-bc8dfbd2-a2fd-4beb-a039-98810b9471a8\" name=\"files[]\" multiple disabled\n",
              "        style=\"border:none\" />\n",
              "     <output id=\"result-bc8dfbd2-a2fd-4beb-a039-98810b9471a8\">\n",
              "      Upload widget is only available when the cell has been executed in the\n",
              "      current browser session. Please rerun this cell to enable.\n",
              "      </output>\n",
              "      <script src=\"/nbextensions/google.colab/files.js\"></script> "
            ],
            "text/plain": [
              "<IPython.core.display.HTML object>"
            ]
          },
          "metadata": {
            "tags": []
          }
        },
        {
          "output_type": "stream",
          "text": [
            "Saving Week6_data2.csv to Week6_data2 (2).csv\n"
          ],
          "name": "stdout"
        }
      ]
    },
    {
      "cell_type": "code",
      "metadata": {
        "id": "uaBH669XKPWL"
      },
      "source": [
        "df2 = pd.read_csv('Week6_data2.csv')"
      ],
      "execution_count": null,
      "outputs": []
    },
    {
      "cell_type": "code",
      "metadata": {
        "id": "b_tbOjWpItiM",
        "colab": {
          "base_uri": "https://localhost:8080/",
          "height": 282
        },
        "outputId": "831f353c-a859-4f57-ad8d-102b52be741d"
      },
      "source": [
        "data = np.genfromtxt('Week6_data2.csv', delimiter=',')\n",
        "x = data[0, :]\n",
        "y = data[1, :]\n",
        "n = x.size\n",
        "plt.plot(x, y, 'ko')"
      ],
      "execution_count": null,
      "outputs": [
        {
          "output_type": "execute_result",
          "data": {
            "text/plain": [
              "[<matplotlib.lines.Line2D at 0x7f6837a92110>]"
            ]
          },
          "metadata": {
            "tags": []
          },
          "execution_count": 93
        },
        {
          "output_type": "display_data",
          "data": {
            "image/png": "[encoded data removed]",
            "text/plain": [
              "<Figure size 432x288 with 1 Axes>"
            ]
          },
          "metadata": {
            "tags": [],
            "needs_background": "light"
          }
        }
      ]
    },
    {
      "cell_type": "markdown",
      "metadata": {
        "id": "yEs8VNYrItiM"
      },
      "source": [
        "This data looks roughly linear, but there does seem to be a recognizable \"curve\" in the graph.  We could, of course, try to find a best fit line for this data set.  Using the same code as in the last lecture, we get the following plot: "
      ]
    },
    {
      "cell_type": "code",
      "metadata": {
        "id": "xy82CoLLItiM",
        "colab": {
          "base_uri": "https://localhost:8080/",
          "height": 299
        },
        "outputId": "af01c402-bba3-4de9-cb3d-ed5af556d374"
      },
      "source": [
        "coeffs = np.polyfit(x, y, 1)\n",
        "xplot = np.linspace(0, 2, 1000)\n",
        "yplot = np.polyval(coeffs, xplot)\n",
        "plt.plot(xplot, yplot, 'b', x, y, 'ko')"
      ],
      "execution_count": null,
      "outputs": [
        {
          "output_type": "execute_result",
          "data": {
            "text/plain": [
              "[<matplotlib.lines.Line2D at 0x7f6837a07350>,\n",
              " <matplotlib.lines.Line2D at 0x7f6837a07550>]"
            ]
          },
          "metadata": {
            "tags": []
          },
          "execution_count": 94
        },
        {
          "output_type": "display_data",
          "data": {
            "image/png": "[encoded data removed]",
            "text/plain": [
              "<Figure size 432x288 with 1 Axes>"
            ]
          },
          "metadata": {
            "tags": [],
            "needs_background": "light"
          }
        }
      ]
    },
    {
      "cell_type": "markdown",
      "metadata": {
        "id": "HQI57tJuItiN"
      },
      "source": [
        "This doesn't look like a terrible fit, but we do seem to be systematically off.  Our line is too low at the edges and too high in the middle.  We can quantify how \"far off\" our curve is with the root mean square error of this fit.  "
      ]
    },
    {
      "cell_type": "code",
      "metadata": {
        "id": "sI302nzFItiN",
        "colab": {
          "base_uri": "https://localhost:8080/"
        },
        "outputId": "79a350e0-fdda-44c3-d9a6-da6866e1f9ad"
      },
      "source": [
        "E = np.sqrt((1 / n) * np.sum((np.polyval(coeffs, x) - y) ** 2))\n",
        "print(E)"
      ],
      "execution_count": null,
      "outputs": [
        {
          "output_type": "stream",
          "text": [
            "0.6473205589982114\n"
          ],
          "name": "stdout"
        }
      ]
    },
    {
      "cell_type": "markdown",
      "metadata": {
        "id": "cXSEnzMWItiN"
      },
      "source": [
        "We don't really have anything useful to compare this error to yet, but it's worth noting that this is substantially larger than the linear fit from last lecture.  (Normally that is not relevant, but when I made the two data sets I used random numbers with the same standard deviation, which means that if our data really were linear we would expect roughly the same RMS error as before.)\n",
        "\n",
        "Let's try a higher order polynomial fit.  "
      ]
    },
    {
      "cell_type": "code",
      "metadata": {
        "id": "-1fTRdwSItiN",
        "colab": {
          "base_uri": "https://localhost:8080/",
          "height": 299
        },
        "outputId": "b63e6df9-c073-4997-b443-17ddbfebd40d"
      },
      "source": [
        "coeffs2 = np.polyfit(x, y, 2)\n",
        "yplot = np.polyval(coeffs2, xplot)\n",
        "plt.plot(xplot, yplot, 'r', x, y, 'ko')"
      ],
      "execution_count": null,
      "outputs": [
        {
          "output_type": "execute_result",
          "data": {
            "text/plain": [
              "[<matplotlib.lines.Line2D at 0x7f6837a01310>,\n",
              " <matplotlib.lines.Line2D at 0x7f6837a01510>]"
            ]
          },
          "metadata": {
            "tags": []
          },
          "execution_count": 95
        },
        {
          "output_type": "display_data",
          "data": {
            "image/png": "[encoded data removed]",
            "text/plain": [
              "<Figure size 432x288 with 1 Axes>"
            ]
          },
          "metadata": {
            "tags": [],
            "needs_background": "light"
          }
        }
      ]
    },
    {
      "cell_type": "markdown",
      "metadata": {
        "id": "oxK1meBvItiO"
      },
      "source": [
        "At least visually, this seems like a big improvement.  We can also check the RMS error to try to quantify how much better it is.  "
      ]
    },
    {
      "cell_type": "code",
      "metadata": {
        "id": "obxxAa_mItiO",
        "colab": {
          "base_uri": "https://localhost:8080/"
        },
        "outputId": "c6491a85-0552-42df-b591-2296e380cf9e"
      },
      "source": [
        "E = np.sqrt((1 / n) * np.sum((np.polyval(coeffs2, x) - y) ** 2))\n",
        "print(E)"
      ],
      "execution_count": null,
      "outputs": [
        {
          "output_type": "stream",
          "text": [
            "0.20680182519744578\n"
          ],
          "name": "stdout"
        }
      ]
    },
    {
      "cell_type": "markdown",
      "metadata": {
        "id": "7MYE0MHOItiP"
      },
      "source": [
        "Keep in mind that this error is *automatically* lower than the error for our best fit line, just because we added an extra paramter to our curve.  That said, this is a pretty substantial improvement.  The error for our best fit quadratic is less than a third of the error for our best fit line.  \n",
        "\n",
        "What if we keep going?  If we got this much improvement out of a quadratic, what will happen if we try a cubic fit?"
      ]
    },
    {
      "cell_type": "code",
      "metadata": {
        "id": "iBzxY1eKItiP",
        "colab": {
          "base_uri": "https://localhost:8080/",
          "height": 299
        },
        "outputId": "dc4a218e-b9a8-4db0-bad4-e4b348714a0b"
      },
      "source": [
        "coeffs3 = np.polyfit(x, y, 3)\n",
        "yplot = np.polyval(coeffs3, xplot)\n",
        "plt.plot(xplot, yplot, 'g', x, y, 'ko')"
      ],
      "execution_count": null,
      "outputs": [
        {
          "output_type": "execute_result",
          "data": {
            "text/plain": [
              "[<matplotlib.lines.Line2D at 0x7f6837971d10>,\n",
              " <matplotlib.lines.Line2D at 0x7f6837971f10>]"
            ]
          },
          "metadata": {
            "tags": []
          },
          "execution_count": 96
        },
        {
          "output_type": "display_data",
          "data": {
            "image/png": "[encoded data removed]",
            "text/plain": [
              "<Figure size 432x288 with 1 Axes>"
            ]
          },
          "metadata": {
            "tags": [],
            "needs_background": "light"
          }
        }
      ]
    },
    {
      "cell_type": "markdown",
      "metadata": {
        "id": "Awfq1nGmItiP"
      },
      "source": [
        "This does not look like nearly as much of an improvement as the quadratic.  Again, we can quantify the change by finding the RMS error for our new fit.  "
      ]
    },
    {
      "cell_type": "code",
      "metadata": {
        "id": "ocrJ085pItiP",
        "colab": {
          "base_uri": "https://localhost:8080/"
        },
        "outputId": "c62ecd70-a504-4ba3-f029-a9222bcc3c61"
      },
      "source": [
        "E = np.sqrt((1 / n) * np.sum((np.polyval(coeffs3, x) - y) ** 2))\n",
        "print(E)"
      ],
      "execution_count": null,
      "outputs": [
        {
          "output_type": "stream",
          "text": [
            "0.20671029701066426\n"
          ],
          "name": "stdout"
        }
      ]
    },
    {
      "cell_type": "markdown",
      "metadata": {
        "id": "t2-BngZMItiQ"
      },
      "source": [
        "Once again, the error is *automatically* lower because we used an extra parameter in our curve.  In this case, though, the error is only 0.1% lower instead of nearly 2/3 lower.  This tells us that going from a quadratic to a cubic was not a good idea.  \n",
        "\n",
        "These results are no coincidence.  When I generated this data, I did so with the formula $y = 2x^2 - x - 1 + \\epsilon$, where $\\epsilon$ was a small random number.  This means that a best fit line can't possibly fully describe the process I used to make the data, but a best fit quadratic can.  Notice that the coefficients of our best fit quadratic are actually relatively close to correct.  Instead of $2$, $-1$ and $-1$, we got $1.9$, $-0.7$ and $-1.1$.  These are not as accurate as with the previous data set, when we predicted the coefficients of our best fit line to the first decimal place, but they are still reasonably close.  As a general rule, if your formula has more parameters, you need more data to accurately predict these parameters.  If we had 100 points in our data set instead of 21, then we would have obtained a much more accurate estimate of our formula.  "
      ]
    },
    {
      "cell_type": "markdown",
      "metadata": {
        "id": "y5n3NpgPItiQ"
      },
      "source": [
        "## Non-polynomial curves\n",
        "So far, both of our data sets have really come from polynomials.  (The first set came from a linear function and the second came from a quadratic function.)  In general, we can't actually hope that all of our data will be in such a nice form.  As an example, consider the data in `Week6_data3.csv`.  "
      ]
    },
    {
      "cell_type": "code",
      "metadata": {
        "colab": {
          "resources": {
            "http://localhost:8080/nbextensions/google.colab/files.js": {
              "data": "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",
              "ok": true,
              "headers": [
                [
                  "content-type",
                  "application/javascript"
                ]
              ],
              "status": 200,
              "status_text": ""
            }
          },
          "base_uri": "https://localhost:8080/",
          "height": 72
        },
        "id": "-S_Ep94zKctw",
        "outputId": "34f55c98-b864-46fe-8f86-5ef260f7f702"
      },
      "source": [
        "from google.colab import files\n",
        "uploaded = files.upload()"
      ],
      "execution_count": null,
      "outputs": [
        {
          "output_type": "display_data",
          "data": {
            "text/html": [
              "\n",
              "     <input type=\"file\" id=\"files-064f77c3-0229-436a-a00e-0d7712c3e185\" name=\"files[]\" multiple disabled\n",
              "        style=\"border:none\" />\n",
              "     <output id=\"result-064f77c3-0229-436a-a00e-0d7712c3e185\">\n",
              "      Upload widget is only available when the cell has been executed in the\n",
              "      current browser session. Please rerun this cell to enable.\n",
              "      </output>\n",
              "      <script src=\"/nbextensions/google.colab/files.js\"></script> "
            ],
            "text/plain": [
              "<IPython.core.display.HTML object>"
            ]
          },
          "metadata": {
            "tags": []
          }
        },
        {
          "output_type": "stream",
          "text": [
            "Saving Week6_data3.csv to Week6_data3 (2).csv\n"
          ],
          "name": "stdout"
        }
      ]
    },
    {
      "cell_type": "code",
      "metadata": {
        "id": "ntodDQ8iKaBC"
      },
      "source": [
        "df3 = pd.read_csv('Week6_data3.csv')"
      ],
      "execution_count": null,
      "outputs": []
    },
    {
      "cell_type": "code",
      "metadata": {
        "id": "AWwsYlZRItiQ",
        "colab": {
          "base_uri": "https://localhost:8080/",
          "height": 282
        },
        "outputId": "e14b23d7-b6b2-4b07-e2cd-b92221d2a1f8"
      },
      "source": [
        "data = np.genfromtxt('Week6_data3.csv', delimiter=',')\n",
        "x = data[0, :]\n",
        "y = data[1, :]\n",
        "n = x.size\n",
        "plt.plot(x, y, 'ko')"
      ],
      "execution_count": null,
      "outputs": [
        {
          "output_type": "execute_result",
          "data": {
            "text/plain": [
              "[<matplotlib.lines.Line2D at 0x7f68378f2e50>]"
            ]
          },
          "metadata": {
            "tags": []
          },
          "execution_count": 99
        },
        {
          "output_type": "display_data",
          "data": {
            "image/png": "[encoded data removed]",
            "text/plain": [
              "<Figure size 432x288 with 1 Axes>"
            ]
          },
          "metadata": {
            "tags": [],
            "needs_background": "light"
          }
        }
      ]
    },
    {
      "cell_type": "markdown",
      "metadata": {
        "id": "5uWkPV1UItiR"
      },
      "source": [
        "At first glance, this data might appear roughly linear.  It seems to be centered around the line $y = 0$ with quite a bit of noise.  If you squint at the data, though, you might see some more systematic patterns to it.  For one thing, the points appear to be getting more spread out as $x$ increases.  For another, it looks like there might be a regular oscillation instead of just noise.  That is, the points appear to rise and fall at regular intervals.  You should be wary of this sort of visual analysis, though.  You can always find more patterns if you squint at your data hard enough, but that doesn't mean there is a real underlying pattern.  \n",
        "\n",
        "With all that said, it never hurts to start by finding a linear fit to our data set.  We get the following line and RMS error: "
      ]
    },
    {
      "cell_type": "code",
      "metadata": {
        "id": "QNeXCsz0ItiR",
        "colab": {
          "base_uri": "https://localhost:8080/",
          "height": 299
        },
        "outputId": "4881f246-29db-4358-cc35-b20801b6d72a"
      },
      "source": [
        "coeffs = np.polyfit(x, y, 1)\n",
        "xplot = np.linspace(0, 10, 1000)\n",
        "yplot = np.polyval(coeffs, xplot)\n",
        "plt.plot(xplot, yplot, 'b', x, y, 'ko')"
      ],
      "execution_count": null,
      "outputs": [
        {
          "output_type": "execute_result",
          "data": {
            "text/plain": [
              "[<matplotlib.lines.Line2D at 0x7f6837852b90>,\n",
              " <matplotlib.lines.Line2D at 0x7f6837852d90>]"
            ]
          },
          "metadata": {
            "tags": []
          },
          "execution_count": 100
        },
        {
          "output_type": "display_data",
          "data": {
            "image/png": "[encoded data removed]",
            "text/plain": [
              "<Figure size 432x288 with 1 Axes>"
            ]
          },
          "metadata": {
            "tags": [],
            "needs_background": "light"
          }
        }
      ]
    },
    {
      "cell_type": "code",
      "metadata": {
        "id": "PPco7kB3ItiS",
        "colab": {
          "base_uri": "https://localhost:8080/"
        },
        "outputId": "3b5266e5-df65-4f6b-eb30-fbd21a743fe1"
      },
      "source": [
        "E = np.sqrt((1 / n) * np.sum((np.polyval(coeffs, x) - y) ** 2))\n",
        "print(E)"
      ],
      "execution_count": null,
      "outputs": [
        {
          "output_type": "stream",
          "text": [
            "1.319402103674205\n"
          ],
          "name": "stdout"
        }
      ]
    },
    {
      "cell_type": "markdown",
      "metadata": {
        "id": "m2Voe5CgItiS"
      },
      "source": [
        "This line doesn't look like a particularly good fit, but it is possible that these data really are just random numbers, in which case there is nothing more we can do.  The error value doesn't tell us very much because we don't have any other drrors to compare to.  \n",
        "\n",
        "We could do the same thing as before and try higher order polynomial fits to see if they do any better.  There is a plausible (but entirely wrong) argument for why this might be a good idea: If our data was generated by the formula $y = f(x) + \\epsilon$ for some reasonably nice function $f$, then the function $f(x)$ should have a Taylor expansion.  Maybe if we found high order polynomial fits to our data, they would give us a good approximation to the Taylor expansion of $f(x)$, and therefore a good approximation to $f(x)$ itself.  We know that it is a bad idea to use *too high* an order for our fit, but maybe we could safely use a medium order polynomial.  It turns out that this is just not how data fitting really works.  There are two different issues: First, Taylor approximations rely on a lot of detailed information (higher order derivatives) about $f(x)$ very close to one point, while we have lots of data about $f$ at widely spread out points.  Second, small errors in our data (and, in practice, all data has small errors) lead to huge changes in these higher order polynomial fits, even if the data is still generated from the same function $f(x)$.  As an illustrative example, though, let's try this out: "
      ]
    },
    {
      "cell_type": "markdown",
      "metadata": {
        "id": "0z7C-SgyJH7E"
      },
      "source": [
        "##Rahman notes: \n",
        "The notes that were passed down show some pitfalls that we should be aware of, and some naive fixes, but I think it might be interesting to be a bit clever about this.  So this might be a bit complex, but I think it will pay dividends if anyone goes into any sort of data-related field.\n",
        "We see that the data seems to look like a sinusoidal with an exponential profile.  Let's first tackle the sinusoidal.  How do we figure out the period?  One way is to look at the troughs.  The distance between troughs will give us the period.  We did something similar last week."
      ]
    },
    {
      "cell_type": "code",
      "metadata": {
        "colab": {
          "base_uri": "https://localhost:8080/",
          "height": 299
        },
        "id": "Lg8dQ1XZVTm0",
        "outputId": "7068a794-c511-4f4b-97bc-18474016ea78"
      },
      "source": [
        "count = 0\n",
        "j = 0\n",
        "for i in range(len(x)-1):\n",
        "  if (np.sign(y[i]) != np.sign(y[i+1])) and (np.abs(x[j]-x[i]) > 0.5):\n",
        "                              count = count + 1\n",
        "                              j = i\n",
        "\n",
        "x_sin = np.arange(x[0], x[-1]+0.0001, 0.001)\n",
        "y_sin = np.sin(x_sin*np.pi*count/(x[j]-x[0]))\n",
        "plt.plot(x, y, 'ko', x_sin, y_sin, linewidth = 4, markersize = 10)"
      ],
      "execution_count": null,
      "outputs": [
        {
          "output_type": "execute_result",
          "data": {
            "text/plain": [
              "[<matplotlib.lines.Line2D at 0x7f68377c5910>,\n",
              " <matplotlib.lines.Line2D at 0x7f68377c5b50>]"
            ]
          },
          "metadata": {
            "tags": []
          },
          "execution_count": 101
        },
        {
          "output_type": "display_data",
          "data": {
            "image/png": "[encoded data removed]",
            "text/plain": [
              "<Figure size 432x288 with 1 Axes>"
            ]
          },
          "metadata": {
            "tags": [],
            "needs_background": "light"
          }
        }
      ]
    },
    {
      "cell_type": "code",
      "metadata": {
        "colab": {
          "base_uri": "https://localhost:8080/",
          "height": 282
        },
        "id": "gaXIebynQALC",
        "outputId": "caf130b6-4bd7-407a-d741-5f0982466d61"
      },
      "source": [
        "x_peaks = np.zeros(int(count/2 + 1))\n",
        "y_peaks = x_peaks.copy()\n",
        "count = 0\n",
        "for i in range(len(x)-2):\n",
        "  if y[i] < y[i+1] and y[i+2] < y[i+1] and np.abs(x[j]-x[i]) > 0.5 and y[i+1] > 0:\n",
        "    count = count + 1\n",
        "    y_peaks[count-1] = y[i+1]\n",
        "    x_peaks[count-1] = x[i+1]\n",
        "    j=i\n",
        "\n",
        "plt.plot(x_peaks, y_peaks, 'o', linewidth = 4)"
      ],
      "execution_count": null,
      "outputs": [
        {
          "output_type": "execute_result",
          "data": {
            "text/plain": [
              "[<matplotlib.lines.Line2D at 0x7f68377ace90>]"
            ]
          },
          "metadata": {
            "tags": []
          },
          "execution_count": 102
        },
        {
          "output_type": "display_data",
          "data": {
            "image/png": "[encoded data removed]",
            "text/plain": [
              "<Figure size 432x288 with 1 Axes>"
            ]
          },
          "metadata": {
            "tags": [],
            "needs_background": "light"
          }
        }
      ]
    },
    {
      "cell_type": "code",
      "metadata": {
        "colab": {
          "base_uri": "https://localhost:8080/"
        },
        "id": "TdvZnMSsT6Yb",
        "outputId": "19f6b2cf-92b2-41b7-d613-e264e6a6e09e"
      },
      "source": [
        "coeffs = np.polyfit(x_peaks, np.log(y_peaks), 1)\n",
        "print(coeffs)"
      ],
      "execution_count": null,
      "outputs": [
        {
          "output_type": "stream",
          "text": [
            "[ 0.13832909 -0.2616678 ]\n"
          ],
          "name": "stdout"
        }
      ]
    },
    {
      "cell_type": "code",
      "metadata": {
        "colab": {
          "base_uri": "https://localhost:8080/",
          "height": 316
        },
        "id": "HRU-ez2vUHYI",
        "outputId": "9d6dd66c-7e0b-4618-8eb8-e66dc4b5a9a5"
      },
      "source": [
        "x_envelope = np.arange(x[0], x[-1]+0.00001, 0.001)\n",
        "y_envelope = np.exp(coeffs[0]*x_envelope + coeffs[1])\n",
        "plt.plot(x, y, 'ko', x_envelope, y_envelope, x_envelope, -y_envelope, linewidth = 4, markersize = 10)"
      ],
      "execution_count": null,
      "outputs": [
        {
          "output_type": "execute_result",
          "data": {
            "text/plain": [
              "[<matplotlib.lines.Line2D at 0x7f6837a464d0>,\n",
              " <matplotlib.lines.Line2D at 0x7f6837bce610>,\n",
              " <matplotlib.lines.Line2D at 0x7f6837bce290>]"
            ]
          },
          "metadata": {
            "tags": []
          },
          "execution_count": 116
        },
        {
          "output_type": "display_data",
          "data": {
            "image/png": "[encoded data removed]",
            "text/plain": [
              "<Figure size 432x288 with 1 Axes>"
            ]
          },
          "metadata": {
            "tags": [],
            "needs_background": "light"
          }
        }
      ]
    },
    {
      "cell_type": "code",
      "metadata": {
        "colab": {
          "base_uri": "https://localhost:8080/",
          "height": 299
        },
        "id": "0cpJPjtcUgwa",
        "outputId": "31bf42c1-8831-4984-ae94-85d7bb866547"
      },
      "source": [
        "plt.plot(x, y, 'ko', x_envelope, y_envelope*y_sin, linewidth = 4, markersize = 10)"
      ],
      "execution_count": null,
      "outputs": [
        {
          "output_type": "execute_result",
          "data": {
            "text/plain": [
              "[<matplotlib.lines.Line2D at 0x7f6838061850>,\n",
              " <matplotlib.lines.Line2D at 0x7f683805bfd0>]"
            ]
          },
          "metadata": {
            "tags": []
          },
          "execution_count": 117
        },
        {
          "output_type": "display_data",
          "data": {
            "image/png": "[encoded data removed]",
            "text/plain": [
              "<Figure size 432x288 with 1 Axes>"
            ]
          },
          "metadata": {
            "tags": [],
            "needs_background": "light"
          }
        }
      ]
    },
    {
      "cell_type": "markdown",
      "metadata": {
        "id": "onpQp-ecJKOT"
      },
      "source": [
        "##Older notes:"
      ]
    },
    {
      "cell_type": "code",
      "metadata": {
        "id": "Nkl1jQEQItiV",
        "outputId": "693c9a49-b7c8-4cdc-84b5-fc46caad3963"
      },
      "source": [
        "coeffs2 = np.polyfit(x, y, 2)\n",
        "coeffs3 = np.polyfit(x, y, 3)\n",
        "coeffs4 = np.polyfit(x, y, 4)\n",
        "yplot2 = np.polyval(coeffs2, xplot)\n",
        "yplot3 = np.polyval(coeffs3, xplot)\n",
        "yplot4 = np.polyval(coeffs4, xplot)\n",
        "\n",
        "plt.plot(xplot, yplot2, 'r', xplot, yplot3, 'b', xplot, yplot4, 'g', x, y, 'ko')"
      ],
      "execution_count": null,
      "outputs": [
        {
          "output_type": "execute_result",
          "data": {
            "text/plain": [
              "[<matplotlib.lines.Line2D at 0x7f66be8d5d30>,\n",
              " <matplotlib.lines.Line2D at 0x7f66be8d5e20>,\n",
              " <matplotlib.lines.Line2D at 0x7f66be8d5cd0>,\n",
              " <matplotlib.lines.Line2D at 0x7f66be8d5e50>]"
            ]
          },
          "metadata": {
            "tags": []
          },
          "execution_count": 61
        },
        {
          "output_type": "display_data",
          "data": {
            "image/png": "[encoded data removed]",
            "text/plain": [
              "<Figure size 432x288 with 1 Axes>"
            ]
          },
          "metadata": {
            "tags": [],
            "needs_background": "light"
          }
        }
      ]
    },
    {
      "cell_type": "markdown",
      "metadata": {
        "id": "n_wFaQXFItiW"
      },
      "source": [
        "As you can see, these do not appear to match the data very well.  Maybe we didn't go high enough?  "
      ]
    },
    {
      "cell_type": "code",
      "metadata": {
        "id": "ya3IzXwrItiW",
        "outputId": "8f43163a-a037-4da4-94c0-9af6540f1dba"
      },
      "source": [
        "coeffs90 = np.polyfit(x, y, 90)\n",
        "yplot90 = np.polyval(coeffs50, xplot)\n",
        "plt.plot(xplot, yplot90, 'r', x, y, 'ko')"
      ],
      "execution_count": null,
      "outputs": [
        {
          "output_type": "stream",
          "text": [
            "/home/lowell/anaconda3/lib/python3.8/site-packages/IPython/core/interactiveshell.py:3418: RankWarning: Polyfit may be poorly conditioned\n",
            "  exec(code_obj, self.user_global_ns, self.user_ns)\n"
          ],
          "name": "stderr"
        },
        {
          "output_type": "execute_result",
          "data": {
            "text/plain": [
              "[<matplotlib.lines.Line2D at 0x7f66bede7820>,\n",
              " <matplotlib.lines.Line2D at 0x7f66bede7610>]"
            ]
          },
          "metadata": {
            "tags": []
          },
          "execution_count": 62
        },
        {
          "output_type": "display_data",
          "data": {
            "image/png": "[encoded data removed]",
            "text/plain": [
              "<Figure size 432x288 with 1 Axes>"
            ]
          },
          "metadata": {
            "tags": [],
            "needs_background": "light"
          }
        }
      ]
    },
    {
      "cell_type": "markdown",
      "metadata": {
        "id": "2Fig_XjYItiX"
      },
      "source": [
        "This is a good illustration of the problems with high order polynomial fits.  You may be able to find a medium order polynomial that appears to be a good fit to the data (in this case, a 20th order polynomial does not look bad at all) but it is entirely by coincidence.  The data did not come from a polynomial formula, and we are not really approximating the real formula well with our polynomial fits.  In general, this idea of trying higher and higher order polynomials simply doesn't work.  \n",
        "\n",
        "If polynomial fits won't work, then what are we supposed to do?  It turns out that there is a way to proceed, but we need more information.  In particular, we need to know more about the formula we got our data from.  In this case, I made the data myself, so I know that it came from the formula $y = e^{ax}\\sin(bx) + \\epsilon$, where $\\epsilon$ was a small random number.  This is not a polynomial, but it is a formula with relatively few parameters.  That means that we can try to find a best fit curve of the appropriate form.  Unfortunately, python does not have a builtin function \"exponential_sine_fit\", so we will need to do a little more work than in the case of polynomials.  \n",
        "\n",
        "To start, let's just try a couple examples for $a$ and $b$.  "
      ]
    },
    {
      "cell_type": "code",
      "metadata": {
        "id": "_9kN0_8jItiX",
        "outputId": "839db861-804c-4840-d2f6-328040a16d35"
      },
      "source": [
        "a = 1\n",
        "b = 1\n",
        "yplot = np.exp(a * xplot) * np.sin(b * xplot)\n",
        "plt.plot(xplot, yplot, 'b', x, y, 'ko')"
      ],
      "execution_count": null,
      "outputs": [
        {
          "output_type": "execute_result",
          "data": {
            "text/plain": [
              "[<matplotlib.lines.Line2D at 0x7f66be919eb0>,\n",
              " <matplotlib.lines.Line2D at 0x7f66be919f10>]"
            ]
          },
          "metadata": {
            "tags": []
          },
          "execution_count": 63
        },
        {
          "output_type": "display_data",
          "data": {
            "image/png": "[encoded data removed]",
            "text/plain": [
              "<Figure size 432x288 with 1 Axes>"
            ]
          },
          "metadata": {
            "tags": [],
            "needs_background": "light"
          }
        }
      ]
    },
    {
      "cell_type": "markdown",
      "metadata": {
        "id": "DHucrMObItiY"
      },
      "source": [
        "This is obviously not a very good fit.  We can quantify just how bad it is with the RMS error: "
      ]
    },
    {
      "cell_type": "code",
      "metadata": {
        "id": "jeEkOOrUItiY",
        "outputId": "34ea9eef-0be8-4bd8-f850-3ab159c7f751"
      },
      "source": [
        "E = np.sqrt((1 / n) * np.sum((np.exp(a * x) * np.sin(b * x) - y) ** 2))\n",
        "print(E)"
      ],
      "execution_count": null,
      "outputs": [
        {
          "output_type": "stream",
          "text": [
            "2202.171475558139\n"
          ],
          "name": "stdout"
        }
      ]
    },
    {
      "cell_type": "markdown",
      "metadata": {
        "id": "-deL363CItiY"
      },
      "source": [
        "The problem is that $a = 1$ and $b = 1$ was not a very good guess.  Let's try again.  "
      ]
    },
    {
      "cell_type": "code",
      "metadata": {
        "id": "dB2x6FLbItiY",
        "outputId": "4a66b474-3324-489c-ad21-029597f7cc81"
      },
      "source": [
        "a = 0.1\n",
        "b = 5\n",
        "yplot = np.exp(a * xplot) * np.sin(b * xplot)\n",
        "plt.plot(xplot, yplot, 'b', x, y, 'ko')"
      ],
      "execution_count": null,
      "outputs": [
        {
          "output_type": "execute_result",
          "data": {
            "text/plain": [
              "[<matplotlib.lines.Line2D at 0x7f66be7d0a30>,\n",
              " <matplotlib.lines.Line2D at 0x7f66be7d0a60>]"
            ]
          },
          "metadata": {
            "tags": []
          },
          "execution_count": 65
        },
        {
          "output_type": "display_data",
          "data": {
            "image/png": "[encoded data removed]",
            "text/plain": [
              "<Figure size 432x288 with 1 Axes>"
            ]
          },
          "metadata": {
            "tags": [],
            "needs_background": "light"
          }
        }
      ]
    },
    {
      "cell_type": "markdown",
      "metadata": {
        "id": "jUnhgaxOItiZ"
      },
      "source": [
        "This certainly looks better, and we can quantify just how much better with the RMS error.  "
      ]
    },
    {
      "cell_type": "code",
      "metadata": {
        "id": "8N98h7pRItiZ",
        "outputId": "5acc7885-0b16-4d16-dcd1-a60234a936c1"
      },
      "source": [
        "E = np.sqrt((1 / n) * np.sum((np.exp(a * x) * np.sin(b * x) - y) ** 2))\n",
        "print(E)"
      ],
      "execution_count": null,
      "outputs": [
        {
          "output_type": "stream",
          "text": [
            "1.9406183256452776\n"
          ],
          "name": "stdout"
        }
      ]
    },
    {
      "cell_type": "markdown",
      "metadata": {
        "id": "PKnO-JVcItiZ"
      },
      "source": [
        "It looks like this approach could work quite well, but we don't just want to keep guessing and checking.  Instead, we want a systematic way to find the *best* fit.  At least in principle, we already know how to do this.  Remember that the only things we are actually allowed to change in this problem are $a$ and $b$, so our formula for the RMS error is really a function of $a$ and $b$: \n",
        "\n",
        "$E(a, b) = \\sqrt{\\frac{1}{n}\\displaystyle\\sum_{k=1}^{n}\\left(e^{ax_k}\\sin(bx_k) - y_k\\right)^2}$.  \n",
        "\n",
        "In python, this is "
      ]
    },
    {
      "cell_type": "code",
      "metadata": {
        "id": "oxBzJsU5ItiZ"
      },
      "source": [
        "RMS_Error = lambda a, b: np.sqrt((1 / n) * np.sum((np.exp(a * x) * np.sin(b * x) - y) ** 2))"
      ],
      "execution_count": null,
      "outputs": []
    },
    {
      "cell_type": "markdown",
      "metadata": {
        "id": "iz6k-PoOItiZ"
      },
      "source": [
        "(Note that we did not define n, x or y inside this function, so python will check for global variables with those names whenever RMS_Error is called.  This is ok for these notes, but can easily cause problems.  For instance, if you make a new variable named x, then RMS_Error will use that new variable instead of the old data.  We could fix this by passing in x, y and n as arguments or by recreating them inside the function.)\n",
        "\n",
        "To find the vest fit, we need to minimize this function.  Unfortunately, if we try to do so by hand we will quickly run into a system of equations that is impossible to solve.  Luckly for us, we already know a way to minimize functions of multiple variables in python: We can just use `scipy.optimize.minimize`.  \n",
        "\n",
        "Remember that `minimize` requires us to write our function in a special form.  In particular, we have to write `RMS_Error` so that it only takes one argument, but that argument is allowed to be an array.  We will therefore pretend that `coeffs` is the array $[a, b]$ (but we willnot define it in python, because we don't want to choose specific values for $a$ and $b$).  "
      ]
    },
    {
      "cell_type": "code",
      "metadata": {
        "id": "aOkGIvV8Itia"
      },
      "source": [
        "RMS_Error = lambda coeffs: np.sqrt((1 / n) * np.sum((np.exp(coeffs[0] * x) * np.sin(coeffs[1] * x) - y) ** 2))"
      ],
      "execution_count": null,
      "outputs": []
    },
    {
      "cell_type": "markdown",
      "metadata": {
        "id": "bp9RxJ-AItia"
      },
      "source": [
        "This is exactly the same formula as before, except we replaced `a` with `coeffs[0]` and we replaced `b` with `coeffs[1]`.  We can now use `minimize` to minimize this error function.  Let's use a guess of $a = 0.1$ and $b = 5$, since they gave a reasonable graph before.  "
      ]
    },
    {
      "cell_type": "code",
      "metadata": {
        "id": "t8mwO4jFItia",
        "outputId": "2288999a-2f07-42fa-a0ba-4718a0a48b3c"
      },
      "source": [
        "coeff_min = scipy.optimize.minimize(RMS_Error, np.array([0.1, 5]), method='Nelder-Mead')\n",
        "print(coeff_min.x)"
      ],
      "execution_count": null,
      "outputs": [
        {
          "output_type": "stream",
          "text": [
            "[0.09917122 3.99676341]\n"
          ],
          "name": "stdout"
        }
      ]
    },
    {
      "cell_type": "markdown",
      "metadata": {
        "id": "CO9sTpvJItia"
      },
      "source": [
        "Notice that the resulting array is in the same order as we chose before.  That is, $a$ is the first entry of `coeff_min.x` and $b$ is the second entry of `coeff_min.x`.  "
      ]
    },
    {
      "cell_type": "code",
      "metadata": {
        "id": "3fnJPj_7Itia"
      },
      "source": [
        "a = coeff_min.x[0]\n",
        "b = coeff_min.x[1]"
      ],
      "execution_count": null,
      "outputs": []
    },
    {
      "cell_type": "markdown",
      "metadata": {
        "id": "qosckzYkItia"
      },
      "source": [
        "We can see how well we did by calculating the RMS error of our fit"
      ]
    },
    {
      "cell_type": "code",
      "metadata": {
        "id": "FdLYZEuzItib",
        "outputId": "f17390e1-c2c8-4492-c432-7064f59ec2fc"
      },
      "source": [
        "print(RMS_Error(coeff_min.x))"
      ],
      "execution_count": null,
      "outputs": [
        {
          "output_type": "stream",
          "text": [
            "0.30227472171150016\n"
          ],
          "name": "stdout"
        }
      ]
    },
    {
      "cell_type": "markdown",
      "metadata": {
        "id": "ckqnZg9gItib"
      },
      "source": [
        "and by plotting our new formula."
      ]
    },
    {
      "cell_type": "code",
      "metadata": {
        "id": "4f_Uz0hHItib",
        "outputId": "4ccbd7b3-79d1-4d1e-e3de-08672d1c3397"
      },
      "source": [
        "yplot = np.exp(a * xplot) * np.sin(b * xplot)\n",
        "plt.plot(xplot, yplot, 'r', x, y, 'ko')"
      ],
      "execution_count": null,
      "outputs": [
        {
          "output_type": "execute_result",
          "data": {
            "text/plain": [
              "[<matplotlib.lines.Line2D at 0x7f66be7a1b20>,\n",
              " <matplotlib.lines.Line2D at 0x7f66be7a1b50>]"
            ]
          },
          "metadata": {
            "tags": []
          },
          "execution_count": 72
        },
        {
          "output_type": "display_data",
          "data": {
            "image/png": "[encoded data removed]",
            "text/plain": [
              "<Figure size 432x288 with 1 Axes>"
            ]
          },
          "metadata": {
            "tags": [],
            "needs_background": "light"
          }
        }
      ]
    },
    {
      "cell_type": "markdown",
      "metadata": {
        "id": "oD7cG3TBItib"
      },
      "source": [
        "As you can see, this is a substantially better match than any of our polynomials.  There is one important word of warning worth including here: The function $E(a, b)$ is highly nonlinear, and so it is entirely possible that it has more than one minimum.  `minimize` has no guarantee of finding the best fit; it will just find a local minimum close to your initial guess.  This means that if you make a bad initial guess for the coefficients, then you can find a very bad fit for your data.  For example, "
      ]
    },
    {
      "cell_type": "code",
      "metadata": {
        "id": "gjlbQlFmItic",
        "outputId": "7835cbc4-097a-4313-a9aa-bd320ee4abbe"
      },
      "source": [
        "coeff_min = scipy.optimize.minimize(RMS_Error, np.array([0.1, 10]), method='Nelder-Mead')\n",
        "a = coeff_min.x[0]\n",
        "b = coeff_min.x[1]\n",
        "yplot = np.exp(a * xplot) * np.sin(b * xplot)\n",
        "plt.plot(xplot, yplot, 'r', x, y, 'ko')"
      ],
      "execution_count": null,
      "outputs": [
        {
          "output_type": "execute_result",
          "data": {
            "text/plain": [
              "[<matplotlib.lines.Line2D at 0x7f66be779910>,\n",
              " <matplotlib.lines.Line2D at 0x7f66be779940>]"
            ]
          },
          "metadata": {
            "tags": []
          },
          "execution_count": 73
        },
        {
          "output_type": "display_data",
          "data": {
            "image/png": "[encoded data removed]",
            "text/plain": [
              "<Figure size 432x288 with 1 Axes>"
            ]
          },
          "metadata": {
            "tags": [],
            "needs_background": "light"
          }
        }
      ]
    },
    {
      "cell_type": "markdown",
      "metadata": {
        "id": "iRJW7SvNItic"
      },
      "source": [
        "There is no systematic way around this issue; you just have to know enough about where your data came from to make a reasonable guess.  "
      ]
    }
  ]
}