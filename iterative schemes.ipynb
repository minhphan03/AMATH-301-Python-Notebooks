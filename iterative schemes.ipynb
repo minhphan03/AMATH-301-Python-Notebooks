{
  "nbformat": 4,
  "nbformat_minor": 0,
  "metadata": {
    "kernelspec": {
      "display_name": "Python 3",
      "language": "python",
      "name": "python3"
    },
    "language_info": {
      "codemirror_mode": {
        "name": "ipython",
        "version": 3
      },
      "file_extension": ".py",
      "mimetype": "text/x-python",
      "name": "python",
      "nbconvert_exporter": "python",
      "pygments_lexer": "ipython3",
      "version": "3.8.5"
    },
    "colab": {
      "name": "Week4_2_python.ipynb",
      "provenance": [],
      "collapsed_sections": []
    }
  },
  "cells": [
    {
      "cell_type": "markdown",
      "metadata": {
        "id": "BCn8S50FFh0x"
      },
      "source": [
        "# Week 4 Lecture 2:  Iterative Methods"
      ]
    },
    {
      "cell_type": "code",
      "metadata": {
        "id": "zyCqFyqgFV5U"
      },
      "source": [
        "import numpy as np\n",
        "import scipy.linalg as la"
      ],
      "execution_count": null,
      "outputs": []
    },
    {
      "cell_type": "markdown",
      "metadata": {
        "id": "kb6Yn2NhODFn"
      },
      "source": [
        "# Rahman notes:\n",
        "## Matrix iteration\n",
        "\n",
        "Suppose we have the matrix equation $Ax = b$ where we write $A = I - M$.  As we showed in the theory lecture, we can write a recurrence relation for the solution: $x_{n+1} = Mx_n + b$.  Further assume that this recurrence relation covnerges -- we can test for convergence by verifying the maximal eigenvalue is within unity in absolute value.  Then as $n \\rightarrow \\infty$, $x_n \\rightarrow x$.  Let's see how this works in an example."
      ]
    },
    {
      "cell_type": "code",
      "metadata": {
        "colab": {
          "base_uri": "https://localhost:8080/"
        },
        "id": "ox8xQdkZsAPt",
        "outputId": "92c012c2-82df-4c7f-d03e-4260a2ec4c4a"
      },
      "source": [
        "### Initialization block\n",
        "n = 10\n",
        "A = np.identity(n) - 0.3*(np.random.rand(n,n) - 0.5)\n",
        "M = np.identity(n)-A\n",
        "b = np.random.rand(n,1)\n",
        "x = np.zeros((n,1))\n",
        "\n",
        "w, V = np.linalg.eig(M)\n",
        "print(np.max(np.abs(w)))"
      ],
      "execution_count": null,
      "outputs": [
        {
          "output_type": "stream",
          "text": [
            "0.28222311786910625\n"
          ],
          "name": "stdout"
        }
      ]
    },
    {
      "cell_type": "code",
      "metadata": {
        "colab": {
          "base_uri": "https://localhost:8080/"
        },
        "id": "qEkvFkUowmDv",
        "outputId": "faf8cdc2-15a7-4864-8880-d2d738758a97"
      },
      "source": [
        "### Solution block\n",
        "x = M@x + b\n",
        "print('x = ', x, '   Error = ', A@x-b)"
      ],
      "execution_count": null,
      "outputs": [
        {
          "output_type": "stream",
          "text": [
            "x =  [[ 1.080302  ]\n",
            " [ 0.46743161]\n",
            " [ 1.1878141 ]\n",
            " [ 0.48813548]\n",
            " [-0.23018791]\n",
            " [ 0.63394903]\n",
            " [ 0.98852123]\n",
            " [ 0.90072341]\n",
            " [ 1.09857257]\n",
            " [ 1.03717597]]    Error =  [[ 2.10399865e-04]\n",
            " [ 2.70746356e-04]\n",
            " [ 5.97098309e-06]\n",
            " [-1.00354006e-04]\n",
            " [-1.07784711e-03]\n",
            " [-2.00740207e-03]\n",
            " [ 1.44160235e-03]\n",
            " [ 8.02208220e-04]\n",
            " [ 3.53955221e-05]\n",
            " [-4.98039617e-04]]\n"
          ],
          "name": "stdout"
        }
      ]
    },
    {
      "cell_type": "markdown",
      "metadata": {
        "id": "epHa5tk9xLEP"
      },
      "source": [
        "We can just play the solution block to get to the next iterate.  To reset it play the initalization block again."
      ]
    },
    {
      "cell_type": "markdown",
      "metadata": {
        "id": "xPHa9j7fxr-M"
      },
      "source": [
        "## Jacobi Method\n",
        "\n",
        "A \"good\" algorithm should be robust and fast.  Jacobi's algorithm is based around the more robust additive decomposition of a matrix: $A = L + D + U$.  As we showed in the theory lecture, this gives us the recurrence relation: $x_{n+1} = -D^{-1}(L+U)x_n + D^{-1}b$.  Lets see how this works through the following example."
      ]
    },
    {
      "cell_type": "code",
      "metadata": {
        "id": "_mkZb3_0yGEU"
      },
      "source": [
        "### Initialization Block\n",
        "d = np.array([1, 2, 3, 4, 5])\n",
        "D = np.diag(d)\n",
        "d = d.reshape(5,1)\n",
        "A = D + 0.1*np.random.randn(5,5)\n",
        "LpU = A - D # L+U\n",
        "b = np.ones((5,1))\n",
        "x = np.zeros((5,1))\n",
        "\n",
        "M = -LpU/d\n",
        "c = b/d"
      ],
      "execution_count": null,
      "outputs": []
    },
    {
      "cell_type": "code",
      "metadata": {
        "colab": {
          "base_uri": "https://localhost:8080/"
        },
        "id": "7tgK6_3I1MgU",
        "outputId": "9d294429-1950-49ed-f11c-cd7da76e734a"
      },
      "source": [
        "### Solution block\n",
        "x = M@x + c\n",
        "print('x = ', x, '\\n', '   Error = ', A@x-b)"
      ],
      "execution_count": null,
      "outputs": [
        {
          "output_type": "stream",
          "text": [
            "x =  [[1.        ]\n",
            " [0.5       ]\n",
            " [0.33333333]\n",
            " [0.25      ]\n",
            " [0.2       ]] \n",
            "    Error =  [[-0.08883391]\n",
            " [-0.2159052 ]\n",
            " [ 0.01698502]\n",
            " [-0.17664335]\n",
            " [ 0.11493104]]\n"
          ],
          "name": "stdout"
        }
      ]
    },
    {
      "cell_type": "markdown",
      "metadata": {
        "id": "xyC742sz1Ww0"
      },
      "source": [
        "We can just play the solution block to get to the next iterate.  To reset it play the initalization block again."
      ]
    },
    {
      "cell_type": "markdown",
      "metadata": {
        "id": "WE-vKj-X7fQp"
      },
      "source": [
        "Notice that I used elementwise division with a column vector containing the diagonal elements of the diagonal matrix.  This is because, as I showed before, the inverse of the diagonal matrix is just the reciprocal of the diagonal entries, which is precisely what the elementwise division with the column vector gives us.  I encourage you to write it out with pen and paper to convince yourselves that this is true.  This elementwise division is much faster than what is done in the Older Notes towards the bottom of this document."
      ]
    },
    {
      "cell_type": "markdown",
      "metadata": {
        "id": "owucx4Mi5pcO"
      },
      "source": [
        "## Gauss-Seidel Algorithm\n",
        "\n",
        "Similarly for Gauss-Seidel we have the recurrence relation: $x_{n+1} = -(L+D)^{-1}Ux_n + (L+D)^{-1}b$"
      ]
    },
    {
      "cell_type": "code",
      "metadata": {
        "id": "nhDdFTEb7T4S"
      },
      "source": [
        "### Initialization Block\n",
        "D = np.diag(np.array([1, 2, 3, 4, 5]))\n",
        "A = D + 0.1*np.random.randn(5,5)\n",
        "LpD = np.tril(A) # L+D\n",
        "U = A - LpD\n",
        "b = np.ones((5,1))\n",
        "x = np.zeros((5,1))\n",
        "\n",
        "M = -la.solve(LpD, U)\n",
        "c = la.solve(LpD, b)"
      ],
      "execution_count": null,
      "outputs": []
    },
    {
      "cell_type": "code",
      "metadata": {
        "colab": {
          "base_uri": "https://localhost:8080/"
        },
        "id": "c8Os3ipp8X9M",
        "outputId": "a0475eb6-cdf0-4c9b-f4c7-12fdbce02f0c"
      },
      "source": [
        "### Solution block\n",
        "x = M@x + c\n",
        "print('x = ', x, '\\n', '   Error = ', A@x-b)"
      ],
      "execution_count": null,
      "outputs": [
        {
          "output_type": "stream",
          "text": [
            "x =  [[1.07254361]\n",
            " [0.49127848]\n",
            " [0.26801721]\n",
            " [0.27954481]\n",
            " [0.21737354]] \n",
            "    Error =  [[-1.59465774e-11]\n",
            " [-1.36196499e-10]\n",
            " [-3.04186454e-10]\n",
            " [ 1.59641189e-11]\n",
            " [ 0.00000000e+00]]\n"
          ],
          "name": "stdout"
        }
      ]
    },
    {
      "cell_type": "markdown",
      "metadata": {
        "id": "yWBxySOZ9rz9"
      },
      "source": [
        "## Comparing Jacobi and Gauss-Seidel\n",
        "\n"
      ]
    },
    {
      "cell_type": "code",
      "metadata": {
        "colab": {
          "base_uri": "https://localhost:8080/",
          "height": 299
        },
        "id": "TQwkMcMI9238",
        "outputId": "9a1ea980-2d9f-49c2-962e-c076a0125f80"
      },
      "source": [
        "import matplotlib.pyplot as plt\n",
        "\n",
        "d = np.array([1, 2, 3, 4, 5])\n",
        "D = np.diag(d)\n",
        "d = d.reshape(5,1)\n",
        "A = D + 0.1*np.random.randn(5,5)\n",
        "LpU = A - D # L+U\n",
        "LpD = np.tril(A) # L+D\n",
        "U = A - LpD\n",
        "b = np.ones((5,1))\n",
        "x_j = np.zeros((5,1))\n",
        "x_gs = x_j.copy()\n",
        "\n",
        "M_j = -LpU/d\n",
        "c_j = b/d\n",
        "M_gs = -la.solve(LpD, U)\n",
        "c_gs = la.solve(LpD, b)\n",
        "\n",
        "TrueSol = la.solve(A, b)\n",
        "\n",
        "T = 10\n",
        "err_j = np.zeros(T)\n",
        "err_gs = err_j.copy()\n",
        "\n",
        "for i in range(T):\n",
        "  x_j = M_j@x_j + c_j\n",
        "  x_gs = M_gs@x_gs + c_gs\n",
        "  err_j[i] = np.max(np.abs(x_j - TrueSol))\n",
        "  err_gs[i] = np.max(np.abs(x_gs - TrueSol))\n",
        "\n",
        "T = np.arange(T)\n",
        "plt.semilogy(T, err_j, T, err_gs, linewidth = 4)"
      ],
      "execution_count": null,
      "outputs": [
        {
          "output_type": "execute_result",
          "data": {
            "text/plain": [
              "[<matplotlib.lines.Line2D at 0x7f3d2b255990>,\n",
              " <matplotlib.lines.Line2D at 0x7f3d2d2c6910>]"
            ]
          },
          "metadata": {
            "tags": []
          },
          "execution_count": 122
        },
        {
          "output_type": "display_data",
          "data": {
            "image/png": "[encoded data removed]",
            "text/plain": [
              "<Figure size 432x288 with 1 Axes>"
            ]
          },
          "metadata": {
            "tags": [],
            "needs_background": "light"
          }
        }
      ]
    },
    {
      "cell_type": "markdown",
      "metadata": {
        "id": "pwHV7l7RA-WA"
      },
      "source": [
        "Notice that we used the function \"semilogy\", which gives us a log scale on the vertical axis (the ordinate).  If we had used the usual plot function it would have looked like utter ....  Compare:"
      ]
    },
    {
      "cell_type": "code",
      "metadata": {
        "colab": {
          "base_uri": "https://localhost:8080/",
          "height": 299
        },
        "id": "HjQ91M9iA7Mw",
        "outputId": "b963399d-7a9f-40ab-959a-9dfc4b6a9403"
      },
      "source": [
        "plt.plot(T, err_j, T, err_gs, linewidth = 4)"
      ],
      "execution_count": null,
      "outputs": [
        {
          "output_type": "execute_result",
          "data": {
            "text/plain": [
              "[<matplotlib.lines.Line2D at 0x7f3d2ab67990>,\n",
              " <matplotlib.lines.Line2D at 0x7f3d2a8964d0>]"
            ]
          },
          "metadata": {
            "tags": []
          },
          "execution_count": 123
        },
        {
          "output_type": "display_data",
          "data": {
            "image/png": "[encoded data removed]",
            "text/plain": [
              "<Figure size 432x288 with 1 Axes>"
            ]
          },
          "metadata": {
            "tags": [],
            "needs_background": "light"
          }
        }
      ]
    },
    {
      "cell_type": "markdown",
      "metadata": {
        "id": "FdT8O3XkFV5Y"
      },
      "source": [
        "# Older notes: \n",
        "## Jacobi Method\n",
        "One of the easiest types of systems to solve is a diagonal system.  That is, if $P$ is a matrix with zeros everywhere except the main diagonal, then it is very fast to solve $P\\mathbf{x} = \\mathbf{c}$.  (You wrote your own diagonal system solver in the last activity, but the backslash command will be fast enough for our purposes.)  It is easy to check that we can solve such a system in $\\mathcal{O}(N)$ steps, since finding each variable only involves a single division step.  It would therefore be convenient to choose a diagonal matrix for $P$ in our splitting method.  If we choose $P$ as the diagonal matrix with the same diagonal entries as $A$, then our method is called the *Jacobi method*.  That is, we should choose\n",
        "\n",
        "$P = \\left(\\begin{array}{c} 6 & 0 & 0 \\\\ 0 & 8 & 0 \\\\ 0 & 0 & 9 \\end{array}\\right)$ and $T = \\left(\\begin{array}{c} 0 & 1 & 1 \\\\ 1 & 0 & 2 \\\\ 2 & 3 & 0 \\end{array}\\right)$.  \n",
        "\n",
        "(Remember, we have to choose $T = A - P$ to satisfy the requirement for a matrix splitting method.)  We could type these matrices out in MATLAB, but there is a convenient function in python that will make this easier.  We encountered the `diag` function in the last lecture when we made a diagonal matrix with entries from a 1D array.  This function has another use when we use a 2D array as an argument: It creates a 1D array with all of the diagonal entries.  For example, "
      ]
    },
    {
      "cell_type": "code",
      "metadata": {
        "id": "XJEyQHp4FV5Z",
        "outputId": "0e6c72bd-5a28-46ab-e5f0-14811f83c758"
      },
      "source": [
        "np.diag(A)"
      ],
      "execution_count": null,
      "outputs": [
        {
          "output_type": "execute_result",
          "data": {
            "text/plain": [
              "array([6, 8, 9])"
            ]
          },
          "metadata": {
            "tags": []
          },
          "execution_count": 3
        }
      ]
    },
    {
      "cell_type": "markdown",
      "metadata": {
        "id": "En3teEnGFV5a"
      },
      "source": [
        "In other words, if you give `diag` a matrix, it returns a 1D array with the diagonal entries.  If you give `diag` a 1D array, it returns a diagonal matrix with those entries.  Therefore, if we use `diag` twice on `A`, we will get a diagonal matrix with the same diagonal entries as `A`.  "
      ]
    },
    {
      "cell_type": "code",
      "metadata": {
        "id": "17vAtHeJFV5a",
        "outputId": "095c1694-ccef-48f9-86a0-6dee3f445b9a"
      },
      "source": [
        "P = np.diag(np.diag(A))\n",
        "print(P)"
      ],
      "execution_count": null,
      "outputs": [
        {
          "output_type": "stream",
          "text": [
            "[[6 0 0]\n",
            " [0 8 0]\n",
            " [0 0 9]]\n"
          ],
          "name": "stdout"
        }
      ]
    },
    {
      "cell_type": "code",
      "metadata": {
        "id": "9tPCdpxwFV5a",
        "outputId": "012f4264-c4a4-4ce0-9f61-46a777246c03"
      },
      "source": [
        "T = A - P\n",
        "print(T)"
      ],
      "execution_count": null,
      "outputs": [
        {
          "output_type": "stream",
          "text": [
            "[[0 1 1]\n",
            " [1 0 2]\n",
            " [2 3 0]]\n"
          ],
          "name": "stdout"
        }
      ]
    },
    {
      "cell_type": "markdown",
      "metadata": {
        "id": "FBRxlmmdFV5b"
      },
      "source": [
        "We can check that our method will converge by finding the magnitude of all the eigenvalues of $M = -P^{-1}T$.  "
      ]
    },
    {
      "cell_type": "code",
      "metadata": {
        "id": "pRRMF-WxFV5b",
        "outputId": "c52be780-d1e3-428f-96f8-69466dcbd5e5"
      },
      "source": [
        "M = -scipy.linalg.solve(P, T)\n",
        "w, V = np.linalg.eig(M)\n",
        "print(np.abs(w))"
      ],
      "execution_count": null,
      "outputs": [
        {
          "output_type": "stream",
          "text": [
            "[0.42362039 0.13048966 0.29313073]\n"
          ],
          "name": "stdout"
        }
      ]
    },
    {
      "cell_type": "code",
      "metadata": {
        "id": "P_6omzAsFV5c",
        "outputId": "795f2b89-4fd8-4526-8a46-2e4b5fd9ca45"
      },
      "source": [
        "print(np.max(np.abs(w)))"
      ],
      "execution_count": null,
      "outputs": [
        {
          "output_type": "stream",
          "text": [
            "0.4236203869607174\n"
          ],
          "name": "stdout"
        }
      ]
    },
    {
      "cell_type": "markdown",
      "metadata": {
        "id": "MPNJ9Ee5FV5c"
      },
      "source": [
        "Since the largest eigenvalue (and therefore all of the eigenvalues) is smaller than 1, the Jacobi method will converge for this problem.  \n",
        "\n",
        "To begin a matrix splitting method, we need to make some initial guess for our solution.  We already showed that the choice of guess does not affect the convergence of our method, so it does not particularly matter what we choose here.  It is common to choose a random vector in situations like this, but we will choose a vector of all ones for no particular reason.  "
      ]
    },
    {
      "cell_type": "code",
      "metadata": {
        "id": "41VaenL0FV5g"
      },
      "source": [
        "x0 = np.ones((3, 1))"
      ],
      "execution_count": null,
      "outputs": []
    },
    {
      "cell_type": "markdown",
      "metadata": {
        "id": "rywJqrweFV5g"
      },
      "source": [
        "We can now use the equation \n",
        "\n",
        "$\\mathbf{x}_k = P^{-1}\\left(-T\\mathbf{x}_{k-1} + \\mathbf{b}\\right)$\n",
        "\n",
        "to implement our algorithm.  Remember, you should use the `solve_triangular` function in place of matrix inverses in python for this problem.  (There is no builtin diagonal system solver in the scipy package, but we could also use the one we wrote.  For our purposes, `solve_triangular` will be fast enough.)  We could therefore find the next guess using "
      ]
    },
    {
      "cell_type": "code",
      "metadata": {
        "id": "eGVWUG0lFV5h",
        "outputId": "24e53f16-96de-45ac-a792-7a4a83b8ff3e"
      },
      "source": [
        "x1 = scipy.linalg.solve_triangular(P, -T @ x0 + b)\n",
        "print(x1)"
      ],
      "execution_count": null,
      "outputs": [
        {
          "output_type": "stream",
          "text": [
            "[[ 1.33333333]\n",
            " [-1.375     ]\n",
            " [-1.44444444]]\n"
          ],
          "name": "stdout"
        }
      ]
    },
    {
      "cell_type": "markdown",
      "metadata": {
        "id": "ZIxIhw3SFV5h"
      },
      "source": [
        "This is closer to the true solution than before, so it seems like we are on the right track.  We can continue this process with "
      ]
    },
    {
      "cell_type": "code",
      "metadata": {
        "id": "1BXt1RYIFV5h",
        "outputId": "f550b389-1a18-4eb4-92e0-f53c2fb162bc"
      },
      "source": [
        "x2 = scipy.linalg.solve_triangular(P, -T @ x1 + b)\n",
        "print(x2)"
      ],
      "execution_count": null,
      "outputs": [
        {
          "output_type": "stream",
          "text": [
            "[[ 2.13657407]\n",
            " [-0.80555556]\n",
            " [-0.72685185]]\n"
          ],
          "name": "stdout"
        }
      ]
    },
    {
      "cell_type": "code",
      "metadata": {
        "id": "UcXorAimFV5i",
        "outputId": "af3392bf-3f65-43bc-bb29-01721626e84c"
      },
      "source": [
        "x3 = scipy.linalg.solve_triangular(P, -T @ x2 + b)\n",
        "print(x3)"
      ],
      "execution_count": null,
      "outputs": [
        {
          "output_type": "stream",
          "text": [
            "[[ 1.9220679 ]\n",
            " [-1.0853588 ]\n",
            " [-1.09516461]]\n"
          ],
          "name": "stdout"
        }
      ]
    },
    {
      "cell_type": "code",
      "metadata": {
        "id": "jaEd4v6VFV5i",
        "outputId": "879e66cf-770e-4661-bcf2-02412de34a9e"
      },
      "source": [
        "x4 = scipy.linalg.solve_triangular(P, -T @ x3 + b)\n",
        "print(x4)"
      ],
      "execution_count": null,
      "outputs": [
        {
          "output_type": "stream",
          "text": [
            "[[ 2.03008723]\n",
            " [-0.96646734]\n",
            " [-0.95422882]]\n"
          ],
          "name": "stdout"
        }
      ]
    },
    {
      "cell_type": "markdown",
      "metadata": {
        "id": "tTCxncBpFV5i"
      },
      "source": [
        "These first few guesses do seem to confirm that we are converging to the correct solution, but it should also be clear that we don't want to continue this process by hand.  Since we are repeating almost the same code over and over again, it is probably a good idea to use a loop.  Since we don't know how many steps we need, this is actually a good place for a while loop, but we will start with a for loop because they tend to be easier to understand.  "
      ]
    },
    {
      "cell_type": "markdown",
      "metadata": {
        "id": "U-wkRKrJFV5j"
      },
      "source": [
        "### Jacobi method (version 1)\n",
        "As a (very rough) first pass, we can try the following: "
      ]
    },
    {
      "cell_type": "code",
      "metadata": {
        "id": "N80eHS-gFV5j",
        "outputId": "99a92850-2e8d-4026-d5b6-77514ac0529c"
      },
      "source": [
        "A = np.array([[6, 1, 1], [1, 8, 2], [2, 3, 9]])\n",
        "b = np.array([[10], [-8], [-8]])\n",
        "P = np.diag(np.diag(A))\n",
        "T = A - P\n",
        "\n",
        "x0 = np.ones((3, 1))\n",
        "for k in range(100):\n",
        "    x1 = scipy.linalg.solve_triangular(P, -T @ x0 + b)\n",
        "    \n",
        "print(x1)"
      ],
      "execution_count": null,
      "outputs": [
        {
          "output_type": "stream",
          "text": [
            "[[ 1.33333333]\n",
            " [-1.375     ]\n",
            " [-1.44444444]]\n"
          ],
          "name": "stdout"
        }
      ]
    },
    {
      "cell_type": "markdown",
      "metadata": {
        "id": "ApX4HWiIFV5j"
      },
      "source": [
        "This doesn't really do what we want, since it just calculates the first guess over and over again.  We need to somehow keep track of our guesses as we go.  "
      ]
    },
    {
      "cell_type": "markdown",
      "metadata": {
        "id": "EQWBVeCYFV5j"
      },
      "source": [
        "### Jacobi method (version 2)\n",
        "There are several ways to do this, but we will try storing all of our guesses in a big matrix.  (We actually only ever need the last two guesses, but it might be convenient to have a record of all our guesses for analysis.)  In particular, we will make a matrix `X` where every column is supposed to represent one of our guesses.  Since our loop needs access to the initial guess, we will need to put this initial guess into our matrix as well.  \n",
        "\n",
        "Remember that we always want to initialize our matrices by creating an \"empty\" matrix of the right size before we start our loop.  However, we don't know how many guesses we will actually need, so we don't know how big to make our matrix.  There is not really an ideal way around this problem, but we will start by making space for 101 columns, because or loop repeats 100 times (plus one column for the initial guess).  Note that it would be fine to make `X` bigger, but our code will fail if we initialize `X` with fewer than 101 columns, because at some point in our loop we would try to fill in a column past the end of our matrix.  "
      ]
    },
    {
      "cell_type": "code",
      "metadata": {
        "id": "0wnZ4xquFV5k"
      },
      "source": [
        "A = np.array([[6, 1, 1], [1, 8, 2], [2, 3, 9]])\n",
        "b = np.array([[10], [-8], [-8]])\n",
        "P = np.diag(np.diag(A))\n",
        "T = A - P\n",
        "\n",
        "x0 = np.ones((3, 1))\n",
        "X = np.zeros((3, 101))\n",
        "X[:, 0:1] = x0"
      ],
      "execution_count": null,
      "outputs": []
    },
    {
      "cell_type": "markdown",
      "metadata": {
        "id": "xKpx-5EHFV5l"
      },
      "source": [
        "The last line uses a trick we mentioned briefly in the first week.  The problem is that python treats `X[:, 0]` as a 1D array, but x0 is a column vector (i.e., a 2D array with three rows and one column).  If you try to write `X[:, 0] = x0`, then python will throw an error because the shapes on the left and right do not match.  We could fix this by reshaping x0 to a 1D array with the code \n",
        "\n",
        "`X[:, 0] = x0.reshape(3)` or `X[:, 0] = np.reshape(x0, (3))`\n",
        "\n",
        "but it is more convenient to replace `X[:, 0]` with `X[:, 0:1]`.  Remember, `0:1` means \"start at index zero, then go up until just before you reach index one.\"  Of course, that just means index 0, but the fact that we used a colon (or in other words, a slice) tells python to pay attention to the shape and treat everything as 2D arrays.  \n",
        "\n",
        "We are now in a position to fix our loop.  At every step, we want to update the next guess using our last guess.  Turning this into code, we have "
      ]
    },
    {
      "cell_type": "code",
      "metadata": {
        "id": "gILsP_JoFV5l"
      },
      "source": [
        "for k in range(100):\n",
        "    X[:, (k+1):(k+2)] = scipy.linalg.solve_triangular(P, -T @ X[:, k:(k+1)] + b)"
      ],
      "execution_count": null,
      "outputs": []
    },
    {
      "cell_type": "markdown",
      "metadata": {
        "id": "rXzAsoc3FV5l"
      },
      "source": [
        "We have used the same trick twice here.  We would really like to write \n",
        "\n",
        "`X[:, k+1] = scipy.linalg.solve_triangular(P, -T @ X[:, k] + b)`\n",
        "\n",
        "but we run into the same issue where python has difficulty converting between 1D and 2D arrays.  The code `X[:, k]` makes a 1D array, but the `@` operator expects 2D arrays.  The solve_triangular function then produces a 2D array (a column vector), which we can't assign to `X[:, k+1]` because that is a 1D array.  As before, we could also fix this with a couple reshape commands, but this \"slice trick\" is a lot more convenient.  (It's actually faster too, since the reshape command copies the array in question.)\n",
        "\n",
        "If you print out the matrix `X`, you should see that the columns are now filled with our guesses (and the first five columns match our old answers).  You should also notice that our method converged successfully, since the last column is the true solution to $A\\mathbf{x} = \\mathbf{b}$.  In fact, our method seemed to converge in much fewer than 100 steps, since the last twenty or so columns are all exactly the same.  "
      ]
    },
    {
      "cell_type": "markdown",
      "metadata": {
        "id": "gw9D4OZtFV5m"
      },
      "source": [
        "### Jacobi method (version 3)\n",
        "The reason our method kept running after finding the correct answer is because we didn't include our stopping criterion.  Remember, we decided to stop if the difference between our last two guesses was smaller than some predefined tolerance.  We can fix our code by adding an `if` `break` combination, just like in the bisection method.  "
      ]
    },
    {
      "cell_type": "code",
      "metadata": {
        "id": "Qa_E_RGJFV5o"
      },
      "source": [
        "A = np.array([[6, 1, 1], [1, 8, 2], [2, 3, 9]])\n",
        "b = np.array([[10], [-8], [-8]])\n",
        "P = np.diag(np.diag(A))\n",
        "T = A - P\n",
        "\n",
        "tolerance = 1e-8\n",
        "x0 = np.ones((3, 1))\n",
        "X = np.zeros((3, 101))\n",
        "X[:, 0:1] = x0\n",
        "\n",
        "for k in range(100):\n",
        "    X[:, (k+1):(k+2)] = scipy.linalg.solve_triangular(P, -T @ X[:, k:(k+1)] + b)\n",
        "    if np.max(np.abs(X[:, k+1] - X[:, k])) < tolerance:\n",
        "        break"
      ],
      "execution_count": null,
      "outputs": []
    },
    {
      "cell_type": "markdown",
      "metadata": {
        "id": "8dHTrPdLFV5p"
      },
      "source": [
        "This appears to have worked.  It converged to within about 8 decimal places of the correct answer after only 25 guesses (including the initial guess).  The rest of the matrix `X` is all zeros, because our loop stopped before filling in those columns.  We can chop off those extra zeros with the code"
      ]
    },
    {
      "cell_type": "code",
      "metadata": {
        "id": "Ld7lktNmFV5p",
        "outputId": "3b8dffe9-423c-4141-eb95-d476b1e07672"
      },
      "source": [
        "X = X[:, :(k+2)]\n",
        "print(X)"
      ],
      "execution_count": null,
      "outputs": [
        {
          "output_type": "stream",
          "text": [
            "[[ 1.          1.33333333  2.13657407  1.9220679   2.03008723  1.98678269\n",
            "   2.00551122  1.99764614  2.00099237  1.99957832  2.00017827  1.99992438\n",
            "   2.000032    1.99998643  2.00000574  1.99999757  2.00000103  1.99999956\n",
            "   2.00000019  1.99999992  2.00000003  1.99999999  2.00000001  2.\n",
            "   2.        ]\n",
            " [ 1.         -1.375      -0.80555556 -1.0853588  -0.96646734 -1.0152037\n",
            "  -0.99388193 -1.00269017 -0.99888975 -1.000479   -0.99979964 -1.00008563\n",
            "  -0.99996395 -1.00001534 -0.99999352 -1.00000275 -0.99999884 -1.00000049\n",
            "  -0.99999979 -1.00000009 -0.99999996 -1.00000002 -0.99999999 -1.\n",
            "  -1.        ]\n",
            " [ 1.         -1.44444444 -0.72685185 -1.09516461 -0.95422882 -1.01786361\n",
            "  -0.99199492 -1.00326407 -0.9985802  -1.00059061 -0.99974663 -1.0001064\n",
            "  -0.99995465 -1.00001913 -0.99999187 -1.00000344 -0.99999854 -1.00000062\n",
            "  -0.99999974 -1.00000011 -0.99999995 -1.00000002 -0.99999999 -1.\n",
            "  -1.        ]]\n"
          ],
          "name": "stdout"
        }
      ]
    },
    {
      "cell_type": "markdown",
      "metadata": {
        "id": "GIk8CSrnFV5q"
      },
      "source": [
        "(The term `:(k+2)` means \"start at index 0 (the first column index) and go up to but not including index k+2.\"  We have to include index k+1 because that is the last column we filled in our loop.)\n",
        "\n",
        "This is essentially a working version of the Jacobi method, but there is one more issue to watch out for.  It is entirely possible to come up with problems that take many more steps to converge.  However, our code will only run for 101 guesses before stopping (because the for loop only runs for 100 steps).  If that is not enough guesses, then our code will produce the wrong answer.  You can always tell if this happened, because after running the script `k` would be 99.  \n",
        "\n",
        "A simple fix is just to make our for loop run for more steps (and initialize the matrix `X` with more columns), but it is pretty inconvenient to have to run our code over and over again to find the right number of steps.  "
      ]
    },
    {
      "cell_type": "markdown",
      "metadata": {
        "id": "H9VExl6vFV5q"
      },
      "source": [
        "### Jacobi method (version 4)\n",
        "A better solution is probably to use a while loop instead of a for loop.  This will avoid the issue of needing to guess a maximum number of steps, at the cost of complicating our code substantially.  As a first pass, we could try this: "
      ]
    },
    {
      "cell_type": "code",
      "metadata": {
        "id": "1931-Co1FV5q",
        "outputId": "577d09c0-29a0-47e0-8c9e-dee6a82604e1"
      },
      "source": [
        "A = np.array([[6, 1, 1], [1, 8, 2], [2, 3, 9]])\n",
        "b = np.array([[10], [-8], [-8]])\n",
        "P = np.diag(np.diag(A))\n",
        "T = A - P\n",
        "\n",
        "tolerance = 1e-8\n",
        "err = tolerance + 1\n",
        "x0 = np.ones((3, 1))\n",
        "X = np.zeros((3, 101))\n",
        "X[:, 0:1] = x0\n",
        "\n",
        "k = 0\n",
        "while err >= tolerance:\n",
        "    X[:, (k+1):(k+2)] = scipy.linalg.solve_triangular(P, -T @ X[:, k:(k+1)] + b)\n",
        "    err = np.max(np.abs(X[:, k+1] - X[:, k]))\n",
        "    k = k + 1\n",
        "X = X[:, :(k+1)]\n",
        "print(X)"
      ],
      "execution_count": null,
      "outputs": [
        {
          "output_type": "stream",
          "text": [
            "[[ 1.          1.33333333  2.13657407  1.9220679   2.03008723  1.98678269\n",
            "   2.00551122  1.99764614  2.00099237  1.99957832  2.00017827  1.99992438\n",
            "   2.000032    1.99998643  2.00000574  1.99999757  2.00000103  1.99999956\n",
            "   2.00000019  1.99999992  2.00000003  1.99999999  2.00000001  2.\n",
            "   2.          0.        ]\n",
            " [ 1.         -1.375      -0.80555556 -1.0853588  -0.96646734 -1.0152037\n",
            "  -0.99388193 -1.00269017 -0.99888975 -1.000479   -0.99979964 -1.00008563\n",
            "  -0.99996395 -1.00001534 -0.99999352 -1.00000275 -0.99999884 -1.00000049\n",
            "  -0.99999979 -1.00000009 -0.99999996 -1.00000002 -0.99999999 -1.\n",
            "  -1.          0.        ]\n",
            " [ 1.         -1.44444444 -0.72685185 -1.09516461 -0.95422882 -1.01786361\n",
            "  -0.99199492 -1.00326407 -0.9985802  -1.00059061 -0.99974663 -1.0001064\n",
            "  -0.99995465 -1.00001913 -0.99999187 -1.00000344 -0.99999854 -1.00000062\n",
            "  -0.99999974 -1.00000011 -0.99999995 -1.00000002 -0.99999999 -1.\n",
            "  -1.          0.        ]]\n"
          ],
          "name": "stdout"
        }
      ]
    },
    {
      "cell_type": "markdown",
      "metadata": {
        "id": "1LV7cDr3FV5r"
      },
      "source": [
        "There is actually a serious problem with this code, but before we discuss it we should see why we made the changes we did.  In particular, there are a few important differences between this and the for loop version.  First, we have to keep track of `k` ourselves, which means we ahve to get a starting value and to increment it in the loop.  Second, the stopping condition is now at the top of the while loop, but it is backwards.  This is because the `if` `break`combo tests when to stop, but the while loop condition tests when to keep going.  We should keep guessing as long as our error is larger than the tolerance.  Third, we initialized the error to a strange value: `tolerance + 1`.  The reason for this is that the while loop needs to know the error in order to test its condition.  We don't actually have an error before we make our second guess, so we have to make up an error value that will ensure we continue.  Since `tolerance + 1` is greater than `tolerance`, we know that the while loop will execute at least one step.  \n",
        "\n",
        "The problem with this code is that it still won't actually work if the loop takes more than 100 iterations.  To see what goes wrong, let's initialize our matrix `X` as a $3\\times 11$ matrix instead of $3\\times 101$.  "
      ]
    },
    {
      "cell_type": "code",
      "metadata": {
        "id": "awFsJjJiFV5r",
        "outputId": "f074a9d5-afc0-485d-849c-5c2953e130ef"
      },
      "source": [
        "A = np.array([[6, 1, 1], [1, 8, 2], [2, 3, 9]])\n",
        "b = np.array([[10], [-8], [-8]])\n",
        "P = np.diag(np.diag(A))\n",
        "T = A - P\n",
        "\n",
        "tolerance = 1e-8\n",
        "err = tolerance + 1\n",
        "x0 = np.ones((3, 1))\n",
        "X = np.zeros((3, 11))\n",
        "X[:, 0:1] = x0\n",
        "\n",
        "k = 0\n",
        "while err >= tolerance:\n",
        "    X[:, (k+1):(k+2)] = scipy.linalg.solve_triangular(P, -T @ X[:, k:(k+1)] + b)\n",
        "    err = np.max(np.abs(X[:, k+1] - X[:, k]))\n",
        "    k = k + 1\n",
        "X = X[:, :(k+1)]\n",
        "print(X)"
      ],
      "execution_count": null,
      "outputs": [
        {
          "output_type": "error",
          "ename": "IndexError",
          "evalue": "index 11 is out of bounds for axis 1 with size 11",
          "traceback": [
            "\u001b[0;31m---------------------------------------------------------------------------\u001b[0m",
            "\u001b[0;31mIndexError\u001b[0m                                Traceback (most recent call last)",
            "\u001b[0;32m<ipython-input-42-08666e691188>\u001b[0m in \u001b[0;36m<module>\u001b[0;34m\u001b[0m\n\u001b[1;32m     13\u001b[0m \u001b[0;32mwhile\u001b[0m \u001b[0merr\u001b[0m \u001b[0;34m>=\u001b[0m \u001b[0mtolerance\u001b[0m\u001b[0;34m:\u001b[0m\u001b[0;34m\u001b[0m\u001b[0;34m\u001b[0m\u001b[0m\n\u001b[1;32m     14\u001b[0m     \u001b[0mX\u001b[0m\u001b[0;34m[\u001b[0m\u001b[0;34m:\u001b[0m\u001b[0;34m,\u001b[0m \u001b[0;34m(\u001b[0m\u001b[0mk\u001b[0m\u001b[0;34m+\u001b[0m\u001b[0;36m1\u001b[0m\u001b[0;34m)\u001b[0m\u001b[0;34m:\u001b[0m\u001b[0;34m(\u001b[0m\u001b[0mk\u001b[0m\u001b[0;34m+\u001b[0m\u001b[0;36m2\u001b[0m\u001b[0;34m)\u001b[0m\u001b[0;34m]\u001b[0m \u001b[0;34m=\u001b[0m \u001b[0mscipy\u001b[0m\u001b[0;34m.\u001b[0m\u001b[0mlinalg\u001b[0m\u001b[0;34m.\u001b[0m\u001b[0msolve_triangular\u001b[0m\u001b[0;34m(\u001b[0m\u001b[0mP\u001b[0m\u001b[0;34m,\u001b[0m \u001b[0;34m-\u001b[0m\u001b[0mT\u001b[0m \u001b[0;34m@\u001b[0m \u001b[0mX\u001b[0m\u001b[0;34m[\u001b[0m\u001b[0;34m:\u001b[0m\u001b[0;34m,\u001b[0m \u001b[0mk\u001b[0m\u001b[0;34m:\u001b[0m\u001b[0;34m(\u001b[0m\u001b[0mk\u001b[0m\u001b[0;34m+\u001b[0m\u001b[0;36m1\u001b[0m\u001b[0;34m)\u001b[0m\u001b[0;34m]\u001b[0m \u001b[0;34m+\u001b[0m \u001b[0mb\u001b[0m\u001b[0;34m)\u001b[0m\u001b[0;34m\u001b[0m\u001b[0;34m\u001b[0m\u001b[0m\n\u001b[0;32m---> 15\u001b[0;31m     \u001b[0merr\u001b[0m \u001b[0;34m=\u001b[0m \u001b[0mnp\u001b[0m\u001b[0;34m.\u001b[0m\u001b[0mmax\u001b[0m\u001b[0;34m(\u001b[0m\u001b[0mnp\u001b[0m\u001b[0;34m.\u001b[0m\u001b[0mabs\u001b[0m\u001b[0;34m(\u001b[0m\u001b[0mX\u001b[0m\u001b[0;34m[\u001b[0m\u001b[0;34m:\u001b[0m\u001b[0;34m,\u001b[0m \u001b[0mk\u001b[0m\u001b[0;34m+\u001b[0m\u001b[0;36m1\u001b[0m\u001b[0;34m]\u001b[0m \u001b[0;34m-\u001b[0m \u001b[0mX\u001b[0m\u001b[0;34m[\u001b[0m\u001b[0;34m:\u001b[0m\u001b[0;34m,\u001b[0m \u001b[0mk\u001b[0m\u001b[0;34m]\u001b[0m\u001b[0;34m)\u001b[0m\u001b[0;34m)\u001b[0m\u001b[0;34m\u001b[0m\u001b[0;34m\u001b[0m\u001b[0m\n\u001b[0m\u001b[1;32m     16\u001b[0m     \u001b[0mk\u001b[0m \u001b[0;34m=\u001b[0m \u001b[0mk\u001b[0m \u001b[0;34m+\u001b[0m \u001b[0;36m1\u001b[0m\u001b[0;34m\u001b[0m\u001b[0;34m\u001b[0m\u001b[0m\n\u001b[1;32m     17\u001b[0m \u001b[0mX\u001b[0m \u001b[0;34m=\u001b[0m \u001b[0mX\u001b[0m\u001b[0;34m[\u001b[0m\u001b[0;34m:\u001b[0m\u001b[0;34m,\u001b[0m \u001b[0;34m:\u001b[0m\u001b[0;34m(\u001b[0m\u001b[0mk\u001b[0m\u001b[0;34m+\u001b[0m\u001b[0;36m1\u001b[0m\u001b[0;34m)\u001b[0m\u001b[0;34m]\u001b[0m\u001b[0;34m\u001b[0m\u001b[0;34m\u001b[0m\u001b[0m\n",
            "\u001b[0;31mIndexError\u001b[0m: index 11 is out of bounds for axis 1 with size 11"
          ]
        }
      ]
    },
    {
      "cell_type": "markdown",
      "metadata": {
        "id": "TN3iSlsYFV5r"
      },
      "source": [
        "Python throws an error once k reaches 10, because we try to fill in column index 11 (the 12th column of X) when it doesn't actually exist.  To fix this, we need to expand the size of our array as we go.  There are several ways to do this, but all of them are lacking in either elegance or efficiency.  We will use the `numpy` function `hstack`.  This is essentially the same thing a `append`, but for 2D arrays.  (The `append` function only really works on 1D arrays, while `hstack` appends columns to the end of a 2D array.)"
      ]
    },
    {
      "cell_type": "code",
      "metadata": {
        "id": "rE9rCTDsFV5r",
        "outputId": "8ce8f029-8a93-40a5-f1e9-672de1fd21d6"
      },
      "source": [
        "A = np.array([[6, 1, 1], [1, 8, 2], [2, 3, 9]])\n",
        "b = np.array([[10], [-8], [-8]])\n",
        "P = np.diag(np.diag(A))\n",
        "T = A - P\n",
        "\n",
        "tolerance = 1e-8\n",
        "err = tolerance + 1\n",
        "x0 = np.ones((3, 1))\n",
        "X = np.zeros((3, 1))\n",
        "X[:, 0:1] = x0\n",
        "\n",
        "k = 0\n",
        "while err >= tolerance:\n",
        "    X = np.hstack((X, scipy.linalg.solve_triangular(P, -T @ X[:, k:(k+1)] + b)))\n",
        "    err = np.max(np.abs(X[:, k+1] - X[:, k]))\n",
        "    k = k + 1\n",
        "print(X)"
      ],
      "execution_count": null,
      "outputs": [
        {
          "output_type": "stream",
          "text": [
            "[[ 1.          1.33333333  2.13657407  1.9220679   2.03008723  1.98678269\n",
            "   2.00551122  1.99764614  2.00099237  1.99957832  2.00017827  1.99992438\n",
            "   2.000032    1.99998643  2.00000574  1.99999757  2.00000103  1.99999956\n",
            "   2.00000019  1.99999992  2.00000003  1.99999999  2.00000001  2.\n",
            "   2.        ]\n",
            " [ 1.         -1.375      -0.80555556 -1.0853588  -0.96646734 -1.0152037\n",
            "  -0.99388193 -1.00269017 -0.99888975 -1.000479   -0.99979964 -1.00008563\n",
            "  -0.99996395 -1.00001534 -0.99999352 -1.00000275 -0.99999884 -1.00000049\n",
            "  -0.99999979 -1.00000009 -0.99999996 -1.00000002 -0.99999999 -1.\n",
            "  -1.        ]\n",
            " [ 1.         -1.44444444 -0.72685185 -1.09516461 -0.95422882 -1.01786361\n",
            "  -0.99199492 -1.00326407 -0.9985802  -1.00059061 -0.99974663 -1.0001064\n",
            "  -0.99995465 -1.00001913 -0.99999187 -1.00000344 -0.99999854 -1.00000062\n",
            "  -0.99999974 -1.00000011 -0.99999995 -1.00000002 -0.99999999 -1.\n",
            "  -1.        ]]\n"
          ],
          "name": "stdout"
        }
      ]
    },
    {
      "cell_type": "markdown",
      "metadata": {
        "id": "vIWMFtEfFV5s"
      },
      "source": [
        "**Warning:** This code is substantially slower than the corresponding for loop version, because the `hstack` function copies our matrix `X` at every step.  This loss of speed is unavoidable if we want to store all of our guesses without first initializing a big enough array.  "
      ]
    },
    {
      "cell_type": "markdown",
      "metadata": {
        "id": "l3ov8qGkFV5s"
      },
      "source": [
        "The one thing you should always be wary of with while loops is the risk of infinite loops.  This is particularly important with matrix splitting methods, because we know that they might not converge even if the system $A\\mathbf{x} = \\mathbf{b}$ has a solution.  For example, if we made a mistake when entering $A$ and accidentally wrote `A = np.array([[1, 6, 1], [1, 8, 2], [2, 3, 9]])` then you would find that your code ran forever.  Even though the only difference between this and the previous version is that we swapped two entries of $A$.  (Actually, this particular example does eventually stop by throwing an error, but it takes many thousands of steps.)"
      ]
    },
    {
      "cell_type": "markdown",
      "metadata": {
        "id": "gUgwAb3oFV5s"
      },
      "source": [
        "### Jacobi method (version 5)\n",
        "We know one way to fix this: We could first test the eigenvalues of $M$ to see if they are less than one.  "
      ]
    },
    {
      "cell_type": "code",
      "metadata": {
        "id": "wvEnrpEWFV5s",
        "outputId": "16dfbb3e-00f0-4fb8-9b2d-4657ec90b729"
      },
      "source": [
        "A = np.array([[6, 1, 1], [1, 8, 2], [2, 3, 9]])\n",
        "b = np.array([[10], [-8], [-8]])\n",
        "P = np.diag(np.diag(A))\n",
        "T = A - P\n",
        "\n",
        "tolerance = 1e-8\n",
        "err = tolerance + 1\n",
        "x0 = np.ones((3, 1))\n",
        "X = np.zeros((3, 1))\n",
        "X[:, 0:1] = x0\n",
        "\n",
        "k = 0\n",
        "M = -scipy.linalg.solve(P, T)\n",
        "w, V = np.linalg.eig(M)\n",
        "if np.max(np.abs(w)) < 1:\n",
        "    while err >= tolerance:\n",
        "        X = np.hstack((X, scipy.linalg.solve_triangular(P, -T @ X[:, k:(k+1)] + b)))\n",
        "        err = np.max(np.abs(X[:, k+1] - X[:, k]))\n",
        "        k = k + 1\n",
        "print(X)"
      ],
      "execution_count": null,
      "outputs": [
        {
          "output_type": "stream",
          "text": [
            "[[ 1.          1.33333333  2.13657407  1.9220679   2.03008723  1.98678269\n",
            "   2.00551122  1.99764614  2.00099237  1.99957832  2.00017827  1.99992438\n",
            "   2.000032    1.99998643  2.00000574  1.99999757  2.00000103  1.99999956\n",
            "   2.00000019  1.99999992  2.00000003  1.99999999  2.00000001  2.\n",
            "   2.        ]\n",
            " [ 1.         -1.375      -0.80555556 -1.0853588  -0.96646734 -1.0152037\n",
            "  -0.99388193 -1.00269017 -0.99888975 -1.000479   -0.99979964 -1.00008563\n",
            "  -0.99996395 -1.00001534 -0.99999352 -1.00000275 -0.99999884 -1.00000049\n",
            "  -0.99999979 -1.00000009 -0.99999996 -1.00000002 -0.99999999 -1.\n",
            "  -1.        ]\n",
            " [ 1.         -1.44444444 -0.72685185 -1.09516461 -0.95422882 -1.01786361\n",
            "  -0.99199492 -1.00326407 -0.9985802  -1.00059061 -0.99974663 -1.0001064\n",
            "  -0.99995465 -1.00001913 -0.99999187 -1.00000344 -0.99999854 -1.00000062\n",
            "  -0.99999974 -1.00000011 -0.99999995 -1.00000002 -0.99999999 -1.\n",
            "  -1.        ]]\n"
          ],
          "name": "stdout"
        }
      ]
    },
    {
      "cell_type": "markdown",
      "metadata": {
        "id": "kS7HyrTNFV5t"
      },
      "source": [
        "## Strict Diagonal Dominance\n",
        "This last method is fairly tempting, but it raises an important question that we have so far avoided.  How long does it take to find the eigenvalues of a matrix?  The point is this: We want to solve $A\\mathbf{x} = \\mathbf{b}$ with a method that is faster than $\\mathcal{O}(N^3)$.  We don't know exactly how many steps the Jacobi method will require, but each step only takes $\\mathcal{O}(N)$ flops (well, technically it takes $\\mathcal{O}(N^2)$ flops still, because multiplying $T\\mathbf{x}_{k-1}$ is $\\mathcal{O}(N^2)$, but the point still applies), so there is hope that it will ultimately be faster than Gaussian elimination.  However, if we have to start our method with a call to `eig` then we should worry that `eig` might take so long that we might as well just use Gaussian elimination in the first place.  \n",
        "\n",
        "It turns out that our fears are well founded.  Most methods to find eigenvalues are iterative, so big-oh notation doesn't necessarily apply, but it is not uncommon for the `eig` function to take at least as long as Gaussian elimination.  This means that if we are forced to check the eigenvalues of $-P^{-1}T$ before we use a splitting method, we won't actually save any time over just using the `solve` function.  \n",
        "\n",
        "Fortunately, there are some other properties of our system that can tell us about the convergence of matrix splitting methods.  The most important such property is called *strict diagonal dominance*.  We say that a matrix is strictly diagonally dominant if the absolute value of each diagonal entry is greater than the sum of the absolute values of the other entries in that row.  That is, $A$ is strictly diagonally dominant if \n",
        "\n",
        "$|a_{ii}| > \\sum_{j \\neq i}|a_{ij}|$, \n",
        "\n",
        "for all $i\\leq N$.  (The summation notation means to add up every entry in the row except $|a_{ii}|$.)  This property is much easier to check than the eigenvalues of a matrix.  We will make use of the following theorem without proving it: \n",
        "\n",
        "The Jacobi method for solving $A\\mathbf{x} = \\mathbf{b}$ will converge if $A$ is strictly diagonally dominant.  \n",
        "\n",
        "There are a few things worth noting about this theorem.  First, this is a property of $A$, not of $M$.  You need to check if the original left hand side of your system is strictly diagonally dominant.  Second, this theorem says nothing about what happens when $A$ is not strictly diagonally dominant.  It is entirely possible to come up with such a system where the Jacobi method still converges.  If $A$ is not strictly diagonally dominant, then you still have to find the eigenvalues of $M$ to decide if the Jacobi method will converge.  Third, this theorem does not apply to all matrix splitting methods.  If you choose a different $P$ and $T$, there is no guarantee that the corresponding splitting method will converge.  \n",
        "\n",
        "This also explains why our original example converged.  In the first row, we had $|6| > |1| + |1|$.  In the second row, we had $|8| > |1| + |2|$.  In the third row, we had $|9| > |2| + |3|$.  "
      ]
    },
    {
      "cell_type": "markdown",
      "metadata": {
        "id": "EX8t6T3aFV5t"
      },
      "source": [
        "# Gauss-Seidel Method\n",
        "Another type of system that is relatively easy to solve is a triangular system.  If we chose $P$ to be triangular, then we could solve systems of the form $P\\mathbf{x} = \\mathbf{c}$ in $\\mathcal{O}(N^2)$ flops, which is still much faster than Gaussian elimination.  We could therefore choose $P$ to be a triangular portion of the matrix $A$.  In particular, if we choose $P$ to be the main diagonal of $A$ and all the entries below it, then $P$ will be lower triangular.  We call the matrix splitting method with this choice of $P$ the *Gauss-Seidel method*.  For example, in our example system we would choose \n",
        "\n",
        "$P = \\left(\\begin{array}{c} 6 & 0 & 0 \\\\ 1 & 8 & 0 \\\\ 2 & 3 & 9 \\end{array}\\right)$ and $T = \\left(\\begin{array}{c} 0 & 1 & 1 \\\\ 0 & 0 & 2 \\\\ 0 & 0 & 0 \\end{array}\\right)$.  \n",
        "\n",
        "There is a useful function in the numpy package for extracting the lower triangular portion of a matrix called `tril`.  We can make this splitting with the code"
      ]
    },
    {
      "cell_type": "code",
      "metadata": {
        "id": "_Si9hyw9FV5t",
        "outputId": "771ce1ce-a3b8-4e17-952f-0237e2fc2f19"
      },
      "source": [
        "P = np.tril(A)\n",
        "print(P)"
      ],
      "execution_count": null,
      "outputs": [
        {
          "output_type": "stream",
          "text": [
            "[[6 0 0]\n",
            " [1 8 0]\n",
            " [2 3 9]]\n"
          ],
          "name": "stdout"
        }
      ]
    },
    {
      "cell_type": "code",
      "metadata": {
        "id": "Ci0b4F4_FV5v",
        "outputId": "d87affdc-f4c1-44a2-ef5a-cc49554883ba"
      },
      "source": [
        "T = A - P\n",
        "print(T)"
      ],
      "execution_count": null,
      "outputs": [
        {
          "output_type": "stream",
          "text": [
            "[[0 1 1]\n",
            " [0 0 2]\n",
            " [0 0 0]]\n"
          ],
          "name": "stdout"
        }
      ]
    },
    {
      "cell_type": "markdown",
      "metadata": {
        "id": "ics4GuUZFV5x"
      },
      "source": [
        "Besides the different choices of $P$ and $T$, the Gauss-Seidel method works exactly the same as the Jacobi method.  We can test that the Gauss-Seidel method will converge by checking the eigenvalues of $M = -P^{-1}T$.  "
      ]
    },
    {
      "cell_type": "code",
      "metadata": {
        "id": "f3VxgSkoFV5x",
        "outputId": "60638d4b-c46a-4277-efb1-9568007c02aa"
      },
      "source": [
        "M = -scipy.linalg.solve(P, T)\n",
        "w, V = np.linalg.eig(M)\n",
        "print(np.max(np.abs(w)))"
      ],
      "execution_count": null,
      "outputs": [
        {
          "output_type": "stream",
          "text": [
            "0.09622504486493762\n"
          ],
          "name": "stdout"
        }
      ]
    },
    {
      "cell_type": "markdown",
      "metadata": {
        "id": "-koBFq4PFV5y"
      },
      "source": [
        "Since all of the eigenvalues are less than 1, this method will converge.  \n",
        "\n",
        "It turns out that the strict diagonal dominance test also works for the Gauss-Seidel method.  If $A$ (not $M$) is strictly diagonally dominant, then the Gauss-Seidel method will converge.  Again, this rule doesn't tell you what happens if $A$ is not strictly diagonally dominant.  It is entirely possible for one or both of the Jacobi and Gauss-Seidel methods to converge if $A$ is not strictly diagonally dominant.  \n",
        "\n",
        "To code the Gauss-Seidel method, we could use version 3 (or one of the working while loop versions) of the code from above with our new $P$ and $T$:"
      ]
    },
    {
      "cell_type": "code",
      "metadata": {
        "id": "FxgUrbg9FV5y",
        "outputId": "50934a7e-c9eb-40d8-8db6-6a94d5d5bcf2"
      },
      "source": [
        "A = np.array([[6, 1, 1], [1, 8, 2], [2, 3, 9]])\n",
        "b = np.array([[10], [-8], [-8]])\n",
        "P = np.tril(A)\n",
        "T = A - P\n",
        "\n",
        "tolerance = 1e-8\n",
        "x0 = np.ones((3, 1))\n",
        "X = np.zeros((3, 101))\n",
        "X[:, 0:1] = x0\n",
        "\n",
        "for k in range(100):\n",
        "    X[:, (k+1):(k+2)] = scipy.linalg.solve_triangular(P, -T @ X[:, k:(k+1)] + b, lower=True)\n",
        "    if np.max(np.abs(X[:, k+1] - X[:, k])) < tolerance:\n",
        "        break\n",
        "X = X[:, :(k+2)]\n",
        "print(X)"
      ],
      "execution_count": null,
      "outputs": [
        {
          "output_type": "stream",
          "text": [
            "[[ 1.          1.33333333  2.02160494  2.0090735   2.00101816  2.00005268\n",
            "   1.99999765  1.9999992   1.99999991  2.          2.        ]\n",
            " [ 1.         -1.41666667 -1.07445988 -1.0061389  -1.00013476 -0.99996125\n",
            "  -0.99999355 -0.99999949 -0.99999999 -1.         -1.        ]\n",
            " [ 1.         -0.71296296 -0.97998114 -0.99997003 -1.00018134 -1.00002462\n",
            "  -1.00000163 -0.99999999 -0.99999998 -1.         -1.        ]]\n"
          ],
          "name": "stdout"
        }
      ]
    },
    {
      "cell_type": "markdown",
      "metadata": {
        "id": "kP-cXixBFV5y"
      },
      "source": [
        "Notice that this method converged in fewer steps than the Jacobi method.  We already knew this would happen because the largest eigenvalue of $M$ for the Jacobi method was approximately $0.4236$, while the largest eigenvalue of $M$ for the Gauss-Seidel method was approximately $0.0962$.  The smaller the eigenvalue, the faster the splitting method, so we would expect Gauss-Seidel to converge faster for this problem.  This is actually fairly common.  As a rule of thumb, if both the Gauss-Seidel and the Jacobi method converge for a given problem, then Gauss-Seidel will typically be about twice as fast.  However, it is possible to find methods where one converges and the other does not or where both converge but the Jacobi method is faster.  In general, if you want to find the fastest method there is no substitute for checking the maximum eigenvalue of $M$.  "
      ]
    }
  ]
}