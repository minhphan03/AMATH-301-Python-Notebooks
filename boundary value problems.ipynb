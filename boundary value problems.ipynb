{
  "nbformat": 4,
  "nbformat_minor": 0,
  "metadata": {
    "kernelspec": {
      "display_name": "Python 3",
      "language": "python",
      "name": "python3"
    },
    "language_info": {
      "codemirror_mode": {
        "name": "ipython",
        "version": 3
      },
      "file_extension": ".py",
      "mimetype": "text/x-python",
      "name": "python",
      "nbconvert_exporter": "python",
      "pygments_lexer": "ipython3",
      "version": "3.8.5"
    },
    "colab": {
      "name": "Week9_3_python.ipynb",
      "provenance": [],
      "collapsed_sections": []
    }
  },
  "cells": [
    {
      "cell_type": "code",
      "metadata": {
        "id": "MTP4Xhv7JUUE"
      },
      "source": [
        "import numpy as np\n",
        "import scipy.linalg\n",
        "import scipy.integrate\n",
        "import matplotlib.pyplot as plt"
      ],
      "execution_count": null,
      "outputs": []
    },
    {
      "cell_type": "markdown",
      "metadata": {
        "id": "hVbJmHwq6Zwx"
      },
      "source": [
        "# Week 9 Lecture 3: Boundary Value Problems\n",
        "## Rahman notes:\n",
        "### Shooting method\n",
        "\n",
        "First let's use the \"shooting method\".  With this method we solve the problem as an initial value problem, and use root finding to match the value on the other side.  For example, with\n",
        "$ \\ddot{x} = 0$, with $x(0) = x_0$ and $x(T) = x_T$.\n",
        "\n",
        "We start by solving $ \\ddot{x} = 0$, with $x(0) = x_0$, $x'(0) = v_1$ and $ \\ddot{x} = 0$, with $x(0) = x_0$, $x'(0) = v_2$ such that the first IVP produces $x(T) = x_a > x_T$ and the second IVP produces $x(T) = x_b < x_T$.  Now, using bisection we can adjust until we match $x(T) \\approx x_T$.\n",
        "\n",
        "Let's try this with\n",
        "\n",
        "$ \\ddot{x} = 0$, with $x(0) = 1$ and $x(3) = 5$."
      ]
    },
    {
      "cell_type": "code",
      "metadata": {
        "colab": {
          "base_uri": "https://localhost:8080/"
        },
        "id": "RglEFYDv7pgp",
        "outputId": "50a46697-0f80-4a5c-fd23-b0bca755da81"
      },
      "source": [
        "x0 = 1\n",
        "v1 = 0\n",
        "v2 = 1\n",
        "T = 3\n",
        "dt = 0.01\n",
        "t = np.arange(0, T + dt, dt)\n",
        "\n",
        "def myODE(t, x):\n",
        "    dx1 = x[1]\n",
        "    dx2 = 0\n",
        "    dx = np.array([dx1, dx2])\n",
        "    return dx\n",
        "\n",
        "### Test for v1 and v2\n",
        "sol = scipy.integrate.solve_ivp(myODE, (0, T), np.array([x0, v1]), t_eval=t)\n",
        "print(sol.y[0,-1])\n",
        "sol = scipy.integrate.solve_ivp(myODE, (0, T), np.array([x0, v2]), t_eval=t)\n",
        "print(sol.y[0,-1])"
      ],
      "execution_count": null,
      "outputs": [
        {
          "output_type": "stream",
          "text": [
            "1.0\n",
            "4.0\n"
          ],
          "name": "stdout"
        }
      ]
    },
    {
      "cell_type": "markdown",
      "metadata": {
        "id": "QltMo0v-9mv8"
      },
      "source": [
        "That's no good because they are both less than 5.  Lets not change v2, but lets try to find v1 that will give us a value greater than 5."
      ]
    },
    {
      "cell_type": "code",
      "metadata": {
        "colab": {
          "base_uri": "https://localhost:8080/"
        },
        "id": "iHlTjngr9nw0",
        "outputId": "8b642098-dada-4d5c-ef07-4dabf21288e5"
      },
      "source": [
        "v1 = 2\n",
        "sol = scipy.integrate.solve_ivp(myODE, (0, T), np.array([x0, v1]), t_eval=t)\n",
        "print(sol.y[0,-1])"
      ],
      "execution_count": null,
      "outputs": [
        {
          "output_type": "stream",
          "text": [
            "7.0\n"
          ],
          "name": "stdout"
        }
      ]
    },
    {
      "cell_type": "markdown",
      "metadata": {
        "id": "CGDMy1Op-RlQ"
      },
      "source": [
        "This works because one is bigger than 5 and the other is less than 5.  Now let's write our bisection scheme."
      ]
    },
    {
      "cell_type": "code",
      "metadata": {
        "colab": {
          "base_uri": "https://localhost:8080/",
          "height": 316
        },
        "id": "cHGTMjce-SnN",
        "outputId": "9c3904ec-2cce-455c-81be-4d0d181ee94d"
      },
      "source": [
        "x0 = 1\n",
        "xT = 5\n",
        "T = 3\n",
        "dt = 0.01\n",
        "t = np.arange(0, T + dt, dt)\n",
        "\n",
        "def myODE(t, x):\n",
        "    dx1 = x[1]\n",
        "    dx2 = 0\n",
        "    dx = np.array([dx1, dx2])\n",
        "    return dx\n",
        "\n",
        "v1 = 2\n",
        "v2 = 1\n",
        "v_mid = (v1+v2)/2\n",
        "\n",
        "sol = scipy.integrate.solve_ivp(myODE, (0, T), np.array([x0, v1]), t_eval=t)\n",
        "x_a = sol.y[0,:]\n",
        "sol = scipy.integrate.solve_ivp(myODE, (0, T), np.array([x0, v2]), t_eval=t)\n",
        "x_b = sol.y[0,:]\n",
        "sol = scipy.integrate.solve_ivp(myODE, (0, T), np.array([x0, v_mid]), t_eval=t)\n",
        "x_mid = sol.y[0,:]\n",
        "\n",
        "plt.plot(t, x_a, t, x_mid, '--', t, x_b, linewidth = 4)"
      ],
      "execution_count": null,
      "outputs": [
        {
          "output_type": "execute_result",
          "data": {
            "text/plain": [
              "[<matplotlib.lines.Line2D at 0x7f28a5d00990>,\n",
              " <matplotlib.lines.Line2D at 0x7f28a5d0ab10>,\n",
              " <matplotlib.lines.Line2D at 0x7f28a5d0acd0>]"
            ]
          },
          "metadata": {
            "tags": []
          },
          "execution_count": 4
        },
        {
          "output_type": "display_data",
          "data": {
            "image/png": "[encoded data removed]",
            "text/plain": [
              "<Figure size 432x288 with 1 Axes>"
            ]
          },
          "metadata": {
            "tags": [],
            "needs_background": "light"
          }
        }
      ]
    },
    {
      "cell_type": "code",
      "metadata": {
        "colab": {
          "base_uri": "https://localhost:8080/",
          "height": 316
        },
        "id": "3_GbvS8EBpYL",
        "outputId": "23f30288-d445-44d2-bee2-2cefb62fa3fc"
      },
      "source": [
        "for i in range(100):\n",
        "  if x_mid[-1] == xT:\n",
        "    break\n",
        "  elif np.sign(x_mid[-1]-xT) == np.sign(x_a[-1]-xT):\n",
        "    v1 = v_mid\n",
        "    sol = scipy.integrate.solve_ivp(myODE, (0, T), np.array([x0, v1]), t_eval=t)\n",
        "    x_a = sol.y[0,:]\n",
        "  else:\n",
        "      v2 = v_mid\n",
        "      sol = scipy.integrate.solve_ivp(myODE, (0, T), np.array([x0, v2]), t_eval=t)\n",
        "      x_b = sol.y[0,:]\n",
        "\n",
        "  v_mid = (v1+v2)/2\n",
        "  sol = scipy.integrate.solve_ivp(myODE, (0, T), np.array([x0, v_mid]), t_eval=t)\n",
        "  x_mid = sol.y[0,:]\n",
        "\n",
        "plt.plot(t, x_a, t, x_mid, '--', t, x_b, linewidth = 4)"
      ],
      "execution_count": null,
      "outputs": [
        {
          "output_type": "execute_result",
          "data": {
            "text/plain": [
              "[<matplotlib.lines.Line2D at 0x7f28a5807790>,\n",
              " <matplotlib.lines.Line2D at 0x7f28a5810910>,\n",
              " <matplotlib.lines.Line2D at 0x7f28a5810ad0>]"
            ]
          },
          "metadata": {
            "tags": []
          },
          "execution_count": 5
        },
        {
          "output_type": "display_data",
          "data": {
            "image/png": "[encoded data removed]",
            "text/plain": [
              "<Figure size 432x288 with 1 Axes>"
            ]
          },
          "metadata": {
            "tags": [],
            "needs_background": "light"
          }
        }
      ]
    },
    {
      "cell_type": "markdown",
      "metadata": {
        "id": "q3ba8mQPGIFQ"
      },
      "source": [
        "This very quickly converges to the true solution.  To see how the algorithm is working it may be useful to test it out with v1 and v2 that gives us a much larger gap."
      ]
    },
    {
      "cell_type": "markdown",
      "metadata": {
        "id": "_Czhl2IQJUUR"
      },
      "source": [
        "## Finite Differences\n",
        "### I borrowed the old notes for this, but changed a few things up in the video.\n",
        "We will now start to develop a method for solving boundary value problems numerically.  In particular, we will start by solving the problem \n",
        "\n",
        "$\\ddot{x} = 0$ with $x(0) = x_0$ and $x(T) = x_T$.  \n",
        "\n",
        "We already know that the solution is \n",
        "\n",
        "$x(t) = \\frac{x_T - x_0}{T}t + x_0$, \n",
        "\n",
        "and we would love to find a numerical method that would give us this formula for $x(t)$.  Unfortunately, this is generally a hopeless task.  (For more complicated equations, it is usually not even possible on paper, and it is certainly not something we can expect python to do.)  Instead, we will try to approximate $x(t)$ at many different times.  In particular, we will use the same setup that we had for initial value problems and choose a set of evenly spaced $t$ values: $t_0$, $t_1$, $t_2$, $\\dotsc$, $t_{N-1}$, $t_N$.  In general, it only really makes sense to solve a boundary value problem between the two times used for boundary conditions, so we will choose $t_0 = 0$ and $t_N = T$.  Since these times are evenly spaced, we can write each time as $t_k = k\\Delta t$, where $\\Delta t = T/N$.  \n",
        "\n",
        "Our goal is to find the values of $x$ at each of these $t$ values.  That is, we would like to find $x(t_0)$, $x(t_1)$, $x(t_2)$, $\\dotsc$, $x(t_{N-1})$, $x(t_N)$.  Of course, we can't hope to find those values exactly with a numerical method, so we will only obtain approximations $x_0$, $x_1$, $x_2$, $\\dotsc$, $x_{N-1}$, $x_N$.  We therefore need to find an equation (or several equations) for these $x_k$'s.  Actually, we already know two of these points.  $x_0$ is just our first boundary condition and $x_N = x_T$ is just our second boundary condition.  We therefore only have to solve for $x_1$ through $x_{N-1}$.  We call these $x$ values the *interior values* (as opposed to the boundary values) and the corresponding times $t_1$ through $t_{N-1}$ are called the *interior points* (or interior times).  Notice that there are $N + 1$ total points, but only $N - 1$ interior points.  \n",
        "\n",
        "The key to our approach is to approximate the second derivative $\\ddot{x}$ in our differential equation with a finite difference scheme.  In particular, we already saw in last week's activity that we could approximate the second derivative of a function $f(t)$ with the second order central difference scheme \n",
        "\n",
        "$f''(t) \\approx \\frac{f(t - \\Delta t) - 2f(t) + f(t + \\Delta t)}{\\Delta t^2}$.  \n",
        "\n",
        "Translating this into our new notation, we have \n",
        "\n",
        "$\\ddot{x}(t) \\approx \\frac{x(t - \\Delta t) - 2x(t) + x(t + \\Delta t)}{\\Delta t^2}$.  \n",
        "\n",
        "This is true for any time $t$.  In particular, we could use the first interior time $t_1$, which gives us the equation \n",
        "\n",
        "$\\ddot{x}(t_1) \\approx \\frac{x(t_1 - \\Delta t) - 2x(t_1) + x(t_1 + \\Delta t)}{\\Delta t^2} = \\frac{x(t_0) - 2x(t_1) + x(t_2)}{\\Delta t^2}$.  \n",
        "\n",
        "We don't know what $x(t_1)$ or $x(t_2)$ are, but we do know that this expression is supposed to be approximately equal to zero (because $\\ddot{x}(t) = 0$ for any time).  We can just use this as the definition of our approximations: \n",
        "\n",
        "$\\frac{x_0 - 2x_1 + x_2}{\\Delta t^2} = 0$.  \n",
        "\n",
        "Similarly, if we plug in $t = t_2$, we get the equation\n",
        "\n",
        "$\\ddot{x}(t_2) \\approx \\frac{x(t_2 - \\Delta t) - 2x(t_2) + x(t_2 + \\Delta t)}{\\Delta t^2} = \\frac{x(t_1) - 2x(t_2) + x(t_3)}{\\Delta t^2}$.  \n",
        "\n",
        "Again, we know that this is supposed to be approximately equal to zero, so we can take this as a definition for our approximations: \n",
        "\n",
        "$\\frac{x_1 - 2x_2 + x_3}{\\Delta t^2} = 0$.  \n",
        "\n",
        "We can repeat this process for any interior time $t_k$ and we get the formula \n",
        "\n",
        "$\\frac{x_{k-1} - 2x_k + x_{k+1}}{\\Delta t^2} = 0$.  \n",
        "\n",
        "We therefore have the following system of equations: \n",
        "\n",
        "$(1 / \\Delta t^2)(x_0 - 2x_1 + x_2) = 0$, \n",
        "\n",
        "$(1 / \\Delta t^2)(x_1 - 2x_2 + x_3) = 0$, \n",
        "\n",
        "$\\cdots$\n",
        "\n",
        "$(1 / \\Delta t^2)(x_{N-3} - 2x_{N-2} + x_{N-1}) = 0$, \n",
        "\n",
        "$(1 / \\Delta t^2)(x_{N-2} - 2x_{N-1} + x_N) = 0$.  \n",
        "\n",
        "Notice that there are only $N - 1$ equations here, because we only plugged in interior times, not the boundary times.  (If we used boundary times $t_0$ or $t_N$ in these equations, then we would need $t$ and $x$ values from outside of our interval $[0, T]$.)\n",
        "\n",
        "Also note that $x_0$ and $x_N$ are actually already known - they are our boundary values - and so we should really move them over to the right side of our equations.  We are then left with \n",
        "\n",
        "$(1 / \\Delta t^2)(-2x_1 + x_2) = -x_0/\\Delta t^2$, \n",
        "\n",
        "$(1 / \\Delta t^2)(x_1 - 2x_2 + x_3) = 0$, \n",
        "\n",
        "$\\cdots$\n",
        "\n",
        "$(1 / \\Delta t^2)(x_{N-3} - 2x_{N-2} + x_{N-1}) = 0$, \n",
        "\n",
        "$(1 / \\Delta t^2)(x_{N-2} - 2x_{N-1}) = -x_T/\\Delta t^2$.  \n",
        "\n",
        "This is a linear system of equations for the interior values $x_1$, $\\dotsc$, $x_{N-1}$, and so we can rewrite it as a matrix equation $A\\mathbf{x} = \\mathbf{b}$.  We get \n",
        "\n",
        "$\\frac{1}{\\Delta t^2}\\begin{pmatrix} -2 & 1 & 0 & \\cdots & 0 \\\\ 1 & -2 & 1 & \\cdots & 0 \\\\ \\vdots & \\ddots & \\ddots & \\ddots & \\vdots \\\\ 0 & \\cdots & 1 & -2 & 1 \\\\ 0 & \\cdots & 0 & 1 & -2 \\end{pmatrix} \\begin{pmatrix} x_1 \\\\ x_2 \\\\ \\vdots \\\\ x_{N-2} \\\\ x_{N-1} \\end{pmatrix} = \\begin{pmatrix} -x_0/\\Delta t^2 \\\\ 0 \\\\ \\vdots \\\\ 0 \\\\ -x_T/\\Delta t^2 \\end{pmatrix}$.\n",
        "\n",
        "We know several methods to solve a system like this.  We could use Gaussian elimination, $LU$ decomposition, or even an iterative method like Jacobi or Gauss-Seidel.  We will just use the `solve` function, but this is another example of why linear systems are so important in numerics.  \n",
        "\n",
        "Notice that this is not a time stepping method, unlike the methods we developed for initial value problems.  That is, we can't solve for $x_1$ and then $x_2$ and then $x_3$, etc.  Instead, we have to solve the whole system at once.  \n",
        "\n",
        "As an example, let's implement this in python to solve \n",
        "\n",
        "$\\ddot{x} = 0$ with $x(0) = 1$ and $x(3) = 5$.  \n",
        "\n",
        "We will choose $\\Delta t = 0.1$.  "
      ]
    },
    {
      "cell_type": "code",
      "metadata": {
        "id": "Y2SviB0pJUUT"
      },
      "source": [
        "x0 = 1\n",
        "xT = 5\n",
        "T = 3\n",
        "dt = 0.1\n",
        "\n",
        "t = np.arange(0, T + dt, dt)\n",
        "n = t.size"
      ],
      "execution_count": null,
      "outputs": []
    },
    {
      "cell_type": "markdown",
      "metadata": {
        "id": "RlErRPV1JUUU"
      },
      "source": [
        "Notice that $n$ is the total number of points, including the boundary points.  There are only $n - 2$ interior points, so we need to make an $(n - 2)\\times (n - 2)$ system of equations.  We can make a matrix of the right form with the code "
      ]
    },
    {
      "cell_type": "code",
      "metadata": {
        "id": "9-RjnzhpJUUU"
      },
      "source": [
        "v = -2 * np.ones(n - 2)\n",
        "u = np.ones(n - 3)\n",
        "A = (1 / dt ** 2) * (np.diag(v) + np.diag(u, 1) + np.diag(u, -1))"
      ],
      "execution_count": null,
      "outputs": []
    },
    {
      "cell_type": "markdown",
      "metadata": {
        "id": "k3-cAgxhJUUV"
      },
      "source": [
        "You already constructed this matrix in a homework problem, so I won't spend any extra time explaining the code above.  \n",
        "\n",
        "We also have to make the vector $\\mathbf{b}$ for the right hand side.  This vector is mostly zeros, but the first and last entry depend on the boundary conditions.  We can implement this in python with "
      ]
    },
    {
      "cell_type": "code",
      "metadata": {
        "id": "cg9A-EqrJUUV"
      },
      "source": [
        "b = np.zeros((n - 2, 1))\n",
        "b[0] = -x0 / dt ** 2\n",
        "b[-1] = -xT / dt ** 2"
      ],
      "execution_count": null,
      "outputs": []
    },
    {
      "cell_type": "markdown",
      "metadata": {
        "id": "dmOnTq7-JUUV"
      },
      "source": [
        "Finally, we can solve for all of the interior $x$ values with the command "
      ]
    },
    {
      "cell_type": "code",
      "metadata": {
        "id": "SCcrvlDwJUUW"
      },
      "source": [
        "x_int = scipy.linalg.solve(A, b)"
      ],
      "execution_count": null,
      "outputs": []
    },
    {
      "cell_type": "markdown",
      "metadata": {
        "id": "FEem2dYgJUUW"
      },
      "source": [
        "Keep in mind that this vector does not include the boundary values.  Usually we want to know all of the $x$ values, not just the interior values, but this is easy to fix.  The first and last $x$ values are just the two boundary conditions, so we can write "
      ]
    },
    {
      "cell_type": "code",
      "metadata": {
        "id": "Tq3SKft0JUUW"
      },
      "source": [
        "x = np.zeros(n)\n",
        "x[0] = x0\n",
        "x[1:-1] = x_int.reshape(-1)\n",
        "x[-1] = xT"
      ],
      "execution_count": null,
      "outputs": []
    },
    {
      "cell_type": "markdown",
      "metadata": {
        "id": "yaGXT7WdJUUW"
      },
      "source": [
        "Note that we made `x` a 1D array instead of a column vector.  Since we are done with linear algebra for this problem, it is easier to work with 1D arrays.  (For instance, the plot function does not work well with column vectors.)\n",
        "\n",
        "We can now plot our approximation alongside the true solution.  "
      ]
    },
    {
      "cell_type": "code",
      "metadata": {
        "id": "hyCsZUtDJUUX",
        "outputId": "21f1637e-3d29-470b-8c77-82e510989948"
      },
      "source": [
        "x_true = lambda t: (xT - x0) / T * t + x0\n",
        "plt.plot(t, x_true(t), 'k', t, x, 'r')"
      ],
      "execution_count": null,
      "outputs": [
        {
          "output_type": "execute_result",
          "data": {
            "text/plain": [
              "[<matplotlib.lines.Line2D at 0x7f518102ab20>,\n",
              " <matplotlib.lines.Line2D at 0x7f518102ac10>]"
            ]
          },
          "metadata": {
            "tags": []
          },
          "execution_count": 7
        },
        {
          "output_type": "display_data",
          "data": {
            "image/png": "[encoded data removed]",
            "text/plain": [
              "<Figure size 432x288 with 1 Axes>"
            ]
          },
          "metadata": {
            "tags": [],
            "needs_background": "light"
          }
        }
      ]
    },
    {
      "cell_type": "markdown",
      "metadata": {
        "id": "Z5vYS9PkJUUa"
      },
      "source": [
        "We can't even see both curves, which is a good sign that we found a good approximation.  To confirm, we could check the maximum error.  "
      ]
    },
    {
      "cell_type": "code",
      "metadata": {
        "id": "uF3bIegkJUUa",
        "outputId": "a38ff072-2a80-4dd9-fcf7-be55110495a4"
      },
      "source": [
        "print(np.max(np.abs(x - x_true(t))))"
      ],
      "execution_count": null,
      "outputs": [
        {
          "output_type": "stream",
          "text": [
            "2.6645352591003757e-15\n"
          ],
          "name": "stdout"
        }
      ]
    },
    {
      "cell_type": "markdown",
      "metadata": {
        "id": "9YMUXPP3JUUb"
      },
      "source": [
        "This error is quite small, so we did indeed find a good approximation.  In general, we can't expect the error to be quite this small, but it turns out that this differential equation was so simple that our difference scheme was actually exact.  Because of that, the only error actually arose from the `solve` function and not our BVP solver.  "
      ]
    },
    {
      "cell_type": "markdown",
      "metadata": {
        "id": "eJkBV641JUUb"
      },
      "source": [
        "## Numerical Solutions - Variations\n",
        "There are a few common variations of this problem that are worth looking at.  First, consider the problem \n",
        "\n",
        "$\\ddot{x} = f(t)$ with $x(0) = x_0$ and $x(T) = x_T$.  \n",
        "\n",
        "Here, $f$ is some function of time (and not of $x$).  We can follow the same approach as before.  We approximate our equation using a difference scheme and get \n",
        "\n",
        "$\\ddot{x}(t) \\approx \\frac{x(t - \\Delta t) - 2x(t) + x(t + \\Delta t)}{\\Delta t^2} \\approx f(t)$.  \n",
        "\n",
        "This is valid for any time $t$, so we can plug in any of our interior times $t_k$.  In general, we get the formula\n",
        "\n",
        "$\\ddot{x}(t_k) \\approx \\frac{x(t_{k-1}) - 2x(t_k) + x(t_{k+1})}{\\Delta t^2} \\approx f(t_k)$, \n",
        "\n",
        "and so we can define our approximations by \n",
        "\n",
        "$\\frac{x_{k-1} - 2x_k + x_{k+1}}{\\Delta t^2} = f(t_k)$.  \n",
        "\n",
        "Following the same approach as before, we get the system of equations \n",
        "\n",
        "$(1 / \\Delta t^2)(x_0 - 2x_1 + x_2) = f(t_1)$, \n",
        "\n",
        "$(1 / \\Delta t^2)(x_1 - 2x_2 + x_3) = f(t_2)$, \n",
        "\n",
        "$\\cdots$\n",
        "\n",
        "$(1 / \\Delta t^2)(x_{N-3} - 2x_{N-2} + x_{N-1}) = f(t_{N-2})$, \n",
        "\n",
        "$(1 / \\Delta t^2)(x_{N-2} - 2x_{N-1} + x_N) = f(t_{N-1})$, \n",
        "\n",
        "and so \n",
        "\n",
        "$(1 / \\Delta t^2)(-2x_1 + x_2) = f(t_1) - x_0/\\Delta t^2$, \n",
        "\n",
        "$(1 / \\Delta t^2)(x_1 - 2x_2 + x_3) = f(t_2)$, \n",
        "\n",
        "$\\cdots$\n",
        "\n",
        "$(1/\\Delta t^2)(x_{N-3} - 2x_{N-2} + x_{N-1})$, \n",
        "\n",
        "$(1/\\Delta t^2)(-2x_{N-1} + x_N) = f(t_{N-1}) - x_T/\\Delta t^2$.\n",
        "\n",
        "This is a linear system of equations, and so we can write it as the matrix equation \n",
        "\n",
        "$\\frac{1}{\\Delta t^2}\\begin{pmatrix} -2 & 1 & 0 & \\cdots & 0 \\\\ 1 & -2 & 1 & \\cdots & 0 \\\\ \\vdots & \\ddots & \\ddots & \\ddots & \\vdots \\\\ 0 & \\cdots & 1 & -2 & 1 \\\\ 0 & \\cdots & 0 & 1 & -2 \\end{pmatrix} \\begin{pmatrix} x_1 \\\\ x_2 \\\\ \\vdots \\\\ x_{N-2} \\\\ x_{N-1} \\end{pmatrix} = \\begin{pmatrix} f(t_1) - x_0/\\Delta t^2 \\\\ f(t_2) \\\\ \\vdots \\\\ f(t_{N-2}) \\\\ f(t_{N-1}) - x_T/\\Delta t^2 \\end{pmatrix}$.  \n",
        "\n",
        "As an example, let's solve the boundary value problem \n",
        "\n",
        "$\\ddot{x} = e^{-2t}$ with $x(0) = 2$ and $x(3) = 10$.  \n",
        "\n",
        "It is easy to check that the exact solution to this boundary value problem is \n",
        "\n",
        "$x(t) = \\frac{1}{4}e^{-2t} + \\left(\\frac{33}{12} - \\frac{1}{12}e^{-6}\\right)t + \\frac{7}{4}$.  \n",
        "\n",
        "We can approximate this solution numerically with the following code (using $\\Delta t = 0.1$): "
      ]
    },
    {
      "cell_type": "code",
      "metadata": {
        "id": "sDwKrjmVJUUb"
      },
      "source": [
        "x0 = 2\n",
        "xT = 10\n",
        "T = 3\n",
        "dt = 0.1\n",
        "t = np.arange(0, T + dt, dt)\n",
        "n = t.size\n",
        "\n",
        "v = -2 * np.ones(n - 2)\n",
        "u = np.ones(n - 3)\n",
        "A = (1 / dt ** 2) * (np.diag(v) + np.diag(u, 1) + np.diag(u, -1))\n",
        "b = np.exp(-2 * t[1:-1])\n",
        "b[0] = b[0] - x0 / dt ** 2\n",
        "b[-1] = b[-1] - xT / dt ** 2\n",
        "b = b.reshape((-1, 1))\n",
        "\n",
        "x_int = scipy.linalg.solve(A, b)\n",
        "\n",
        "x = np.zeros(n)\n",
        "x[0] = x0\n",
        "x[1:-1] = x_int.reshape(-1)\n",
        "x[-1] = xT"
      ],
      "execution_count": null,
      "outputs": []
    },
    {
      "cell_type": "markdown",
      "metadata": {
        "id": "fXqkFM_KJUUe"
      },
      "source": [
        "This code is nearly identical to our last version, except for the construction of `b`.  We can compare this approximation to the true solution to see how we did: "
      ]
    },
    {
      "cell_type": "code",
      "metadata": {
        "id": "xLyOTFesJUUe",
        "outputId": "eb8efa9c-dccb-4589-a5ec-de601965ed97"
      },
      "source": [
        "x_true = lambda t: (1 / 4) * np.exp(-2 * t) + ((33 / 12) - (1 / 12) * np.exp(-6)) * t + (7 / 4)\n",
        "plt.plot(t, x_true(t), 'k', t, x, 'r')"
      ],
      "execution_count": null,
      "outputs": [
        {
          "output_type": "execute_result",
          "data": {
            "text/plain": [
              "[<matplotlib.lines.Line2D at 0x7f5180f360d0>,\n",
              " <matplotlib.lines.Line2D at 0x7f5180f36100>]"
            ]
          },
          "metadata": {
            "tags": []
          },
          "execution_count": 10
        },
        {
          "output_type": "display_data",
          "data": {
            "image/png": "[encoded data removed]",
            "text/plain": [
              "<Figure size 432x288 with 1 Axes>"
            ]
          },
          "metadata": {
            "tags": [],
            "needs_background": "light"
          }
        }
      ]
    },
    {
      "cell_type": "code",
      "metadata": {
        "id": "WbM_0Se_JUUf",
        "outputId": "fe553cf1-cdb8-4ab1-f412-b877c737c847"
      },
      "source": [
        "print(np.max(np.abs(x - x_true(t))))"
      ],
      "execution_count": null,
      "outputs": [
        {
          "output_type": "stream",
          "text": [
            "0.0004453129545041179\n"
          ],
          "name": "stdout"
        }
      ]
    },
    {
      "cell_type": "markdown",
      "metadata": {
        "id": "GaNuvi2_JUUg"
      },
      "source": [
        "The error is still quite small, which suggests that our method is working.  If we shrink $\\Delta t$ by a factor of 10 and then repeat this process, we get "
      ]
    },
    {
      "cell_type": "code",
      "metadata": {
        "id": "1OxWFVIdJUUg",
        "outputId": "9184df39-e968-4288-e912-4f5ca9c5fd66"
      },
      "source": [
        "x0 = 2\n",
        "xT = 10\n",
        "T = 3\n",
        "dt = 0.01\n",
        "t = np.arange(0, T + dt, dt)\n",
        "n = t.size\n",
        "\n",
        "v = -2 * np.ones(n - 2)\n",
        "u = np.ones(n - 3)\n",
        "A = (1 / dt ** 2) * (np.diag(v) + np.diag(u, 1) + np.diag(u, -1))\n",
        "b = np.exp(-2 * t[1:-1])\n",
        "b[0] = b[0] - x0 / dt ** 2\n",
        "b[-1] = b[-1] - xT / dt ** 2\n",
        "b = b.reshape((-1, 1))\n",
        "\n",
        "x_int = scipy.linalg.solve(A, b)\n",
        "\n",
        "x = np.zeros(n)\n",
        "x[0] = x0\n",
        "x[1:-1] = x_int.reshape(-1)\n",
        "x[-1] = xT\n",
        "\n",
        "print(np.max(np.abs(x - x_true(t))))"
      ],
      "execution_count": null,
      "outputs": [
        {
          "output_type": "stream",
          "text": [
            "4.461950123157976e-06\n"
          ],
          "name": "stdout"
        }
      ]
    },
    {
      "cell_type": "markdown",
      "metadata": {
        "id": "YjkpUibiJUUh"
      },
      "source": [
        "Notice that shrinking $\\Delta t$ by a factor of 10 decreased the error by a factor of $10^2$.  This suggests that the method is second order accurate, which makes sense since we used a second order difference scheme to approximate $\\ddot{x}$.  "
      ]
    },
    {
      "cell_type": "markdown",
      "metadata": {
        "id": "OfSf-MndJUUh"
      },
      "source": [
        "Now consider the problem \n",
        "\n",
        "$\\ddot{x} + x = 0$ with $x(0) = x_0$ and $x(T) = x_T$.  \n",
        "\n",
        "In particular, if we choose $x_0 = 0$ then we know that (as long as $\\sin(T) \\neq 0$) the solution is \n",
        "\n",
        "$x(t) = \\frac{x_T}{\\sin(T)}\\sin(t)$.  \n",
        "\n",
        "We can follow the same approach as before.  If we approximate our differential equation with a difference scheme then we find that \n",
        "\n",
        "$\\ddot{x}(t) + x(t) \\approx \\frac{x(t - \\Delta t) - 2x(t) + x(t + \\Delta t)}{\\Delta t^2} + x(t) \\approx 0$.  \n",
        "\n",
        "This is valid for any time $t$, so we can plug in any of our interior times $t_k$.  In general, we get the formula \n",
        "\n",
        "$\\frac{x(t_{k-1}) - 2x(t_k) + x(t_{k+1})}{\\Delta t^2} + x(t_k) \\approx 0$, \n",
        "\n",
        "and so we can define our approximations by \n",
        "\n",
        "$\\frac{x_{k-1} - 2x_k + x_{k+1}}{\\Delta t^2} + x_k = 0$.  \n",
        "\n",
        "Following the same approach as before, we get the system of equations \n",
        "\n",
        "$(1 / \\Delta t^2)(x_0 - 2x_1 + x_2) + x_1 = 0$, \n",
        "\n",
        "$(1 / \\Delta t^2)(x_1 - 2x_2 + x_3) + x_2 = 0$, \n",
        "\n",
        "$\\cdots$\n",
        "\n",
        "$(1 / \\Delta t^2)(x_{N-3} - 2x_{N-2} + x_{N-1}) + x_{N-2} = 0$, \n",
        "\n",
        "$(1 / \\Delta t^2)(x_{N-2} - 2x_{N-1} + x_N) + x_{N-1} = 0$, \n",
        "\n",
        "and so\n",
        "\n",
        "$(1 / \\Delta t^2)(-2x_1 + x_2) + x_1 = -x_0 / \\Delta t^2$,\n",
        "\n",
        "$(1 / \\Delta t^2)(x_1 - 2x_2 + x_3) + x_2 = 0$, \n",
        "\n",
        "$\\cdots$\n",
        "\n",
        "$(1 / \\Delta t^2)(x_{N-3} - 2x_{N-2} + x_{N-1}) + x_{N-2} = 0$, \n",
        "\n",
        "$(1 / \\Delta t^2)(x_{N-2} - 2x_{N-1}) + x_{N-1} = -x_T/\\Delta t^2$.  \n",
        "\n",
        "This is a linear system of equations, and so we can write it as the matrix equation\n",
        "\n",
        "$\\frac{1}{\\Delta t^2}\\begin{pmatrix} -2 & 1 & 0 & \\cdots & 0 \\\\ 1 & -2 & 1 & \\cdots & 0 \\\\ \\vdots & \\ddots & \\ddots & \\ddots & \\vdots \\\\ 0 & \\cdots & 1 & -2 & 1 \\\\ 0 & \\cdots & 0 & 1 & -2 \\end{pmatrix}\\begin{pmatrix} x_1 \\\\ x_2 \\\\ \\vdots \\\\ x_{N-2} \\\\ x_{N-1} \\end{pmatrix} + \\begin{pmatrix} 1 & 0 & 0 & \\cdots & 0 \\\\ 0 & 1 & 0 & \\cdots & 0 \\\\ \\vdots & \\ddots & \\ddots & \\ddots & \\vdots \\\\ 0 & 0 & \\cdots & 1 & 0 \\\\ 0 & 0 & \\cdots & 0 & 1 \\end{pmatrix} \\begin{pmatrix} x_1 \\\\ x_2 \\\\ \\vdots \\\\ x_{N-2} \\\\ x_{N-1} \\end{pmatrix} = \\begin{pmatrix} -x0 / \\Delta t^2 \\\\ 0 \\\\ \\vdots \\\\ 0 \\\\ -x_T/\\Delta t^2 \\end{pmatrix}$.  \n",
        "\n",
        "Let's name the first matrix (including the $1/\\Delta t^2$ factor) $A$.  The second matrix is the $(N - 1)\\times (N - 1)$ identity matrix.  (That is, it has 1's down the main diagonal and zeros everywhere else.)  The identity matrix is usually denoted by an $I$, so we have the equation \n",
        "\n",
        "$A\\mathbf{x} + I\\mathbf{x} = \\mathbf{b}$, \n",
        "\n",
        "which we can simplify to \n",
        "\n",
        "$(A + I)\\mathbf{x} = \\mathbf{b}$.  \n",
        "\n",
        "As an example, let's implement this method in python with $x_0 = 0$, $x_T = 5$ and $T = 3$, using $\\Delta t = 0.1$).  We get "
      ]
    },
    {
      "cell_type": "code",
      "metadata": {
        "id": "2ROzjSzzJUUi",
        "outputId": "caf53c4d-033e-4789-df38-25d9a884fe42"
      },
      "source": [
        "x0 = 0\n",
        "xT = 5\n",
        "T = 3\n",
        "dt = 0.1\n",
        "t = np.arange(0, T + dt, dt)\n",
        "n = t.size\n",
        "\n",
        "v = -2 * np.ones(n - 2)\n",
        "u = np.ones(n - 3)\n",
        "A = (1 / dt ** 2) * (np.diag(v) + np.diag(u, 1) + np.diag(u, -1))\n",
        "I = np.eye(n - 2)\n",
        "b = np.zeros(n - 2)\n",
        "b[0] = -x0 / dt ** 2\n",
        "b[-1] = -xT / dt ** 2\n",
        "b = b.reshape((-1, 1))\n",
        "\n",
        "x_int = scipy.linalg.solve(A + I, b)\n",
        "\n",
        "x = np.zeros(n)\n",
        "x[0] = x0\n",
        "x[1:-1] = x_int.reshape(-1)\n",
        "x[-1] = xT\n",
        "\n",
        "x_true = lambda t: (xT / np.sin(T)) * np.sin(t)\n",
        "plt.plot(t, x_true(t), 'k', t, x, 'r')"
      ],
      "execution_count": null,
      "outputs": [
        {
          "output_type": "execute_result",
          "data": {
            "text/plain": [
              "[<matplotlib.lines.Line2D at 0x7f5180f217f0>,\n",
              " <matplotlib.lines.Line2D at 0x7f5180f21820>]"
            ]
          },
          "metadata": {
            "tags": []
          },
          "execution_count": 13
        },
        {
          "output_type": "display_data",
          "data": {
            "image/png": "[encoded data removed]",
            "text/plain": [
              "<Figure size 432x288 with 1 Axes>"
            ]
          },
          "metadata": {
            "tags": [],
            "needs_background": "light"
          }
        }
      ]
    },
    {
      "cell_type": "code",
      "metadata": {
        "id": "G4cWgacJJUUi",
        "outputId": "a4fa17fd-a689-428f-d022-0853f72719d3"
      },
      "source": [
        "print(np.max(np.abs(x - x_true(t))))"
      ],
      "execution_count": null,
      "outputs": [
        {
          "output_type": "stream",
          "text": [
            "0.3146173340071101\n"
          ],
          "name": "stdout"
        }
      ]
    },
    {
      "cell_type": "markdown",
      "metadata": {
        "id": "11_FZRUoJUUj"
      },
      "source": [
        "This is a larger error than before, but we can still improve it by reducing $\\Delta t$.  In particular, if we reduce $\\Delta t$ by a factor of ten then we have "
      ]
    },
    {
      "cell_type": "code",
      "metadata": {
        "id": "fMZvywAwJUUj",
        "outputId": "b8f7433d-c36a-495c-c973-61349088db84"
      },
      "source": [
        "x0 = 0\n",
        "xT = 5\n",
        "T = 3\n",
        "dt = 0.01\n",
        "t = np.arange(0, T + dt, dt)\n",
        "n = t.size\n",
        "\n",
        "v = -2 * np.ones(n - 2)\n",
        "u = np.ones(n - 3)\n",
        "A = (1 / dt ** 2) * (np.diag(v) + np.diag(u, 1) + np.diag(u, -1))\n",
        "I = np.eye(n - 2)\n",
        "b = np.zeros(n - 2)\n",
        "b[0] = -x0 / dt ** 2\n",
        "b[-1] = -xT / dt ** 2\n",
        "b = b.reshape((-1, 1))\n",
        "\n",
        "x_int = scipy.linalg.solve(A + I, b)\n",
        "\n",
        "x = np.zeros(n)\n",
        "x[0] = x0\n",
        "x[1:-1] = x_int.reshape(-1)\n",
        "x[-1] = xT\n",
        "\n",
        "print(np.max(np.abs(x - x_true(t))))"
      ],
      "execution_count": null,
      "outputs": [
        {
          "output_type": "stream",
          "text": [
            "0.003115144797007474\n"
          ],
          "name": "stdout"
        }
      ]
    },
    {
      "cell_type": "markdown",
      "metadata": {
        "id": "8Muv_EwJJUUj"
      },
      "source": [
        "The error went down by a factor of $10^2$, which confirms that this is a second order accurate method.  "
      ]
    },
    {
      "cell_type": "markdown",
      "metadata": {
        "id": "kRGus5A8JUUj"
      },
      "source": [
        "## Problems With No Solution\n",
        "Remember that not all boundary value problems have a solution.  In particular, we saw that the problem \n",
        "\n",
        "$\\ddot{x} + x = 0$ with $x(0) = x_0$ and $x(\\pi) = 5$\n",
        "\n",
        "does not have a solution.  What happens when we try to solve this problem using our numerical method?  "
      ]
    },
    {
      "cell_type": "code",
      "metadata": {
        "id": "0O4vXaypJUUj"
      },
      "source": [
        "x0 = 0\n",
        "xT = 5\n",
        "T = np.pi\n",
        "dt = 0.1\n",
        "t = np.arange(0, T + dt, dt)\n",
        "n = t.size\n",
        "\n",
        "v = -2 * np.ones(n - 2)\n",
        "u = np.ones(n - 3)\n",
        "A = (1 / dt ** 2) * (np.diag(v) + np.diag(u, 1) + np.diag(u, -1))\n",
        "I = np.eye(n - 2)\n",
        "b = np.zeros(n - 2)\n",
        "b[0] = -x0 / dt ** 2\n",
        "b[-1] = -xT / dt ** 2\n",
        "b = b.reshape((-1, 1))\n",
        "\n",
        "x_int = scipy.linalg.solve(A + I, b)\n",
        "\n",
        "x = np.zeros(n)\n",
        "x[0] = x0\n",
        "x[1:-1] = x_int.reshape(-1)\n",
        "x[-1] = xT"
      ],
      "execution_count": null,
      "outputs": []
    },
    {
      "cell_type": "markdown",
      "metadata": {
        "id": "1Qqkuf-lJUUk"
      },
      "source": [
        "It no longer makes sense to calculate the error, but we can still plot our approximate solution.  "
      ]
    },
    {
      "cell_type": "code",
      "metadata": {
        "id": "JIydMrvWJUUk",
        "outputId": "5ecdcbd9-3ed6-49ad-d0c3-167f8934ddee"
      },
      "source": [
        "plt.plot(t, x, 'r')"
      ],
      "execution_count": null,
      "outputs": [
        {
          "output_type": "execute_result",
          "data": {
            "text/plain": [
              "[<matplotlib.lines.Line2D at 0x7f517e466670>]"
            ]
          },
          "metadata": {
            "tags": []
          },
          "execution_count": 17
        },
        {
          "output_type": "display_data",
          "data": {
            "image/png": "[encoded data removed]",
            "text/plain": [
              "<Figure size 432x288 with 1 Axes>"
            ]
          },
          "metadata": {
            "tags": [],
            "needs_background": "light"
          }
        }
      ]
    },
    {
      "cell_type": "markdown",
      "metadata": {
        "id": "FYi1FYZoJUUk"
      },
      "source": [
        "We got an answer, and it even looks like a sin curve of some variety, but remember that there isn't supposed to be a solution.  What is going on here?  To see the problem, let's try using a smaller $\\Delta t$.  If there was a unique solution, we would expect to get closer to it as we made $\\Delta t$ smaller.  "
      ]
    },
    {
      "cell_type": "code",
      "metadata": {
        "id": "x72UNntKJUUk",
        "outputId": "3ea2670a-8391-4302-f0a2-2dff8326041a"
      },
      "source": [
        "x0 = 0\n",
        "xT = 5\n",
        "T = np.pi\n",
        "dt = 0.01\n",
        "t = np.arange(0, T + dt, dt)\n",
        "n = t.size\n",
        "\n",
        "v = -2 * np.ones(n - 2)\n",
        "u = np.ones(n - 3)\n",
        "A = (1 / dt ** 2) * (np.diag(v) + np.diag(u, 1) + np.diag(u, -1))\n",
        "I = np.eye(n - 2)\n",
        "b = np.zeros(n - 2)\n",
        "b[0] = -x0 / dt ** 2\n",
        "b[-1] = -xT / dt ** 2\n",
        "b = b.reshape((-1, 1))\n",
        "\n",
        "x_int = scipy.linalg.solve(A + I, b)\n",
        "\n",
        "x = np.zeros(n)\n",
        "x[0] = x0\n",
        "x[1:-1] = x_int.reshape(-1)\n",
        "x[-1] = xT\n",
        "\n",
        "plt.plot(t, x, 'r')"
      ],
      "execution_count": null,
      "outputs": [
        {
          "output_type": "execute_result",
          "data": {
            "text/plain": [
              "[<matplotlib.lines.Line2D at 0x7f517e43dee0>]"
            ]
          },
          "metadata": {
            "tags": []
          },
          "execution_count": 18
        },
        {
          "output_type": "display_data",
          "data": {
            "image/png": "[encoded data removed]",
            "text/plain": [
              "<Figure size 432x288 with 1 Axes>"
            ]
          },
          "metadata": {
            "tags": [],
            "needs_background": "light"
          }
        }
      ]
    },
    {
      "cell_type": "markdown",
      "metadata": {
        "id": "eJpK_ZawJUUl"
      },
      "source": [
        "Notice the scale on the $y$ axis.  Our approximations are not getting closer to anything.  Instead, they are growing infinitely large as we shrink $\\Delta t$.  This is typical behavior when the BVP doesn't have a solution.  The numerical method will always give you an answer, but those answers won't converge as you shrink $\\Delta t$.  "
      ]
    },
    {
      "cell_type": "markdown",
      "metadata": {
        "id": "baOpzgqLJUUl"
      },
      "source": [
        "## Problems With Many Solutions\n",
        "Similarly, we know that the BVP \n",
        "\n",
        "$\\ddot{x} + x = 0$ with $x(0) = 0$ and $x(\\pi) = 0$ \n",
        "\n",
        "has infinitely many solutions.  If we try to solve this with our numerical method, we get "
      ]
    },
    {
      "cell_type": "code",
      "metadata": {
        "id": "rLiX3umiJUUl",
        "outputId": "0a1fb907-ef0f-4ce4-d1f1-5c2b2ee634aa"
      },
      "source": [
        "x0 = 0\n",
        "xT = 0\n",
        "T = np.pi\n",
        "dt = 0.1\n",
        "t = np.arange(0, T + dt, dt)\n",
        "n = t.size\n",
        "\n",
        "v = -2 * np.ones(n - 2)\n",
        "u = np.ones(n - 3)\n",
        "A = (1 / dt ** 2) * (np.diag(v) + np.diag(u, 1) + np.diag(u, -1))\n",
        "I = np.eye(n - 2)\n",
        "b = np.zeros(n - 2)\n",
        "b[0] = -x0 / dt ** 2\n",
        "b[-1] = -xT / dt ** 2\n",
        "b = b.reshape((-1, 1))\n",
        "\n",
        "x_int = scipy.linalg.solve(A + I, b)\n",
        "\n",
        "x = np.zeros(n)\n",
        "x[0] = x0\n",
        "x[1:-1] = x_int.reshape(-1)\n",
        "x[-1] = xT\n",
        "\n",
        "plt.plot(t, x, 'r')"
      ],
      "execution_count": null,
      "outputs": [
        {
          "output_type": "execute_result",
          "data": {
            "text/plain": [
              "[<matplotlib.lines.Line2D at 0x7f517df1d250>]"
            ]
          },
          "metadata": {
            "tags": []
          },
          "execution_count": 19
        },
        {
          "output_type": "display_data",
          "data": {
            "image/png": "[encoded data removed]",
            "text/plain": [
              "<Figure size 432x288 with 1 Axes>"
            ]
          },
          "metadata": {
            "tags": [],
            "needs_background": "light"
          }
        }
      ]
    },
    {
      "cell_type": "markdown",
      "metadata": {
        "id": "r1bnD7hMJUUl"
      },
      "source": [
        "In this case, we get $x(t) = 0$, which really is a solution to our differential equation.  It turns out that we will still get the same answer no matter how we change $\\Delta t$.  This behavior is a little less common.  In general, if your BVP has many solutions, then the numerical solutions might converge to one of those solutions or they might not converge at all.  "
      ]
    }
  ]
}